{
 "cells": [
  {
   "cell_type": "markdown",
   "id": "3e73d38f",
   "metadata": {
    "id": "gsqKM5DLlLRm",
    "papermill": {
     "duration": 0.022132,
     "end_time": "2023-05-15T16:10:37.010302",
     "exception": false,
     "start_time": "2023-05-15T16:10:36.988170",
     "status": "completed"
    },
    "tags": []
   },
   "source": [
    "# Machine Learning - Practical 2 - Linear Regression with Pytorch\n",
    "\n",
    "Names: {YOUR NAMES}  \n",
    "Summer Term 2023   \n",
    "Due Date: Tuesday, May 16, 2pm"
   ]
  },
  {
   "cell_type": "markdown",
   "id": "c46bff8c",
   "metadata": {
    "id": "eaoMWjbZdCLf",
    "papermill": {
     "duration": 0.020589,
     "end_time": "2023-05-15T16:10:37.051879",
     "exception": false,
     "start_time": "2023-05-15T16:10:37.031290",
     "status": "completed"
    },
    "tags": []
   },
   "source": [
    "# IMPORTANT SUBMISSION INSTRUCTIONS\n",
    "\n",
    "You should work on the exercises in groups of 2-3. It is on you how you collaborate, but please make sure that everyone contributes equally and also that you understand all the solutions.\n",
    "You will be asked to present your group's solution in the tutorials and you should be well prepared to present any part of it.\n",
    "\n",
    "- When you've completed the exercise, download the notebook and rename it to ```<surname1>_<surname2>_<surname3>.ipynb```.\n",
    "- Only submit the Jupyter Notebook (ipynb file). No other file is required. Upload it on `Stud.IP` -> `Machine learning 1` -> `Files` -> `Submission of Homework 2`.\n",
    "- Make only one submission of the exercise per group.\n",
    "- The deadline is strict.\n",
    "- In addition to the submissions, every member of your group should be prepared to present the exercise in the tutorials.\n",
    "\n",
    "Implementation\n",
    "- Do not change the cells which are marked as \"DO NOT CHANGE\", similarly write your solution to the marked cells."
   ]
  },
  {
   "cell_type": "markdown",
   "id": "54da4f60",
   "metadata": {
    "papermill": {
     "duration": 0.02239,
     "end_time": "2023-05-15T16:10:37.095596",
     "exception": false,
     "start_time": "2023-05-15T16:10:37.073206",
     "status": "completed"
    },
    "tags": []
   },
   "source": [
    "## How to work on the exercise?\n",
    "\n",
    "You will need access to a machine with a GPU to properly work on the exercises. We recommend using [Kaggle](https://www.kaggle.com/), which offers convenient access to a GPU and has all the dependencies that we need preinstalled ([here](https://gist.github.com/anwai98/444d3ff11c1365f2c610579d5df0830b) are some initial steps to work with Kaggle Notebooks). You can load this notebook on kaggle via `File` -> `Import Noteboook` -> `Browse and  Import`."
   ]
  },
  {
   "cell_type": "markdown",
   "id": "04d3c2b1",
   "metadata": {
    "id": "A8RW2QHHFQYe",
    "papermill": {
     "duration": 0.020877,
     "end_time": "2023-05-15T16:10:37.138690",
     "exception": false,
     "start_time": "2023-05-15T16:10:37.117813",
     "status": "completed"
    },
    "tags": []
   },
   "source": [
    "# Introduction\n",
    "\n",
    "In this task you will get to know the basic tools used by the machine learning community.\n",
    "Later, we will build a logistic regression model with PyTorch and perform training and prediction the linear regression problem from the previous practical."
   ]
  },
  {
   "cell_type": "markdown",
   "id": "27883063",
   "metadata": {
    "id": "Dhw-7EA-10Xm",
    "papermill": {
     "duration": 0.021893,
     "end_time": "2023-05-15T16:10:37.182086",
     "exception": false,
     "start_time": "2023-05-15T16:10:37.160193",
     "status": "completed"
    },
    "tags": []
   },
   "source": [
    "## Tutorials\n",
    "\n",
    "Some python libraries are required to accomplish the tasks assigned in this homework. If you feel like you need to follow a tutorial before, feel free to do so:"
   ]
  },
  {
   "cell_type": "markdown",
   "id": "77ca8812",
   "metadata": {
    "id": "VMyEloGz__BZ",
    "papermill": {
     "duration": 0.02176,
     "end_time": "2023-05-15T16:10:37.226001",
     "exception": false,
     "start_time": "2023-05-15T16:10:37.204241",
     "status": "completed"
    },
    "tags": []
   },
   "source": [
    "*   [PyTorch Tutorial](https://pytorch.org/tutorials/)\n",
    "*   [Seaborn Tutorial](https://seaborn.pydata.org/tutorial.html)\n"
   ]
  },
  {
   "cell_type": "markdown",
   "id": "a533bf37",
   "metadata": {
    "id": "ActTWMg4XZ5v",
    "papermill": {
     "duration": 0.022197,
     "end_time": "2023-05-15T16:10:37.269772",
     "exception": false,
     "start_time": "2023-05-15T16:10:37.247575",
     "status": "completed"
    },
    "tags": []
   },
   "source": [
    "## Imports\n",
    "\n",
    "Jupyter Notebook provides the possibility of using libraries, functions and variables globally. This means, once you import the libraries, functions, etc. you won't have to import them again in the next cell. However, if for any reason you end the session (crash, timeout, etc.), then you'll have to run this cell to have your libraries imported again. So, let's go ahead and import whatever we need in this homework assignment."
   ]
  },
  {
   "cell_type": "code",
   "execution_count": 1,
   "id": "ede2cf86",
   "metadata": {
    "execution": {
     "iopub.execute_input": "2023-05-15T16:10:37.316034Z",
     "iopub.status.busy": "2023-05-15T16:10:37.315435Z",
     "iopub.status.idle": "2023-05-15T16:10:42.473138Z",
     "shell.execute_reply": "2023-05-15T16:10:42.472084Z"
    },
    "id": "LArjND15dGNh",
    "papermill": {
     "duration": 5.18495,
     "end_time": "2023-05-15T16:10:42.477017",
     "exception": false,
     "start_time": "2023-05-15T16:10:37.292067",
     "status": "completed"
    },
    "tags": []
   },
   "outputs": [
    {
     "name": "stderr",
     "output_type": "stream",
     "text": [
      "/opt/conda/lib/python3.10/site-packages/scipy/__init__.py:146: UserWarning: A NumPy version >=1.16.5 and <1.23.0 is required for this version of SciPy (detected version 1.23.5\n",
      "  warnings.warn(f\"A NumPy version >={np_minversion} and <{np_maxversion}\"\n"
     ]
    }
   ],
   "source": [
    "import random\n",
    "import numpy as np\n",
    "import matplotlib as mpl\n",
    "import matplotlib.pyplot as plt\n",
    "import seaborn as sns\n",
    "import pandas as pd\n",
    "import torch\n",
    "import pathlib\n",
    "from torchvision import datasets, transforms\n",
    "from torch.utils.data import DataLoader\n",
    "from torch.utils.data import sampler\n",
    "from sklearn.model_selection import train_test_split"
   ]
  },
  {
   "cell_type": "code",
   "execution_count": 2,
   "id": "4569459f",
   "metadata": {
    "execution": {
     "iopub.execute_input": "2023-05-15T16:10:42.530135Z",
     "iopub.status.busy": "2023-05-15T16:10:42.528069Z",
     "iopub.status.idle": "2023-05-15T16:10:42.534007Z",
     "shell.execute_reply": "2023-05-15T16:10:42.533065Z"
    },
    "papermill": {
     "duration": 0.032797,
     "end_time": "2023-05-15T16:10:42.536283",
     "exception": false,
     "start_time": "2023-05-15T16:10:42.503486",
     "status": "completed"
    },
    "tags": []
   },
   "outputs": [],
   "source": [
    "torch.set_default_dtype(torch.float64) \n",
    "#is a function call in the PyTorch library that sets the default data type for all tensor operations to 64-bit floating point numbers "
   ]
  },
  {
   "cell_type": "code",
   "execution_count": 3,
   "id": "5f499ec3",
   "metadata": {
    "execution": {
     "iopub.execute_input": "2023-05-15T16:10:42.584061Z",
     "iopub.status.busy": "2023-05-15T16:10:42.583102Z",
     "iopub.status.idle": "2023-05-15T16:10:42.656554Z",
     "shell.execute_reply": "2023-05-15T16:10:42.655429Z"
    },
    "papermill": {
     "duration": 0.09947,
     "end_time": "2023-05-15T16:10:42.658597",
     "exception": false,
     "start_time": "2023-05-15T16:10:42.559127",
     "status": "completed"
    },
    "tags": []
   },
   "outputs": [
    {
     "name": "stdout",
     "output_type": "stream",
     "text": [
      "True\n"
     ]
    }
   ],
   "source": [
    "print(torch.cuda.is_available())\n"
   ]
  },
  {
   "cell_type": "markdown",
   "id": "43c9b02e",
   "metadata": {
    "id": "gpqN-O0F_atv",
    "papermill": {
     "duration": 0.02248,
     "end_time": "2023-05-15T16:10:42.703415",
     "exception": false,
     "start_time": "2023-05-15T16:10:42.680935",
     "status": "completed"
    },
    "tags": []
   },
   "source": [
    "## System checks\n",
    "\n",
    "Perform some rudimentary system checks. Do we have a CUDA-capable device? Multiple? Is CuDNN active (huge speedups for some networks)?"
   ]
  },
  {
   "cell_type": "code",
   "execution_count": 4,
   "id": "198c1d8d",
   "metadata": {
    "execution": {
     "iopub.execute_input": "2023-05-15T16:10:42.750612Z",
     "iopub.status.busy": "2023-05-15T16:10:42.749766Z",
     "iopub.status.idle": "2023-05-15T16:10:42.776780Z",
     "shell.execute_reply": "2023-05-15T16:10:42.775703Z"
    },
    "id": "b1r5yPHY_hsl",
    "papermill": {
     "duration": 0.052932,
     "end_time": "2023-05-15T16:10:42.778930",
     "exception": false,
     "start_time": "2023-05-15T16:10:42.725998",
     "status": "completed"
    },
    "tags": []
   },
   "outputs": [
    {
     "data": {
      "text/plain": [
       "(True, True, 1)"
      ]
     },
     "execution_count": 4,
     "metadata": {},
     "output_type": "execute_result"
    }
   ],
   "source": [
    "torch.cuda.is_available(), torch.backends.cudnn.is_available(), torch.cuda.device_count()\n"
   ]
  },
  {
   "attachments": {
    "12a8892f-754f-4514-afe4-cb27b8b982f2.png": {
     "image/png": "[encoded data removed]"
    }
   },
   "cell_type": "markdown",
   "id": "2c9027bb",
   "metadata": {
    "id": "UZD5IRFWZX5u",
    "papermill": {
     "duration": 0.022554,
     "end_time": "2023-05-15T16:10:42.824382",
     "exception": false,
     "start_time": "2023-05-15T16:10:42.801828",
     "status": "completed"
    },
    "tags": []
   },
   "source": [
    "If you see now that now that there is no CUDA-capable device available, you have to activate the GPU.\n",
    "\n",
    "Click the top-right corner menu `|<` -> `Settings` -> `Accelerator` -> Select `GPU` as Hardware accelerator.\n",
    "\n",
    "![image.png](attachment:12a8892f-754f-4514-afe4-cb27b8b982f2.png)"
   ]
  },
  {
   "cell_type": "markdown",
   "id": "cafd2b6c",
   "metadata": {
    "id": "olx30IjdagoU",
    "papermill": {
     "duration": 0.022934,
     "end_time": "2023-05-15T16:10:42.870013",
     "exception": false,
     "start_time": "2023-05-15T16:10:42.847079",
     "status": "completed"
    },
    "tags": []
   },
   "source": [
    "Now check the availability again (after re-running the imports)"
   ]
  },
  {
   "cell_type": "code",
   "execution_count": 5,
   "id": "1f7209d2",
   "metadata": {
    "execution": {
     "iopub.execute_input": "2023-05-15T16:10:42.917729Z",
     "iopub.status.busy": "2023-05-15T16:10:42.917333Z",
     "iopub.status.idle": "2023-05-15T16:10:42.927689Z",
     "shell.execute_reply": "2023-05-15T16:10:42.926764Z"
    },
    "id": "MMCbCpAFao6q",
    "papermill": {
     "duration": 0.036359,
     "end_time": "2023-05-15T16:10:42.929733",
     "exception": false,
     "start_time": "2023-05-15T16:10:42.893374",
     "status": "completed"
    },
    "scrolled": true,
    "tags": []
   },
   "outputs": [
    {
     "data": {
      "text/plain": [
       "(True, True, 1, 0)"
      ]
     },
     "execution_count": 5,
     "metadata": {},
     "output_type": "execute_result"
    }
   ],
   "source": [
    "torch.cuda.is_available(), torch.backends.cudnn.is_available(), torch.cuda.device_count(), torch.cuda.current_device()"
   ]
  },
  {
   "cell_type": "markdown",
   "id": "01a880e1",
   "metadata": {
    "id": "zbFbqGzT_ksO",
    "papermill": {
     "duration": 0.022366,
     "end_time": "2023-05-15T16:10:42.974690",
     "exception": false,
     "start_time": "2023-05-15T16:10:42.952324",
     "status": "completed"
    },
    "tags": []
   },
   "source": [
    "Choose your device for computation. CPU or one of your CUDA devices?"
   ]
  },
  {
   "cell_type": "code",
   "execution_count": 6,
   "id": "5cf8923d",
   "metadata": {
    "execution": {
     "iopub.execute_input": "2023-05-15T16:10:43.022309Z",
     "iopub.status.busy": "2023-05-15T16:10:43.021916Z",
     "iopub.status.idle": "2023-05-15T16:10:43.028210Z",
     "shell.execute_reply": "2023-05-15T16:10:43.027261Z"
    },
    "id": "dk3DvooB_nFx",
    "papermill": {
     "duration": 0.032995,
     "end_time": "2023-05-15T16:10:43.030761",
     "exception": false,
     "start_time": "2023-05-15T16:10:42.997766",
     "status": "completed"
    },
    "tags": []
   },
   "outputs": [
    {
     "name": "stdout",
     "output_type": "stream",
     "text": [
      "Using device cuda:0\n"
     ]
    }
   ],
   "source": [
    "# DO NOT CHANGE\n",
    "use_cuda = True\n",
    "use_cuda = False if not use_cuda else torch.cuda.is_available()\n",
    "device = torch.device('cuda:0' if use_cuda else 'cpu')\n",
    "torch.cuda.get_device_name(device) if use_cuda else 'cpu'\n",
    "print('Using device', device)"
   ]
  },
  {
   "cell_type": "markdown",
   "id": "191bd345",
   "metadata": {
    "id": "kGmTWnQYq2Ug",
    "papermill": {
     "duration": 0.023224,
     "end_time": "2023-05-15T16:10:43.076763",
     "exception": false,
     "start_time": "2023-05-15T16:10:43.053539",
     "status": "completed"
    },
    "tags": []
   },
   "source": [
    "# PyTorch: Getting to know Tensors\n",
    "\n",
    "PyTorch is a library for deep learning on arbitray datasets, including irregular input data such as graphs, point clouds and manifolds. \n",
    "\n",
    "In this short tutorial we will explore some of its features to handle data in tensors. \n",
    "If you want, you can look into more [detailed PyTorch tutorials](https://pytorch.org/tutorials/) online."
   ]
  },
  {
   "cell_type": "code",
   "execution_count": 7,
   "id": "2274ce43",
   "metadata": {
    "execution": {
     "iopub.execute_input": "2023-05-15T16:10:43.125387Z",
     "iopub.status.busy": "2023-05-15T16:10:43.124374Z",
     "iopub.status.idle": "2023-05-15T16:10:43.136987Z",
     "shell.execute_reply": "2023-05-15T16:10:43.135877Z"
    },
    "id": "gadPm82Ce7NA",
    "papermill": {
     "duration": 0.039647,
     "end_time": "2023-05-15T16:10:43.139554",
     "exception": false,
     "start_time": "2023-05-15T16:10:43.099907",
     "status": "completed"
    },
    "tags": []
   },
   "outputs": [
    {
     "name": "stdout",
     "output_type": "stream",
     "text": [
      "10\n"
     ]
    }
   ],
   "source": [
    "# create a numpy array\n",
    "numpyarray = np.arange(10).reshape(2, 5)\n",
    "print(numpyarray.size)\n",
    "# convert to pytorch tensor\n",
    "a = torch.from_numpy(numpyarray)"
   ]
  },
  {
   "cell_type": "markdown",
   "id": "8ab5d80a",
   "metadata": {
    "id": "aUpPhyFZfMWM",
    "papermill": {
     "duration": 0.023815,
     "end_time": "2023-05-15T16:10:43.187348",
     "exception": false,
     "start_time": "2023-05-15T16:10:43.163533",
     "status": "completed"
    },
    "tags": []
   },
   "source": [
    "Let us find out what the properties of this tensor 'a' are."
   ]
  },
  {
   "cell_type": "code",
   "execution_count": 8,
   "id": "6ef0ad1e",
   "metadata": {
    "execution": {
     "iopub.execute_input": "2023-05-15T16:10:43.237726Z",
     "iopub.status.busy": "2023-05-15T16:10:43.237000Z",
     "iopub.status.idle": "2023-05-15T16:10:43.268720Z",
     "shell.execute_reply": "2023-05-15T16:10:43.267393Z"
    },
    "id": "DbD1a1PEfu-5",
    "papermill": {
     "duration": 0.059791,
     "end_time": "2023-05-15T16:10:43.271139",
     "exception": false,
     "start_time": "2023-05-15T16:10:43.211348",
     "status": "completed"
    },
    "tags": []
   },
   "outputs": [
    {
     "name": "stdout",
     "output_type": "stream",
     "text": [
      "tensor([[0, 1, 2, 3, 4],\n",
      "        [5, 6, 7, 8, 9]])\n"
     ]
    }
   ],
   "source": [
    "# TODO print the tensor\n",
    "print(a)"
   ]
  },
  {
   "cell_type": "code",
   "execution_count": 9,
   "id": "b5613440",
   "metadata": {
    "execution": {
     "iopub.execute_input": "2023-05-15T16:10:43.321552Z",
     "iopub.status.busy": "2023-05-15T16:10:43.320998Z",
     "iopub.status.idle": "2023-05-15T16:10:43.326618Z",
     "shell.execute_reply": "2023-05-15T16:10:43.325592Z"
    },
    "id": "2SK56a7Rf7w1",
    "papermill": {
     "duration": 0.033232,
     "end_time": "2023-05-15T16:10:43.328956",
     "exception": false,
     "start_time": "2023-05-15T16:10:43.295724",
     "status": "completed"
    },
    "tags": []
   },
   "outputs": [
    {
     "name": "stdout",
     "output_type": "stream",
     "text": [
      "Type of a: <class 'torch.Tensor'>\n"
     ]
    }
   ],
   "source": [
    "# TODO print its type\n",
    "print(\"Type of a:\", type(a))"
   ]
  },
  {
   "cell_type": "code",
   "execution_count": 10,
   "id": "948352ea",
   "metadata": {
    "execution": {
     "iopub.execute_input": "2023-05-15T16:10:43.378870Z",
     "iopub.status.busy": "2023-05-15T16:10:43.377898Z",
     "iopub.status.idle": "2023-05-15T16:10:43.384144Z",
     "shell.execute_reply": "2023-05-15T16:10:43.382925Z"
    },
    "id": "Q4pQdKBEf-fq",
    "papermill": {
     "duration": 0.033614,
     "end_time": "2023-05-15T16:10:43.386500",
     "exception": false,
     "start_time": "2023-05-15T16:10:43.352886",
     "status": "completed"
    },
    "tags": []
   },
   "outputs": [
    {
     "name": "stdout",
     "output_type": "stream",
     "text": [
      "Shape of a: torch.Size([2, 5])\n"
     ]
    }
   ],
   "source": [
    "# TODO print its shape\n",
    "print(\"Shape of a:\", a.shape) # 2 rows, 5 cols"
   ]
  },
  {
   "cell_type": "code",
   "execution_count": 11,
   "id": "ce609e60",
   "metadata": {
    "execution": {
     "iopub.execute_input": "2023-05-15T16:10:43.437161Z",
     "iopub.status.busy": "2023-05-15T16:10:43.436137Z",
     "iopub.status.idle": "2023-05-15T16:10:43.442400Z",
     "shell.execute_reply": "2023-05-15T16:10:43.441134Z"
    },
    "id": "wpPKk4_jgFGK",
    "papermill": {
     "duration": 0.033944,
     "end_time": "2023-05-15T16:10:43.444605",
     "exception": false,
     "start_time": "2023-05-15T16:10:43.410661",
     "status": "completed"
    },
    "tags": []
   },
   "outputs": [
    {
     "name": "stdout",
     "output_type": "stream",
     "text": [
      "Size of a: torch.Size([2, 5])\n"
     ]
    }
   ],
   "source": [
    "# TODO print its size\n",
    "print(\"Size of a:\", a.size()) # you can specifiy a specific dimension of interest here in the brackets"
   ]
  },
  {
   "cell_type": "code",
   "execution_count": 12,
   "id": "07a8b0dc",
   "metadata": {
    "execution": {
     "iopub.execute_input": "2023-05-15T16:10:43.494413Z",
     "iopub.status.busy": "2023-05-15T16:10:43.494055Z",
     "iopub.status.idle": "2023-05-15T16:10:43.501848Z",
     "shell.execute_reply": "2023-05-15T16:10:43.500793Z"
    },
    "id": "mA6fS0Bo0iWP",
    "papermill": {
     "duration": 0.03543,
     "end_time": "2023-05-15T16:10:43.504205",
     "exception": false,
     "start_time": "2023-05-15T16:10:43.468775",
     "status": "completed"
    },
    "tags": []
   },
   "outputs": [
    {
     "name": "stdout",
     "output_type": "stream",
     "text": [
      "Size of new numpy array: 10\n"
     ]
    }
   ],
   "source": [
    "# TODO create a new numpy array out of the tensor and print its size\n",
    "newnumpy = a.numpy()\n",
    "print(\"Size of new numpy array:\", newnumpy.size)"
   ]
  },
  {
   "cell_type": "markdown",
   "id": "d2c94d29",
   "metadata": {
    "id": "g48rvntriAwy",
    "papermill": {
     "duration": 0.023218,
     "end_time": "2023-05-15T16:10:43.550901",
     "exception": false,
     "start_time": "2023-05-15T16:10:43.527683",
     "status": "completed"
    },
    "tags": []
   },
   "source": [
    "Let's create some new tensors."
   ]
  },
  {
   "cell_type": "code",
   "execution_count": 13,
   "id": "37668102",
   "metadata": {
    "execution": {
     "iopub.execute_input": "2023-05-15T16:10:43.599038Z",
     "iopub.status.busy": "2023-05-15T16:10:43.598084Z",
     "iopub.status.idle": "2023-05-15T16:10:43.613831Z",
     "shell.execute_reply": "2023-05-15T16:10:43.612765Z"
    },
    "id": "IbJHIVPKic65",
    "papermill": {
     "duration": 0.041934,
     "end_time": "2023-05-15T16:10:43.616063",
     "exception": false,
     "start_time": "2023-05-15T16:10:43.574129",
     "status": "completed"
    },
    "tags": []
   },
   "outputs": [
    {
     "name": "stdout",
     "output_type": "stream",
     "text": [
      "tensor([[1, 1, 1, 1, 1],\n",
      "        [1, 1, 1, 1, 1]], dtype=torch.int32)\n"
     ]
    }
   ],
   "source": [
    "# TODO create a tensor of shape (2,5) filled with ones of type int and print it\n",
    "x = torch.ones((2, 5), dtype=torch.int)\n",
    "print(x)"
   ]
  },
  {
   "cell_type": "code",
   "execution_count": 14,
   "id": "94a27fea",
   "metadata": {
    "execution": {
     "iopub.execute_input": "2023-05-15T16:10:43.666236Z",
     "iopub.status.busy": "2023-05-15T16:10:43.664463Z",
     "iopub.status.idle": "2023-05-15T16:10:43.698708Z",
     "shell.execute_reply": "2023-05-15T16:10:43.697648Z"
    },
    "id": "3GgCNZ3ei0J7",
    "papermill": {
     "duration": 0.061653,
     "end_time": "2023-05-15T16:10:43.701064",
     "exception": false,
     "start_time": "2023-05-15T16:10:43.639411",
     "status": "completed"
    },
    "tags": []
   },
   "outputs": [
    {
     "name": "stdout",
     "output_type": "stream",
     "text": [
      "tensor([[0., 0., 0., 0.],\n",
      "        [0., 0., 0., 0.],\n",
      "        [0., 0., 0., 0.]])\n"
     ]
    }
   ],
   "source": [
    "# TODO create a tensor of shape (3,4) filled with zeros and print it\n",
    "y = torch.zeros((3,4))\n",
    "print(y)"
   ]
  },
  {
   "cell_type": "code",
   "execution_count": 15,
   "id": "a71c91e9",
   "metadata": {
    "execution": {
     "iopub.execute_input": "2023-05-15T16:10:43.750667Z",
     "iopub.status.busy": "2023-05-15T16:10:43.749676Z",
     "iopub.status.idle": "2023-05-15T16:10:43.765922Z",
     "shell.execute_reply": "2023-05-15T16:10:43.764815Z"
    },
    "id": "y_G9-xG1jJE6",
    "papermill": {
     "duration": 0.043419,
     "end_time": "2023-05-15T16:10:43.768327",
     "exception": false,
     "start_time": "2023-05-15T16:10:43.724908",
     "status": "completed"
    },
    "tags": []
   },
   "outputs": [
    {
     "name": "stdout",
     "output_type": "stream",
     "text": [
      "tensor([[0, 5],\n",
      "        [1, 6],\n",
      "        [2, 7],\n",
      "        [3, 8],\n",
      "        [4, 9]])\n"
     ]
    },
    {
     "data": {
      "text/plain": [
       "tensor([[0, 5],\n",
       "        [1, 6],\n",
       "        [2, 7],\n",
       "        [3, 8],\n",
       "        [4, 9]])"
      ]
     },
     "execution_count": 15,
     "metadata": {},
     "output_type": "execute_result"
    }
   ],
   "source": [
    "# TODO transpose the tensor 'a'\n",
    "a_t = a.t()\n",
    "print(a_t)\n",
    "\n",
    "a.transpose(0,1) # In this case, the first argument 0 represents the current first dimension of the tensor, which corresponds to the rows in the matrix representation of the tensor, and the second argument 1 represents the current second dimension of the tensor, which corresponds to the columns in the matrix representation of the tensor. So, by transposing dimensions 0 and 1, we are effectively swapping rows and columns."
   ]
  },
  {
   "cell_type": "markdown",
   "id": "dc88a4d0",
   "metadata": {
    "id": "NLMyDyWHWFWc",
    "papermill": {
     "duration": 0.023742,
     "end_time": "2023-05-15T16:10:43.815699",
     "exception": false,
     "start_time": "2023-05-15T16:10:43.791957",
     "status": "completed"
    },
    "tags": []
   },
   "source": [
    "Now change a value in the numpy array. Does the corresponding tensor change?"
   ]
  },
  {
   "cell_type": "code",
   "execution_count": 16,
   "id": "2dcf03b3",
   "metadata": {
    "execution": {
     "iopub.execute_input": "2023-05-15T16:10:43.864587Z",
     "iopub.status.busy": "2023-05-15T16:10:43.864188Z",
     "iopub.status.idle": "2023-05-15T16:10:43.871940Z",
     "shell.execute_reply": "2023-05-15T16:10:43.870404Z"
    },
    "id": "Ufbn0kQKVU2e",
    "papermill": {
     "duration": 0.035353,
     "end_time": "2023-05-15T16:10:43.874345",
     "exception": false,
     "start_time": "2023-05-15T16:10:43.838992",
     "status": "completed"
    },
    "tags": []
   },
   "outputs": [
    {
     "name": "stdout",
     "output_type": "stream",
     "text": [
      "[[ 0 10  2  3  4]\n",
      " [ 5  6  7  8  9]]\n",
      "tensor([[ 0, 10,  2,  3,  4],\n",
      "        [ 5,  6,  7,  8,  9]])\n"
     ]
    }
   ],
   "source": [
    "# TODO change value in numpy array and inspect the tensor a\n",
    "numpyarray[0, 1] = 10 # second element of first row\n",
    "print(numpyarray)\n",
    "print(a)"
   ]
  },
  {
   "cell_type": "markdown",
   "id": "4d20f77b",
   "metadata": {
    "id": "4eKP3jSR0iXA",
    "papermill": {
     "duration": 0.023642,
     "end_time": "2023-05-15T16:10:43.923054",
     "exception": false,
     "start_time": "2023-05-15T16:10:43.899412",
     "status": "completed"
    },
    "tags": []
   },
   "source": [
    "**TODO Your answer here** - \n",
    "\n",
    "Yes, changing a value in the NumPy array will change the corresponding value in the PyTorch tensor a since the tensor a and the NumPy array numpyarray share the same underlying data. This works also the other way round:"
   ]
  },
  {
   "cell_type": "code",
   "execution_count": 17,
   "id": "f7e6dea7",
   "metadata": {
    "execution": {
     "iopub.execute_input": "2023-05-15T16:10:43.974699Z",
     "iopub.status.busy": "2023-05-15T16:10:43.973695Z",
     "iopub.status.idle": "2023-05-15T16:10:43.981562Z",
     "shell.execute_reply": "2023-05-15T16:10:43.980135Z"
    },
    "papermill": {
     "duration": 0.036319,
     "end_time": "2023-05-15T16:10:43.983944",
     "exception": false,
     "start_time": "2023-05-15T16:10:43.947625",
     "status": "completed"
    },
    "tags": []
   },
   "outputs": [
    {
     "name": "stdout",
     "output_type": "stream",
     "text": [
      "[[  0  10   2   3   4]\n",
      " [  5 111   7   8   9]]\n",
      "tensor([[  0,  10,   2,   3,   4],\n",
      "        [  5, 111,   7,   8,   9]])\n"
     ]
    }
   ],
   "source": [
    "a[1,1] = 111 # second element of second row\n",
    "print(numpyarray)\n",
    "print(a)"
   ]
  },
  {
   "cell_type": "markdown",
   "id": "d8549c05",
   "metadata": {
    "id": "-6n92SYfyW9_",
    "papermill": {
     "duration": 0.023861,
     "end_time": "2023-05-15T16:10:44.035252",
     "exception": false,
     "start_time": "2023-05-15T16:10:44.011391",
     "status": "completed"
    },
    "tags": []
   },
   "source": [
    "Now we want to make use of the different devices available, namely cpu and gpu. "
   ]
  },
  {
   "cell_type": "code",
   "execution_count": 18,
   "id": "9a21de9d",
   "metadata": {
    "execution": {
     "iopub.execute_input": "2023-05-15T16:10:44.084546Z",
     "iopub.status.busy": "2023-05-15T16:10:44.084135Z",
     "iopub.status.idle": "2023-05-15T16:10:47.202556Z",
     "shell.execute_reply": "2023-05-15T16:10:47.200932Z"
    },
    "id": "XrFr7fLfyyCB",
    "papermill": {
     "duration": 3.146181,
     "end_time": "2023-05-15T16:10:47.204869",
     "exception": false,
     "start_time": "2023-05-15T16:10:44.058688",
     "status": "completed"
    },
    "tags": []
   },
   "outputs": [
    {
     "name": "stdout",
     "output_type": "stream",
     "text": [
      "cuda:0\n",
      "CPU tensor: tensor([[     0,     10, 111222,      3,      4],\n",
      "        [     5,    111,      7,      8,      9]])\n",
      "GPU tensor: tensor([[  0,  10,   2,   3,   4],\n",
      "        [  5, 111,   7,   8,   9]], device='cuda:0')\n",
      "\n",
      "\n",
      "CPU tensor: tensor([[     0,     10, 111222,      3,      4],\n",
      "        [     5,    111,      7,      8,      9]])\n",
      "GPU tensor: tensor([[  0,  10,   2,   3,   4],\n",
      "        [111, 111,   7,   8,   9]], device='cuda:0')\n",
      "[[     0     10 111222      3      4]\n",
      " [     5    111      7      8      9]]\n"
     ]
    }
   ],
   "source": [
    "# TODO move 'a' to the gpu\n",
    "print(device)\n",
    "a_gpu = a.to(device)\n",
    "\n",
    "a[0,2] = 111222\n",
    "print(\"CPU tensor:\", a)\n",
    "print(\"GPU tensor:\", a_gpu)\n",
    "\n",
    "print(\"\\n\")\n",
    "\n",
    "a_gpu[1,0] = 111\n",
    "print(\"CPU tensor:\", a)\n",
    "print(\"GPU tensor:\", a_gpu)\n",
    "\n",
    "print(numpyarray)"
   ]
  },
  {
   "cell_type": "markdown",
   "id": "f69a299c",
   "metadata": {
    "id": "kVOmKS1x0iXL",
    "papermill": {
     "duration": 0.022909,
     "end_time": "2023-05-15T16:10:47.253301",
     "exception": false,
     "start_time": "2023-05-15T16:10:47.230392",
     "status": "completed"
    },
    "tags": []
   },
   "source": [
    "If you change a value in the tensor 'a' now, does the corresponding value in the tensor on the GPU change as well?\n",
    "\n",
    "**TODO Your answer here** -\n",
    "No. For me it does not synchronize in both directions."
   ]
  },
  {
   "cell_type": "markdown",
   "id": "50955b8f",
   "metadata": {
    "id": "iaSG4VtTaNu6",
    "papermill": {
     "duration": 0.023193,
     "end_time": "2023-05-15T16:10:47.299154",
     "exception": false,
     "start_time": "2023-05-15T16:10:47.275961",
     "status": "completed"
    },
    "tags": []
   },
   "source": [
    "# Deep Learning with Pytorch\n",
    "\n",
    "The process of training and evaluating a deep learning model begins with **data loading**.\n",
    "A dataset needs to be chosen on which the model should be trained.\n",
    "This data might need some preprocessing (like resizing or normalizing) of images. As Pytorch does not have in-build preprocessing for data pannels we have to define our custom normalisation inside a Dataset or Dataloader.\n",
    "Splitting of the data in different sets is necessary. We need a set to train on, a set to validate the training progress and a set to test the model after training.\n",
    "\n",
    "The next step is to **specify the model and its optimizer**, as well as the loss function.\n",
    "An important hyperparameter is the learning rate which influences how big the changes of the parameters should be after calculating the loss.\n",
    "\n",
    "The **model fitting** is split into training and evaluation.\n",
    "In the training process the model does a forward pass which means the data is presented to the model and the model outputs a prediction.\n",
    "The loss compares the prediction with the ground truth.\n",
    "In the backward pass the gradient with regard to the parameter is calculated and the parameter are updated by the gradient step.\n",
    "In the evaluation process the loss is computed on the entire validation set.\n",
    "This is done to see how well the model operates on data for which the params were not optimized before in order to avoid overfitting.\n",
    "The model fitting process is repeated for `N` epochs which is another hyperparameter that needs to be chosen carefully.\n",
    "\n",
    "After the training we evaluate the final model on the test set.\n",
    "\n",
    "We'll go through the individual steps in the course of this notebook.\n"
   ]
  },
  {
   "cell_type": "markdown",
   "id": "f3923b97",
   "metadata": {
    "id": "wXtIXTEiRApP",
    "papermill": {
     "duration": 0.023206,
     "end_time": "2023-05-15T16:10:47.345479",
     "exception": false,
     "start_time": "2023-05-15T16:10:47.322273",
     "status": "completed"
    },
    "tags": []
   },
   "source": [
    "![Screenshot_2020-10-05 Slides - Files - ownCloud Enterprise Edition.png](data:image/png;base64,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)"
   ]
  },
  {
   "cell_type": "markdown",
   "id": "d8cf101d",
   "metadata": {
    "id": "tpsJ004ud8lL",
    "papermill": {
     "duration": 0.022873,
     "end_time": "2023-05-15T16:10:47.391761",
     "exception": false,
     "start_time": "2023-05-15T16:10:47.368888",
     "status": "completed"
    },
    "tags": []
   },
   "source": [
    "## Data Loading and Preprocessing "
   ]
  },
  {
   "cell_type": "markdown",
   "id": "5776c2a1",
   "metadata": {
    "id": "fvHI6P24IqZ3",
    "papermill": {
     "duration": 0.022624,
     "end_time": "2023-05-15T16:10:47.437436",
     "exception": false,
     "start_time": "2023-05-15T16:10:47.414812",
     "status": "completed"
    },
    "tags": []
   },
   "source": [
    "### Training, Validation and Test Sets\n",
    "\n",
    "For the correct fitting of a neural network model we need three dataset components: one for training, one for validation in the training process, and the last one for testing the results of the training on unseen data. The purpose of this is to evaluate the model's performance on data it hasn't seen before, and to avoid overfitting by ensuring that the model hasn't memorized the training data.\n",
    "\n",
    "Note that you should not use the test set in any part of your training and model selection procedure. It should be only used for showing the final results. It's important to avoid using the test set during any part of the training process or model selection. This can lead to overfitting to the test set, and the model may not generalize well to new, unseen data. \n",
    "\n",
    "Usually, train and test datasets are already splitted in the provided kaggle datasets but as we work with a custom dataset, we would have to make train-test split ourselves first."
   ]
  },
  {
   "cell_type": "code",
   "execution_count": 19,
   "id": "621f7494",
   "metadata": {
    "execution": {
     "iopub.execute_input": "2023-05-15T16:10:47.486760Z",
     "iopub.status.busy": "2023-05-15T16:10:47.485590Z",
     "iopub.status.idle": "2023-05-15T16:10:47.490661Z",
     "shell.execute_reply": "2023-05-15T16:10:47.489845Z"
    },
    "papermill": {
     "duration": 0.032238,
     "end_time": "2023-05-15T16:10:47.492836",
     "exception": false,
     "start_time": "2023-05-15T16:10:47.460598",
     "status": "completed"
    },
    "tags": []
   },
   "outputs": [],
   "source": [
    "test_size = 0.2 # proportion of the dataset that should be allocated to the test set. In this case, the test set will be 20% of the entire dataset.\n",
    "target_clm='critical_temp'"
   ]
  },
  {
   "cell_type": "code",
   "execution_count": 20,
   "id": "a9ed2fa7",
   "metadata": {
    "execution": {
     "iopub.execute_input": "2023-05-15T16:10:47.541157Z",
     "iopub.status.busy": "2023-05-15T16:10:47.540783Z",
     "iopub.status.idle": "2023-05-15T16:10:48.136850Z",
     "shell.execute_reply": "2023-05-15T16:10:48.135453Z"
    },
    "papermill": {
     "duration": 0.62361,
     "end_time": "2023-05-15T16:10:48.139297",
     "exception": false,
     "start_time": "2023-05-15T16:10:47.515687",
     "status": "completed"
    },
    "tags": []
   },
   "outputs": [
    {
     "name": "stdout",
     "output_type": "stream",
     "text": [
      "21263\n",
      "4253\n",
      "17010\n"
     ]
    }
   ],
   "source": [
    "# TODO: load data - same as in the previous practical and make train_test_split from sklearn\n",
    "data = pd.read_csv('/kaggle/input/superconduct-traincsv/superconduct_train.csv') \n",
    "train, test = train_test_split(data, test_size=test_size, random_state=42)\n",
    "\n",
    "print(len(data))\n",
    "print(len(test))\n",
    "print(len(train))"
   ]
  },
  {
   "cell_type": "markdown",
   "id": "fc8dec2f",
   "metadata": {
    "papermill": {
     "duration": 0.024458,
     "end_time": "2023-05-15T16:10:48.188955",
     "exception": false,
     "start_time": "2023-05-15T16:10:48.164497",
     "status": "completed"
    },
    "tags": []
   },
   "source": [
    "### Dataset\n",
    "\n",
    "PyTorch has 2 entities to load data. They are **Dataset** and **Dataloader**. \n",
    "**Dataset** is a class, which defines your data and often applies data preprocessing transformations, like normalisation. It should have at least 3 functions :\n",
    "* __init__ - as any other init. Usually, you would provide path to dataset here or dataset elements.\n",
    "* __len__ - should return the whole dataset size\n",
    "* __getitem__ - this function returns 1 pair of data and label, also here preprocessing transformations are usually applied\n",
    "\n",
    "\n",
    "\n",
    "For the next exercise, take a look here for an example https://stanford.edu/~shervine/blog/pytorch-how-to-generate-data-parallel"
   ]
  },
  {
   "cell_type": "code",
   "execution_count": 21,
   "id": "feabdb0f",
   "metadata": {
    "execution": {
     "iopub.execute_input": "2023-05-15T16:10:48.240847Z",
     "iopub.status.busy": "2023-05-15T16:10:48.240473Z",
     "iopub.status.idle": "2023-05-15T16:10:48.251146Z",
     "shell.execute_reply": "2023-05-15T16:10:48.250139Z"
    },
    "papermill": {
     "duration": 0.039662,
     "end_time": "2023-05-15T16:10:48.253526",
     "exception": false,
     "start_time": "2023-05-15T16:10:48.213864",
     "status": "completed"
    },
    "tags": []
   },
   "outputs": [],
   "source": [
    "class Dataset(torch.utils.data.Dataset):\n",
    "    def __init__(self, df, target_clm, mean=None, std=None, normalise=True):\n",
    "        '''\n",
    "        TODO: save params to self attributes, \n",
    "        x is data without target column\n",
    "        y is target column; target_clm\n",
    "        transform df to_numpy\n",
    "        \n",
    "        df: pandas dataframe containing data\n",
    "        mean: mean of data for normalization\n",
    "        std: standard deviation of data for normalization\n",
    "        normalise: boolean indicating if the data should be normalized\n",
    "        ''' \n",
    "        self.x = df.drop(target_clm, axis=1).to_numpy() # extract features and convert to numpy array\n",
    "        self.y = df[target_clm].to_numpy() # extract target variable and convert to numpy array\n",
    "        self.mean = mean\n",
    "        self.std = std\n",
    "        self.normalise = normalise\n",
    "    \n",
    "    def __len__(self): # method should return the total number of samples in the dataset.\n",
    "        # TODO: return whole dataset length\n",
    "        return len(self.x)\n",
    "        \n",
    "    \n",
    "    def __getitem__(self, index):\n",
    "        '''\n",
    "        Return one sample of data and corresponding y variable at index. Standardise if normalise=True and mean and std are specified\n",
    "        Only features are standardized.\n",
    "        '''\n",
    "        data = self.x[index] # features only\n",
    "        if self.normalise and self.mean is not None and self.std is not None:\n",
    "            data = (data - self.mean) / self.std\n",
    "        return data, self.y[index]\n",
    "    \n",
    "    '''\n",
    "    Typically, it's common to normalize only the features and not the target variable. \n",
    "    This is because normalization is often used to make the range of values for different features more comparable, \n",
    "    so that they can be more easily used together in a machine learning model.\n",
    "    '''\n",
    "    "
   ]
  },
  {
   "cell_type": "code",
   "execution_count": 22,
   "id": "f6a46eaa",
   "metadata": {
    "execution": {
     "iopub.execute_input": "2023-05-15T16:10:48.306007Z",
     "iopub.status.busy": "2023-05-15T16:10:48.305626Z",
     "iopub.status.idle": "2023-05-15T16:10:48.317605Z",
     "shell.execute_reply": "2023-05-15T16:10:48.316428Z"
    },
    "papermill": {
     "duration": 0.041613,
     "end_time": "2023-05-15T16:10:48.320342",
     "exception": false,
     "start_time": "2023-05-15T16:10:48.278729",
     "status": "completed"
    },
    "tags": []
   },
   "outputs": [],
   "source": [
    "tmp_dataset = Dataset(train, target_clm, normalise=False)"
   ]
  },
  {
   "cell_type": "code",
   "execution_count": 23,
   "id": "cc35a637",
   "metadata": {
    "execution": {
     "iopub.execute_input": "2023-05-15T16:10:48.376521Z",
     "iopub.status.busy": "2023-05-15T16:10:48.374620Z",
     "iopub.status.idle": "2023-05-15T16:10:48.390635Z",
     "shell.execute_reply": "2023-05-15T16:10:48.389252Z"
    },
    "papermill": {
     "duration": 0.045224,
     "end_time": "2023-05-15T16:10:48.393425",
     "exception": false,
     "start_time": "2023-05-15T16:10:48.348201",
     "status": "completed"
    },
    "tags": []
   },
   "outputs": [
    {
     "name": "stdout",
     "output_type": "stream",
     "text": [
      "[4.11757790e+00 8.75523005e+01 7.30142221e+01 7.12302088e+01\n",
      " 5.85247603e+01 1.16575787e+00 1.06464388e+00 1.15807500e+02\n",
      " 3.32682487e+01 4.44694609e+01 4.15298287e+01 7.69788332e+02\n",
      " 8.70284583e+02 7.37655264e+02 8.32620868e+02 1.29982324e+00\n",
      " 9.28495511e-01 5.72425844e+02 4.82717218e+02 2.15689296e+02\n",
      " 2.24104234e+02 1.57913092e+02 1.34749939e+02 1.44381559e+02\n",
      " 1.21024549e+02 1.26839402e+00 1.13226504e+00 1.39381481e+02\n",
      " 5.13245274e+01 5.16045745e+01 5.23450162e+01 6.10835219e+03\n",
      " 5.26715243e+03 3.44899631e+03 3.11110002e+03 1.07269458e+00\n",
      " 8.57139890e-01 8.67431503e+03 2.90942025e+03 3.42041426e+03\n",
      " 3.32393190e+03 7.68351735e+01 9.25936162e+01 5.42601826e+01\n",
      " 7.22048922e+01 1.07071156e+00 7.71729564e-01 1.20792337e+02\n",
      " 5.92340515e+01 4.89519425e+01 4.44916042e+01 1.42455537e+01\n",
      " 1.37967946e+01 1.01056386e+01 1.00983917e+01 1.09406172e+00\n",
      " 9.15693613e-01 2.10660408e+01 8.17696259e+00 8.29188817e+00\n",
      " 7.70226694e+00 8.97082808e+01 8.14930231e+01 2.96700577e+01\n",
      " 2.71547665e+01 7.27601397e-01 5.40876363e-01 2.51343450e+02\n",
      " 6.19802544e+01 9.91036755e+01 9.63367539e+01 3.19773611e+00\n",
      " 3.15242218e+00 3.05589311e+00 3.05475892e+00 1.29630199e+00\n",
      " 1.05444833e+00 2.04362140e+00 1.48082657e+00 8.40798902e-01\n",
      " 6.76598865e-01]\n",
      "[1.44001854e+00 2.96042343e+01 3.34307782e+01 3.09576867e+01\n",
      " 3.66059883e+01 3.64926125e-01 4.01293603e-01 5.47760630e+01\n",
      " 2.69962359e+01 2.00868409e+01 1.99849373e+01 8.76549579e+01\n",
      " 1.43330249e+02 7.85111339e+01 1.19840642e+02 3.81679106e-01\n",
      " 3.34499541e-01 3.09700181e+02 2.24051863e+02 1.10004716e+02\n",
      " 1.27902372e+02 2.01219776e+01 2.87944488e+01 2.20651749e+01\n",
      " 3.58298632e+01 3.75229315e-01 4.06790606e-01 6.71279603e+01\n",
      " 3.49249741e+01 2.28313903e+01 2.52216394e+01 2.84432279e+03\n",
      " 3.22320190e+03 3.69662238e+03 3.97292376e+03 3.42550027e-01\n",
      " 3.20628567e-01 4.09708477e+03 2.41238943e+03 1.67506359e+03\n",
      " 1.61210101e+03 2.76294923e+01 3.21660270e+01 2.88295471e+01\n",
      " 3.15074023e+01 3.43885114e-01 2.86488092e-01 5.86197011e+01\n",
      " 2.84914983e+01 2.17377340e+01 2.04071607e+01 1.12422783e+01\n",
      " 1.41671758e+01 1.00470127e+01 1.30451903e+01 3.75547498e-01\n",
      " 3.70419085e-01 2.01985942e+01 1.12753745e+01 8.59296961e+00\n",
      " 7.24907687e+00 3.83749577e+01 4.51556582e+01 3.36635167e+01\n",
      " 3.96138049e+01 3.25187390e-01 3.17626216e-01 1.58813571e+02\n",
      " 4.26959468e+01 6.01786572e+01 6.36731770e+01 1.04298176e+00\n",
      " 1.19021910e+00 1.04416741e+00 1.17321460e+00 3.92739449e-01\n",
      " 3.80426351e-01 1.24064122e+00 9.77332800e-01 4.84308870e-01\n",
      " 4.55830742e-01]\n"
     ]
    }
   ],
   "source": [
    "# TODO calculate the mean and standard deviation of train dataset\n",
    "# vector of means and std of training set features (only!); We do not standardise the target\n",
    "mean = np.mean(tmp_dataset.x, axis=0)\n",
    "std = np.std(tmp_dataset.x, axis=0)\n",
    "\n",
    "print(mean)\n",
    "print(std) "
   ]
  },
  {
   "cell_type": "code",
   "execution_count": 24,
   "id": "6ed799d1",
   "metadata": {
    "execution": {
     "iopub.execute_input": "2023-05-15T16:10:48.446039Z",
     "iopub.status.busy": "2023-05-15T16:10:48.445686Z",
     "iopub.status.idle": "2023-05-15T16:10:48.462194Z",
     "shell.execute_reply": "2023-05-15T16:10:48.461053Z"
    },
    "papermill": {
     "duration": 0.044274,
     "end_time": "2023-05-15T16:10:48.464679",
     "exception": false,
     "start_time": "2023-05-15T16:10:48.420405",
     "status": "completed"
    },
    "tags": []
   },
   "outputs": [],
   "source": [
    "# TODO define new datasets with mean, std and normalise=True\n",
    "conductor_train = Dataset(train, target_clm, mean=mean, std=std, normalise=True)\n",
    "conductor_test = Dataset(test, target_clm, mean=mean, std=std, normalise=True)"
   ]
  },
  {
   "cell_type": "markdown",
   "id": "5cbc7fef",
   "metadata": {
    "id": "kgBH3RfQUuz6",
    "papermill": {
     "duration": 0.023323,
     "end_time": "2023-05-15T16:10:48.514051",
     "exception": false,
     "start_time": "2023-05-15T16:10:48.490728",
     "status": "completed"
    },
    "tags": []
   },
   "source": [
    "We need to **split** the train dataset in two sets, one for training and one for validation. \n",
    "While the training set needs to be quite large, the validation set can be relatively small.\n",
    "Take 10 % of the dataset as validation set.\n",
    "Assign samples *randomly* to the training and validation set, using a fixed seed to ensure reproducibility."
   ]
  },
  {
   "cell_type": "code",
   "execution_count": 25,
   "id": "9b567307",
   "metadata": {
    "execution": {
     "iopub.execute_input": "2023-05-15T16:10:48.562145Z",
     "iopub.status.busy": "2023-05-15T16:10:48.561759Z",
     "iopub.status.idle": "2023-05-15T16:10:48.572211Z",
     "shell.execute_reply": "2023-05-15T16:10:48.571162Z"
    },
    "papermill": {
     "duration": 0.036823,
     "end_time": "2023-05-15T16:10:48.574428",
     "exception": false,
     "start_time": "2023-05-15T16:10:48.537605",
     "status": "completed"
    },
    "tags": []
   },
   "outputs": [],
   "source": [
    "# split the train dataset in conductor_train and conductor_val\n",
    "conductor_train, conductor_val = torch.utils.data.random_split(conductor_train, [int(0.9 * len(conductor_train)), int(0.1 * len(conductor_train))], generator=torch.Generator().manual_seed(42))"
   ]
  },
  {
   "cell_type": "code",
   "execution_count": 26,
   "id": "c0b21963",
   "metadata": {
    "execution": {
     "iopub.execute_input": "2023-05-15T16:10:48.622372Z",
     "iopub.status.busy": "2023-05-15T16:10:48.621433Z",
     "iopub.status.idle": "2023-05-15T16:10:48.628834Z",
     "shell.execute_reply": "2023-05-15T16:10:48.627815Z"
    },
    "id": "Z-8kQnghANgs",
    "papermill": {
     "duration": 0.034022,
     "end_time": "2023-05-15T16:10:48.631601",
     "exception": false,
     "start_time": "2023-05-15T16:10:48.597579",
     "status": "completed"
    },
    "tags": []
   },
   "outputs": [
    {
     "data": {
      "text/plain": [
       "'\\nbatch_size is a hyperparameter that determines the number of samples that will be propagated through the neural network at once. \\nIn other words, it specifies the number of samples that will be processed by the model in a single iteration.\\nWhen training a deep neural network, it is often not feasible to pass all the training examples through the model in one go, \\nespecially when the dataset is large. Therefore, the data is split into batches, and the model updates its weights after each batch.\\nThe choice of batch_size can affect the performance and convergence of the model, as well as the memory usage during training. \\nA larger batch_size can lead to faster convergence, but it also requires more memory.\\n'"
      ]
     },
     "execution_count": 26,
     "metadata": {},
     "output_type": "execute_result"
    }
   ],
   "source": [
    "batch_size = 256\n",
    "\n",
    "'''\n",
    "batch_size is a hyperparameter that determines the number of samples that will be propagated through the neural network at once. \n",
    "In other words, it specifies the number of samples that will be processed by the model in a single iteration.\n",
    "When training a deep neural network, it is often not feasible to pass all the training examples through the model in one go, \n",
    "especially when the dataset is large. Therefore, the data is split into batches, and the model updates its weights after each batch.\n",
    "The choice of batch_size can affect the performance and convergence of the model, as well as the memory usage during training. \n",
    "A larger batch_size can lead to faster convergence, but it also requires more memory.\n",
    "'''"
   ]
  },
  {
   "cell_type": "markdown",
   "id": "a7d117c6",
   "metadata": {
    "id": "B6LDumpJUw-x",
    "papermill": {
     "duration": 0.022485,
     "end_time": "2023-05-15T16:10:48.676467",
     "exception": false,
     "start_time": "2023-05-15T16:10:48.653982",
     "status": "completed"
    },
    "tags": []
   },
   "source": [
    "To load the data for model training, we need to define the **dataloaders**.\n",
    "A dataloader represents a Python iterable over a dataset and draws mini batches with random samples.\n",
    "**Dataloader** calls \\_\\_getitem__ function from the Dataset and forms the batches.\n",
    "\n",
    "\n",
    "Use the batch size as specified above.\n",
    "Make sure we get shuffled samples in batches."
   ]
  },
  {
   "cell_type": "code",
   "execution_count": 27,
   "id": "7cecd111",
   "metadata": {
    "execution": {
     "iopub.execute_input": "2023-05-15T16:10:48.724357Z",
     "iopub.status.busy": "2023-05-15T16:10:48.724008Z",
     "iopub.status.idle": "2023-05-15T16:10:48.730819Z",
     "shell.execute_reply": "2023-05-15T16:10:48.729937Z"
    },
    "id": "6wOV2iQYKA4Y",
    "papermill": {
     "duration": 0.033599,
     "end_time": "2023-05-15T16:10:48.733197",
     "exception": false,
     "start_time": "2023-05-15T16:10:48.699598",
     "status": "completed"
    },
    "tags": []
   },
   "outputs": [
    {
     "name": "stdout",
     "output_type": "stream",
     "text": [
      "<torch.utils.data.dataloader.DataLoader object at 0x7f1d44639db0>\n",
      "7\n",
      "60\n"
     ]
    }
   ],
   "source": [
    "# TODO create dataloader for training, validation and test\n",
    "train_dataloader = torch.utils.data.DataLoader(conductor_train, batch_size=batch_size, shuffle=True)\n",
    "val_dataloader = torch.utils.data.DataLoader(conductor_val, batch_size=batch_size, shuffle=True)\n",
    "test_dataloader = torch.utils.data.DataLoader(conductor_test, batch_size=batch_size, shuffle=True)\n",
    "\n",
    "print(train_dataloader)\n",
    "print(len(val_dataloader))\n",
    "print(len(train_dataloader))\n"
   ]
  },
  {
   "cell_type": "markdown",
   "id": "9b695df8",
   "metadata": {
    "id": "_kD_tfv7EhBV",
    "papermill": {
     "duration": 0.022716,
     "end_time": "2023-05-15T16:10:48.778702",
     "exception": false,
     "start_time": "2023-05-15T16:10:48.755986",
     "status": "completed"
    },
    "tags": []
   },
   "source": [
    "Let's get a data point now to see what we're dealing with. \n",
    "\n",
    "For this, you might want to check out how python's iterator protocol works. It's simple and will give you an important insight into python: https://wiki.python.org/moin/Iterator."
   ]
  },
  {
   "cell_type": "code",
   "execution_count": 28,
   "id": "ef400216",
   "metadata": {
    "execution": {
     "iopub.execute_input": "2023-05-15T16:10:48.826585Z",
     "iopub.status.busy": "2023-05-15T16:10:48.826196Z",
     "iopub.status.idle": "2023-05-15T16:10:48.855576Z",
     "shell.execute_reply": "2023-05-15T16:10:48.854501Z"
    },
    "id": "bROYEcbCEjpB",
    "papermill": {
     "duration": 0.056975,
     "end_time": "2023-05-15T16:10:48.858434",
     "exception": false,
     "start_time": "2023-05-15T16:10:48.801459",
     "status": "completed"
    },
    "tags": []
   },
   "outputs": [
    {
     "name": "stdout",
     "output_type": "stream",
     "text": [
      "tensor([[ 0.6128, -0.8218,  0.0413,  ..., -0.2745,  1.0032,  1.0336],\n",
      "        [ 1.3072,  0.7273,  0.3415,  ..., -0.9240,  0.5724,  0.1574],\n",
      "        [ 0.6128, -0.1455, -0.3923,  ..., -0.5834,  0.7417,  0.8219],\n",
      "        ...,\n",
      "        [-1.4705,  4.0716,  4.0298,  ..., -0.1850, -0.7037, -0.4790],\n",
      "        [-1.4705,  2.0445,  1.9732,  ...,  1.5299, -1.7361, -1.4843],\n",
      "        [ 1.3072,  0.1975,  0.4089,  ...,  0.8791,  1.7902,  2.2616]])\n",
      "tensor([4.1700e+01, 1.0000e+02, 8.0000e+01, 7.6400e+00, 9.0300e+01, 9.0000e+01,\n",
      "        3.4000e+00, 2.5000e+00, 7.0000e+01, 3.1600e+01, 2.1200e+00, 2.5000e+01,\n",
      "        1.3000e+00, 2.4000e+00, 3.0000e+01, 2.8600e+00, 1.1300e+02, 7.1500e+00,\n",
      "        3.9600e+00, 2.3000e+01, 3.3200e+00, 7.6000e+01, 3.0690e+01, 5.4300e+00,\n",
      "        7.9200e+01, 1.8000e+01, 1.8000e+01, 3.2000e+01, 1.8500e+00, 3.9200e+00,\n",
      "        6.8000e+00, 2.1000e+01, 9.5000e+00, 3.6400e+00, 7.5000e+01, 1.2700e+01,\n",
      "        2.1400e+00, 4.0000e+00, 6.0000e+00, 3.4900e+01, 4.2000e+01, 3.0000e+01,\n",
      "        6.4000e+01, 7.1500e+00, 1.8700e+01, 3.1000e+01, 9.0000e+01, 9.2000e+01,\n",
      "        1.2400e+00, 3.0000e+01, 1.3400e+00, 7.6000e+00, 9.3000e-01, 8.7000e+01,\n",
      "        2.2000e+00, 2.4000e+01, 1.1050e+01, 7.5700e+01, 1.7000e+00, 6.5000e+01,\n",
      "        2.4000e+00, 6.5000e+01, 5.3800e+00, 4.5000e+01, 6.7800e+00, 2.9300e+00,\n",
      "        6.6000e+00, 1.3000e+01, 6.8000e+01, 1.3600e+01, 4.1000e+01, 3.5000e+01,\n",
      "        8.6000e+01, 8.9900e+01, 8.2000e+00, 6.5000e+00, 5.0000e+01, 9.3400e+00,\n",
      "        1.9100e+01, 4.5300e+00, 3.5500e+00, 1.0100e+02, 1.6000e+00, 1.4100e+01,\n",
      "        6.5000e+00, 9.1950e+01, 9.8000e+00, 5.2500e+00, 9.1500e+01, 3.8750e+00,\n",
      "        1.4300e+01, 1.0800e+01, 6.4000e+00, 2.3250e+00, 9.3400e+01, 9.1000e+01,\n",
      "        4.8000e+00, 2.4000e+00, 9.4000e+00, 2.7800e+01, 2.2000e-01, 4.5800e+01,\n",
      "        7.6000e-01, 3.5000e+01, 1.0000e+00, 6.0000e+01, 1.5400e+01, 3.5000e+00,\n",
      "        3.0800e+00, 8.0000e+01, 5.3000e+00, 8.5000e+00, 9.2100e+01, 7.4300e+01,\n",
      "        7.8500e+00, 2.8000e+01, 1.0900e+01, 1.6500e+01, 1.9100e+01, 2.5000e+01,\n",
      "        5.1000e+01, 7.0000e-01, 9.2000e+01, 5.7000e+01, 4.6000e-01, 2.2900e+01,\n",
      "        4.5000e+00, 7.5100e+01, 2.3500e+01, 9.2500e+01, 2.2000e+00, 8.0300e+01,\n",
      "        6.3000e-01, 4.5200e+01, 7.5000e+00, 6.1200e+00, 3.8000e+00, 5.2000e+01,\n",
      "        1.6500e+01, 1.0200e+01, 5.3000e+00, 9.1250e+01, 2.8000e+01, 9.3000e-01,\n",
      "        5.3000e+00, 1.8200e+00, 6.4300e+01, 1.2300e+01, 7.1500e+01, 7.5000e+00,\n",
      "        4.0000e+00, 1.0200e+02, 3.5000e+01, 1.0100e+01, 1.3000e-01, 1.2000e+01,\n",
      "        2.7400e+01, 4.2000e+01, 1.1680e+02, 2.8000e-01, 2.2000e+01, 2.0750e+01,\n",
      "        8.7000e+00, 8.5000e+00, 8.0000e-02, 3.0500e+01, 1.8300e+01, 1.0500e+02,\n",
      "        2.3000e+01, 3.9600e+00, 2.9200e+00, 2.0600e+00, 3.6000e+01, 1.9900e+01,\n",
      "        6.4000e+00, 9.4000e+01, 1.2870e+02, 7.5000e+01, 1.6300e+01, 2.1000e+01,\n",
      "        4.8100e+00, 2.7100e+00, 2.0400e+00, 1.3260e+02, 8.7500e+01, 1.2100e+01,\n",
      "        2.2500e+01, 3.5200e+00, 4.5000e+01, 7.0000e+01, 1.1000e+02, 3.1600e+00,\n",
      "        2.7500e+01, 2.3000e+01, 1.8800e+00, 8.8700e+01, 3.6000e+01, 3.4000e+00,\n",
      "        9.1000e+01, 1.8600e+00, 7.5000e+00, 6.1000e+01, 2.0500e+01, 6.4000e+01,\n",
      "        3.0100e+00, 7.6100e+01, 1.4500e+01, 3.7000e+01, 3.8000e+01, 1.9000e+00,\n",
      "        5.4000e+00, 1.2700e+02, 3.6700e+00, 1.2000e+01, 2.0000e+00, 9.8000e+00,\n",
      "        4.0000e+01, 6.0000e+00, 5.0200e+00, 6.2000e+01, 3.8200e+00, 6.4000e+00,\n",
      "        8.0000e+00, 9.1000e+01, 4.4600e+01, 1.1800e+02, 2.6500e+01, 8.6000e+01,\n",
      "        9.4100e+00, 5.7000e+01, 5.2900e+00, 8.0000e+00, 9.4000e+00, 2.1800e+01,\n",
      "        8.5000e+01, 3.3100e+01, 2.6000e+01, 3.0000e+01, 5.4000e+01, 9.0700e+01,\n",
      "        4.3500e+01, 1.0760e+02, 8.3000e+01, 5.1000e+00, 9.2900e+01, 7.2200e+01,\n",
      "        2.6700e+01, 2.8000e+00, 2.2800e+01, 6.0700e+01, 2.0900e+00, 3.2000e+00,\n",
      "        9.5500e+01, 8.6300e+00, 3.5900e+00, 2.3300e+00])\n"
     ]
    }
   ],
   "source": [
    "# TODO display an element of the train_dataloader\n",
    "x, y = next(iter(train_dataloader)) # returns the first batch from the traindataloader\n",
    "\n",
    "print(x)\n",
    "print(y)"
   ]
  },
  {
   "cell_type": "markdown",
   "id": "cba8ecf6",
   "metadata": {
    "papermill": {
     "duration": 0.025323,
     "end_time": "2023-05-15T16:10:48.907176",
     "exception": false,
     "start_time": "2023-05-15T16:10:48.881853",
     "status": "completed"
    },
    "tags": []
   },
   "source": [
    "This output tells that we have one batch of 256 samples in train dataloader. Each sample in the batch has a shape of (81,) which corresponds to the number of features in your dataset. Additionally, we have the target variable for each sample in the batch with a shape of (256,) which means that we have one target variable for each sample in the batch. Observations per batch: 256"
   ]
  },
  {
   "cell_type": "code",
   "execution_count": 29,
   "id": "4bccd3e4",
   "metadata": {
    "execution": {
     "iopub.execute_input": "2023-05-15T16:10:48.958638Z",
     "iopub.status.busy": "2023-05-15T16:10:48.958286Z",
     "iopub.status.idle": "2023-05-15T16:10:48.964194Z",
     "shell.execute_reply": "2023-05-15T16:10:48.963123Z"
    },
    "id": "YJwRzi_MHfyV",
    "papermill": {
     "duration": 0.034802,
     "end_time": "2023-05-15T16:10:48.966908",
     "exception": false,
     "start_time": "2023-05-15T16:10:48.932106",
     "status": "completed"
    },
    "tags": []
   },
   "outputs": [
    {
     "name": "stdout",
     "output_type": "stream",
     "text": [
      "Data shape: torch.Size([256, 81])\n",
      "Target shape: torch.Size([256])\n"
     ]
    }
   ],
   "source": [
    "# TODO display the dimensions of x and y\n",
    "print(\"Data shape:\", x.shape)\n",
    "print(\"Target shape:\", y.shape)"
   ]
  },
  {
   "cell_type": "markdown",
   "id": "042e51af",
   "metadata": {
    "id": "P4VmDBNvCmkp",
    "papermill": {
     "duration": 0.023929,
     "end_time": "2023-05-15T16:10:49.014925",
     "exception": false,
     "start_time": "2023-05-15T16:10:48.990996",
     "status": "completed"
    },
    "tags": []
   },
   "source": [
    "x has size (\\[batchsize\\], 81) --> 256 elements/batches (or whatever you have defined in your data loader), 81 feature values.\n",
    "\n",
    "y has size (\\[batchsize\\], 1) --> 256 elements/batches (again depends on your data loader config). There's one target value for each set of the features."
   ]
  },
  {
   "cell_type": "markdown",
   "id": "44199f4c",
   "metadata": {
    "id": "W0Pa_bWEjqDf",
    "papermill": {
     "duration": 0.02408,
     "end_time": "2023-05-15T16:10:49.062920",
     "exception": false,
     "start_time": "2023-05-15T16:10:49.038840",
     "status": "completed"
    },
    "tags": []
   },
   "source": [
    "## Specify Model & Optimizer"
   ]
  },
  {
   "cell_type": "markdown",
   "id": "c7890013",
   "metadata": {
    "id": "EasgugDjSSrt",
    "papermill": {
     "duration": 0.024718,
     "end_time": "2023-05-15T16:10:49.112560",
     "exception": false,
     "start_time": "2023-05-15T16:10:49.087842",
     "status": "completed"
    },
    "tags": []
   },
   "source": [
    "### Specify a Model\n",
    "\n",
    "The task is now to define a model to train on the data. In this simple example, we only need **one fully-connected layer** as defined in *torch.nn.Linear* that produces a predicted label for a specific training input row.\n",
    "\n",
    "Before, we set some variables: \n",
    "- the input and output size of the linear layer\n",
    "- how long we want to train the model (number of epochs) and \n",
    "- the learning rate.\n"
   ]
  },
  {
   "cell_type": "code",
   "execution_count": 30,
   "id": "9d014584",
   "metadata": {
    "execution": {
     "iopub.execute_input": "2023-05-15T16:10:49.162774Z",
     "iopub.status.busy": "2023-05-15T16:10:49.162444Z",
     "iopub.status.idle": "2023-05-15T16:10:49.167299Z",
     "shell.execute_reply": "2023-05-15T16:10:49.166294Z"
    },
    "id": "ZUq3zcWgMVwD",
    "papermill": {
     "duration": 0.032281,
     "end_time": "2023-05-15T16:10:49.169141",
     "exception": false,
     "start_time": "2023-05-15T16:10:49.136860",
     "status": "completed"
    },
    "tags": []
   },
   "outputs": [],
   "source": [
    "epochs = 1 \n",
    "# The variable epochs specifies the number of times the entire dataset will be passed through the model during training.\n",
    "input_dim = 81\n",
    "output_dim = 1 \n",
    "# The variables input_dim and output_dim specify the size of the input and output of the linear layer, respectively.\n",
    "lr = 0.001\n",
    "# The variable lr specifies the learning rate of the optimizer, which controls the step size taken by the optimizer during the training process."
   ]
  },
  {
   "cell_type": "markdown",
   "id": "fafac8ab",
   "metadata": {
    "papermill": {
     "duration": 0.023303,
     "end_time": "2023-05-15T16:10:49.216100",
     "exception": false,
     "start_time": "2023-05-15T16:10:49.192797",
     "status": "completed"
    },
    "tags": []
   },
   "source": [
    "\n",
    "In a neural network, the input layer consists of the features or input variables of the data. Each feature is represented by one node in the input layer. The output layer, on the other hand, is the final layer of the network that produces the output of the model, which in this case is a single predicted label for a specific training input row.\n",
    "\n",
    "In this example, the input dimension is set to 81, which means that the input layer of the model will consist of 81 nodes, each representing a feature of the input data. The output dimension is set to 1, which means that the output layer of the model will consist of a single node that represents the predicted label for a specific input row.\n",
    "\n",
    "The choice of input and output dimension depends on the specific problem and the structure of the data. In this case, it seems that we are dealing with a regression problem, where the goal is to predict a continuous value (the critical temperature of a superconductor) based on a set of input features. The output can be expected to be a single number representing the predicted critical temperature for a specific input sample."
   ]
  },
  {
   "cell_type": "code",
   "execution_count": 31,
   "id": "d9b81f82",
   "metadata": {
    "execution": {
     "iopub.execute_input": "2023-05-15T16:10:49.265840Z",
     "iopub.status.busy": "2023-05-15T16:10:49.264844Z",
     "iopub.status.idle": "2023-05-15T16:10:49.272795Z",
     "shell.execute_reply": "2023-05-15T16:10:49.271802Z"
    },
    "id": "FBQhYDR1MDUr",
    "papermill": {
     "duration": 0.035097,
     "end_time": "2023-05-15T16:10:49.274894",
     "exception": false,
     "start_time": "2023-05-15T16:10:49.239797",
     "status": "completed"
    },
    "tags": []
   },
   "outputs": [],
   "source": [
    "class LinearRegression(torch.nn.Module):\n",
    "    \"\"\"\n",
    "    Logistic regression model inherits the torch.nn.Module \n",
    "    which is the base class for all neural network modules.\n",
    "    \"\"\"\n",
    "    def __init__(self, input_dim, output_dim):\n",
    "        \"\"\" Initializes internal Module state. \"\"\"\n",
    "        super(LinearRegression, self).__init__()\n",
    "        # TODO define linear layer for the model\n",
    "        self.linlay = torch.nn.Linear(input_dim, output_dim)\n",
    "\n",
    "\n",
    "    def forward(self, x):\n",
    "        \"\"\" Defines the computation performed at every call. \"\"\"\n",
    "        # What are the dimensions of your input layer?\n",
    "        # TODO flatten the input to a suitable size for the initial layer\n",
    "        x = x.view(x.size(0), -1)\n",
    "        \n",
    "        '''\n",
    "        The view function is used in PyTorch to reshape tensors. It returns a tensor \n",
    "        with the same data as the original tensor but with a different size or shape. \n",
    "        The argument passed to view specifies the new size or shape of the tensor.\n",
    "        In this case the rows of x are taken (256). The \"-1\" \n",
    "        The view function is used in PyTorch to reshape tensors. \n",
    "        It returns a tensor with the same data as the original tensor but with a different size or shape. \n",
    "        The argument passed to view specifies the new size or shape of the tensor.\n",
    "        '''\n",
    "\n",
    "        # TODO run the data through the layer\n",
    "        outputs = self.linlay(x)\n",
    "\n",
    "        return outputs"
   ]
  },
  {
   "cell_type": "markdown",
   "id": "aa8d0154",
   "metadata": {
    "id": "NhtEaHPxw3Hu",
    "papermill": {
     "duration": 0.023295,
     "end_time": "2023-05-15T16:10:49.321559",
     "exception": false,
     "start_time": "2023-05-15T16:10:49.298264",
     "status": "completed"
    },
    "tags": []
   },
   "source": [
    "### Instantiate the Model\n",
    "\n",
    "Let us instantiate the model and take a look at the inside. It is always a good idea to verify that the actual architecture is what you intended it to be. Especially, when you start to create layers dynamically it is great for inspection/verification/debugging."
   ]
  },
  {
   "cell_type": "code",
   "execution_count": 32,
   "id": "de4651ac",
   "metadata": {
    "execution": {
     "iopub.execute_input": "2023-05-15T16:10:49.372085Z",
     "iopub.status.busy": "2023-05-15T16:10:49.371075Z",
     "iopub.status.idle": "2023-05-15T16:10:49.379118Z",
     "shell.execute_reply": "2023-05-15T16:10:49.378211Z"
    },
    "id": "9h8Zg06BOkft",
    "papermill": {
     "duration": 0.035768,
     "end_time": "2023-05-15T16:10:49.381339",
     "exception": false,
     "start_time": "2023-05-15T16:10:49.345571",
     "status": "completed"
    },
    "tags": []
   },
   "outputs": [
    {
     "name": "stdout",
     "output_type": "stream",
     "text": [
      "LinearRegression(\n",
      "  (linlay): Linear(in_features=81, out_features=1, bias=True)\n",
      ")\n"
     ]
    }
   ],
   "source": [
    "# TODO instantiate the model\n",
    "model = LinearRegression(input_dim, output_dim)\n",
    "#This will create an instance of the LinearRegression class with the specified input and output dimensions.\n",
    "print(model)"
   ]
  },
  {
   "cell_type": "markdown",
   "id": "885edb42",
   "metadata": {
    "id": "TGLn5kqx0Nzb",
    "papermill": {
     "duration": 0.023965,
     "end_time": "2023-05-15T16:10:49.429605",
     "exception": false,
     "start_time": "2023-05-15T16:10:49.405640",
     "status": "completed"
    },
    "tags": []
   },
   "source": [
    "Feed the model to the GPU if available."
   ]
  },
  {
   "cell_type": "code",
   "execution_count": 33,
   "id": "fea14b1b",
   "metadata": {
    "execution": {
     "iopub.execute_input": "2023-05-15T16:10:49.478887Z",
     "iopub.status.busy": "2023-05-15T16:10:49.478522Z",
     "iopub.status.idle": "2023-05-15T16:10:49.484929Z",
     "shell.execute_reply": "2023-05-15T16:10:49.484002Z"
    },
    "id": "MhOt6uzU0UBb",
    "papermill": {
     "duration": 0.033694,
     "end_time": "2023-05-15T16:10:49.487103",
     "exception": false,
     "start_time": "2023-05-15T16:10:49.453409",
     "status": "completed"
    },
    "tags": []
   },
   "outputs": [],
   "source": [
    "# TODO move model to device you specified above\n",
    "model = model.to(device)\n"
   ]
  },
  {
   "cell_type": "markdown",
   "id": "665b4661",
   "metadata": {
    "id": "TdVAcmh-A27Q",
    "papermill": {
     "duration": 0.023807,
     "end_time": "2023-05-15T16:10:49.535382",
     "exception": false,
     "start_time": "2023-05-15T16:10:49.511575",
     "status": "completed"
    },
    "tags": []
   },
   "source": [
    "Put the model in training mode."
   ]
  },
  {
   "cell_type": "code",
   "execution_count": 34,
   "id": "68feb2e0",
   "metadata": {
    "execution": {
     "iopub.execute_input": "2023-05-15T16:10:49.585025Z",
     "iopub.status.busy": "2023-05-15T16:10:49.584099Z",
     "iopub.status.idle": "2023-05-15T16:10:49.590451Z",
     "shell.execute_reply": "2023-05-15T16:10:49.589576Z"
    },
    "id": "RfWmXXNCA6sp",
    "papermill": {
     "duration": 0.033474,
     "end_time": "2023-05-15T16:10:49.592686",
     "exception": false,
     "start_time": "2023-05-15T16:10:49.559212",
     "status": "completed"
    },
    "tags": []
   },
   "outputs": [
    {
     "data": {
      "text/plain": [
       "LinearRegression(\n",
       "  (linlay): Linear(in_features=81, out_features=1, bias=True)\n",
       ")"
      ]
     },
     "execution_count": 34,
     "metadata": {},
     "output_type": "execute_result"
    }
   ],
   "source": [
    "# TODO put the model in train mode\n",
    "model.train()"
   ]
  },
  {
   "cell_type": "markdown",
   "id": "5e1e7dc8",
   "metadata": {
    "id": "M9zCHNoVxM46",
    "papermill": {
     "duration": 0.023512,
     "end_time": "2023-05-15T16:10:49.639938",
     "exception": false,
     "start_time": "2023-05-15T16:10:49.616426",
     "status": "completed"
    },
    "tags": []
   },
   "source": [
    "### Define a Loss Function\n",
    "\n",
    "Since we're dealing with regression progrem, [MSELoss](https://pytorch.org/docs/stable/generated/torch.nn.MSELoss.html) is the canonical choice for the loss. "
   ]
  },
  {
   "cell_type": "code",
   "execution_count": 35,
   "id": "3b802796",
   "metadata": {
    "execution": {
     "iopub.execute_input": "2023-05-15T16:10:49.689369Z",
     "iopub.status.busy": "2023-05-15T16:10:49.688410Z",
     "iopub.status.idle": "2023-05-15T16:10:49.693679Z",
     "shell.execute_reply": "2023-05-15T16:10:49.692773Z"
    },
    "id": "NDUHKbO3OmWU",
    "papermill": {
     "duration": 0.031958,
     "end_time": "2023-05-15T16:10:49.695672",
     "exception": false,
     "start_time": "2023-05-15T16:10:49.663714",
     "status": "completed"
    },
    "tags": []
   },
   "outputs": [],
   "source": [
    "# TODO define the loss function\n",
    "loss_function = torch.nn.MSELoss()\n",
    "# This creates an instance of the MSELoss class, \n",
    "# which measures the mean squared error between each element in the predicted and target tensor."
   ]
  },
  {
   "cell_type": "markdown",
   "id": "d57bfbb6",
   "metadata": {
    "id": "VcANGg6Lx-Gk",
    "papermill": {
     "duration": 0.024916,
     "end_time": "2023-05-15T16:10:49.744884",
     "exception": false,
     "start_time": "2023-05-15T16:10:49.719968",
     "status": "completed"
    },
    "tags": []
   },
   "source": [
    "### Define the Optimizer\n",
    "\n",
    "The optimizer is the learning algorithm we use. In this case, we use Stochastic Gradient Descent (SGD)."
   ]
  },
  {
   "cell_type": "code",
   "execution_count": 36,
   "id": "4ccad761",
   "metadata": {
    "execution": {
     "iopub.execute_input": "2023-05-15T16:10:49.795207Z",
     "iopub.status.busy": "2023-05-15T16:10:49.794841Z",
     "iopub.status.idle": "2023-05-15T16:10:49.799523Z",
     "shell.execute_reply": "2023-05-15T16:10:49.798664Z"
    },
    "id": "F_d89VCXOruD",
    "papermill": {
     "duration": 0.032477,
     "end_time": "2023-05-15T16:10:49.801760",
     "exception": false,
     "start_time": "2023-05-15T16:10:49.769283",
     "status": "completed"
    },
    "tags": []
   },
   "outputs": [],
   "source": [
    "# DO NOT CHANGE\n",
    "optimizer = torch.optim.SGD(model.parameters(), lr=lr)"
   ]
  },
  {
   "cell_type": "markdown",
   "id": "a8f1505c",
   "metadata": {
    "id": "tHTc6mF_kXfF",
    "papermill": {
     "duration": 0.025782,
     "end_time": "2023-05-15T16:10:49.851313",
     "exception": false,
     "start_time": "2023-05-15T16:10:49.825531",
     "status": "completed"
    },
    "tags": []
   },
   "source": [
    "## Model Fitting"
   ]
  },
  {
   "cell_type": "markdown",
   "id": "160e6f36",
   "metadata": {
    "id": "tli1No3uUPU7",
    "papermill": {
     "duration": 0.02652,
     "end_time": "2023-05-15T16:10:49.903605",
     "exception": false,
     "start_time": "2023-05-15T16:10:49.877085",
     "status": "completed"
    },
    "tags": []
   },
   "source": [
    "### Train the Model\n",
    "\n",
    "Everything is set for the model to train!\n",
    "\n",
    "- In the forward pass, the prediction is made using the previously defined model on the elements of the dataloader.\n",
    "- Then the loss (or error) needs to be computed by comparing the prediction to the actual label.\n",
    "- In the backward pass, the model learns and updates its weights based on the current gradient."
   ]
  },
  {
   "cell_type": "code",
   "execution_count": 37,
   "id": "e9e8e122",
   "metadata": {
    "execution": {
     "iopub.execute_input": "2023-05-15T16:10:49.956786Z",
     "iopub.status.busy": "2023-05-15T16:10:49.956408Z",
     "iopub.status.idle": "2023-05-15T16:10:51.842719Z",
     "shell.execute_reply": "2023-05-15T16:10:51.841267Z"
    },
    "id": "2XKR1GPOOy3b",
    "papermill": {
     "duration": 1.91525,
     "end_time": "2023-05-15T16:10:51.845125",
     "exception": false,
     "start_time": "2023-05-15T16:10:49.929875",
     "status": "completed"
    },
    "tags": []
   },
   "outputs": [
    {
     "name": "stdout",
     "output_type": "stream",
     "text": [
      "Epoch 0, Loss: 1459.3524\n"
     ]
    }
   ],
   "source": [
    "for epoch in range(epochs):\n",
    "    for (x, y) in train_dataloader:\n",
    "        # move the data to the device\n",
    "        x = x.to(device)\n",
    "        y = y.to(device)\n",
    "\n",
    "        # delete the gradients from last training iteration\n",
    "        optimizer.zero_grad()\n",
    "\n",
    "        # Forward pass: get predictions\n",
    "        y_pred = model(x)\n",
    "\n",
    "        # Compute loss\n",
    "        loss = loss_function(y_pred.squeeze(), y)\n",
    "\n",
    "        # Backward pass -> calculate gradients, update weights\n",
    "        loss.backward()\n",
    "        optimizer.step()\n",
    "\n",
    "    # Print progress\n",
    "    if epoch % 5 == 0:\n",
    "        print(f'Epoch {epoch}, Loss: {loss.item():.4f}')\n"
   ]
  },
  {
   "cell_type": "markdown",
   "id": "d6c13451",
   "metadata": {
    "id": "swruGhCBUMWx",
    "papermill": {
     "duration": 0.025692,
     "end_time": "2023-05-15T16:10:51.899442",
     "exception": false,
     "start_time": "2023-05-15T16:10:51.873750",
     "status": "completed"
    },
    "tags": []
   },
   "source": [
    "### Make a Prediction\n",
    "\n",
    "Now that our model is trained, we can make a new prediction by inputting an unseen data row from the test dataset.\n",
    "\n",
    "Run this cell several times, does the model predict accurately? \n",
    "\n",
    "Set the number of epochs to 15 and try again!"
   ]
  },
  {
   "cell_type": "markdown",
   "id": "f662b465",
   "metadata": {
    "id": "xkR1ckMB7MJd",
    "papermill": {
     "duration": 0.025618,
     "end_time": "2023-05-15T16:10:51.951071",
     "exception": false,
     "start_time": "2023-05-15T16:10:51.925453",
     "status": "completed"
    },
    "tags": []
   },
   "source": [
    "**TODO your answer here** - \n",
    "\n",
    "Not really accurate predictions."
   ]
  },
  {
   "cell_type": "code",
   "execution_count": 38,
   "id": "f44fb9ee",
   "metadata": {
    "execution": {
     "iopub.execute_input": "2023-05-15T16:10:52.005742Z",
     "iopub.status.busy": "2023-05-15T16:10:52.004526Z",
     "iopub.status.idle": "2023-05-15T16:10:52.046534Z",
     "shell.execute_reply": "2023-05-15T16:10:52.045068Z"
    },
    "id": "uzgzX4IfCoqJ",
    "papermill": {
     "duration": 0.071974,
     "end_time": "2023-05-15T16:10:52.049085",
     "exception": false,
     "start_time": "2023-05-15T16:10:51.977111",
     "status": "completed"
    },
    "tags": []
   },
   "outputs": [
    {
     "name": "stdout",
     "output_type": "stream",
     "text": [
      "predicted label:  tensor([21.3056], device='cuda:0')\n",
      "given label:  tensor(56.2000)\n"
     ]
    }
   ],
   "source": [
    "# TODO get a random element of the test dataloader\n",
    "x, y = next(iter(test_dataloader))\n",
    "\n",
    "# TODO set model in eval mode\n",
    "model.eval()\n",
    "\n",
    "# no automatic gradient update needed in evaluation\n",
    "with torch.no_grad():\n",
    "    # TODO make a prediction\n",
    "    y_pred = model(x.to(device))\n",
    "\n",
    "\n",
    "i = random.randint(0, 255)    \n",
    "    \n",
    "# print predicted label and given label\n",
    "print(\"predicted label: \", y_pred[i])\n",
    "print(\"given label: \", y[i])\n"
   ]
  },
  {
   "cell_type": "markdown",
   "id": "573785fd",
   "metadata": {
    "papermill": {
     "duration": 0.026193,
     "end_time": "2023-05-15T16:10:52.101974",
     "exception": false,
     "start_time": "2023-05-15T16:10:52.075781",
     "status": "completed"
    },
    "tags": []
   },
   "source": [
    "Runnning again with epoch = 15:"
   ]
  },
  {
   "cell_type": "code",
   "execution_count": 39,
   "id": "98fd937a",
   "metadata": {
    "execution": {
     "iopub.execute_input": "2023-05-15T16:10:52.156385Z",
     "iopub.status.busy": "2023-05-15T16:10:52.155415Z",
     "iopub.status.idle": "2023-05-15T16:10:55.664419Z",
     "shell.execute_reply": "2023-05-15T16:10:55.663007Z"
    },
    "papermill": {
     "duration": 3.538729,
     "end_time": "2023-05-15T16:10:55.666840",
     "exception": false,
     "start_time": "2023-05-15T16:10:52.128111",
     "status": "completed"
    },
    "tags": []
   },
   "outputs": [
    {
     "name": "stdout",
     "output_type": "stream",
     "text": [
      "Epoch 0, Loss: 1429.6852\n",
      "Epoch 2, Loss: 1129.5092\n",
      "Epoch 4, Loss: 883.2308\n",
      "Epoch 6, Loss: 636.6010\n",
      "Epoch 8, Loss: 465.4050\n",
      "Epoch 10, Loss: 624.3203\n",
      "Epoch 12, Loss: 480.0205\n",
      "Epoch 14, Loss: 440.4783\n",
      "predicted label:  tensor([22.2354], device='cuda:0')\n",
      "given label:  tensor(35.6000)\n"
     ]
    }
   ],
   "source": [
    "epochs = 15 \n",
    "train_dataloader = torch.utils.data.DataLoader(conductor_train, batch_size=batch_size, shuffle=True)\n",
    "val_dataloader = torch.utils.data.DataLoader(conductor_val, batch_size=batch_size, shuffle=True)\n",
    "test_dataloader = torch.utils.data.DataLoader(conductor_test, batch_size=batch_size, shuffle=True)\n",
    "\n",
    "model = LinearRegression(input_dim, output_dim)\n",
    "optimizer = torch.optim.SGD(model.parameters(), lr=lr)\n",
    "model = model.to(device)\n",
    "model.train()\n",
    "\n",
    "for epoch in range(epochs):\n",
    "    for i, (x, y) in enumerate(train_dataloader):\n",
    "        # move the data to the device\n",
    "        x = x.to(device)\n",
    "        y = y.to(device)\n",
    "\n",
    "        # delete the gradients from last training iteration\n",
    "        optimizer.zero_grad()\n",
    "\n",
    "        # Forward pass: get predictions\n",
    "        y_pred = model(x)\n",
    "\n",
    "        # Compute loss\n",
    "        loss = loss_function(y_pred.squeeze(), y)\n",
    "\n",
    "        # Backward pass -> calculate gradients, update weights\n",
    "        loss.backward()\n",
    "        optimizer.step()\n",
    "\n",
    "    # Print progress\n",
    "    if epoch % 2 == 0:\n",
    "        print(f'Epoch {epoch}, Loss: {loss.item():.4f}')\n",
    "\n",
    "# TODO get a random element of the test dataloader\n",
    "x, y = next(iter(test_dataloader))\n",
    "\n",
    "# TODO set model in eval mode\n",
    "model.eval()\n",
    "\n",
    "# no automatic gradient update needed in evaluation\n",
    "with torch.no_grad():\n",
    "    # TODO make a prediction\n",
    "    y_pred = model(x.to(device))\n",
    "\n",
    "\n",
    "i = random.randint(0, 255)    \n",
    "    \n",
    "# print predicted label and given label\n",
    "print(\"predicted label: \", y_pred[i])\n",
    "print(\"given label: \", y[i])"
   ]
  },
  {
   "cell_type": "markdown",
   "id": "9cde8c5f",
   "metadata": {
    "id": "n2sGY16whRfa",
    "papermill": {
     "duration": 0.024888,
     "end_time": "2023-05-15T16:10:55.719232",
     "exception": false,
     "start_time": "2023-05-15T16:10:55.694344",
     "status": "completed"
    },
    "tags": []
   },
   "source": [
    "### Track and Plot the Training and Validation error "
   ]
  },
  {
   "cell_type": "markdown",
   "id": "25eec4c8",
   "metadata": {
    "id": "K9u7r2IoJ-UQ",
    "papermill": {
     "duration": 0.02454,
     "end_time": "2023-05-15T16:10:55.768128",
     "exception": false,
     "start_time": "2023-05-15T16:10:55.743588",
     "status": "completed"
    },
    "tags": []
   },
   "source": [
    "What we have seen so far is the basic principle of training a model and making a prediction. But one might be interesting to see more about the training process, for instance how the training error evolves with time.\n",
    "\n",
    "For this step, we are going to **refine the training process** and **add some important information saving for plotting**."
   ]
  },
  {
   "cell_type": "markdown",
   "id": "b4f28ac6",
   "metadata": {
    "id": "dQ5Pi2VZ46iX",
    "papermill": {
     "duration": 0.025467,
     "end_time": "2023-05-15T16:10:55.819088",
     "exception": false,
     "start_time": "2023-05-15T16:10:55.793621",
     "status": "completed"
    },
    "tags": []
   },
   "source": [
    "Create a plot using **seaborn** that contains both the losses on training set and the losses on the validation set for each epoch.\n",
    "\n",
    "\n",
    "The plot should look similar to this:\n",
    "\n",
    "\n",
    "![image.png](data:image/png;base64,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)\n",
    "\n",
    "\n",
    "**Note:** Do not forget to add title, axis labels and a legend!\n",
    "This applies in general, please keep in mind for future exercise sheets."
   ]
  },
  {
   "cell_type": "code",
   "execution_count": 40,
   "id": "9b13e1d0",
   "metadata": {
    "execution": {
     "iopub.execute_input": "2023-05-15T16:10:55.871261Z",
     "iopub.status.busy": "2023-05-15T16:10:55.870337Z",
     "iopub.status.idle": "2023-05-15T16:10:55.878618Z",
     "shell.execute_reply": "2023-05-15T16:10:55.877774Z"
    },
    "id": "FmVlH408Tfkn",
    "papermill": {
     "duration": 0.035946,
     "end_time": "2023-05-15T16:10:55.880604",
     "exception": false,
     "start_time": "2023-05-15T16:10:55.844658",
     "status": "completed"
    },
    "tags": []
   },
   "outputs": [],
   "source": [
    "# TODO refine the training function from above\n",
    "# it should contain:\n",
    "# - saving of losses\n",
    "# - returning the mean loss (over all batches?)\n",
    "\n",
    "def train(model, train_dataloader, loss_function, optimizer):\n",
    "    \n",
    "    model.train()\n",
    "    train_losses = []\n",
    "    mean_loss = 0.0\n",
    "    \n",
    "    \n",
    "    for x, y in train_dataloader:\n",
    "        x = x.to(device)\n",
    "        y = y.to(device)\n",
    "\n",
    "        optimizer.zero_grad()\n",
    "\n",
    "        y_pred = model(x)\n",
    "\n",
    "        loss = loss_function(y_pred.squeeze(), y)\n",
    "        \n",
    "        train_losses.append(loss.item())\n",
    "        mean_loss += loss.item()\n",
    "        \n",
    "        loss.backward()\n",
    "        optimizer.step()\n",
    "\n",
    "    n = len(train_dataloader)\n",
    "    mean_loss /= n\n",
    "    \n",
    "    return train_losses, mean_loss\n",
    "\n"
   ]
  },
  {
   "cell_type": "code",
   "execution_count": 41,
   "id": "4a196916",
   "metadata": {
    "execution": {
     "iopub.execute_input": "2023-05-15T16:10:55.930969Z",
     "iopub.status.busy": "2023-05-15T16:10:55.930630Z",
     "iopub.status.idle": "2023-05-15T16:10:55.937640Z",
     "shell.execute_reply": "2023-05-15T16:10:55.936518Z"
    },
    "id": "kJ1X0VTHZ-lS",
    "papermill": {
     "duration": 0.034762,
     "end_time": "2023-05-15T16:10:55.939966",
     "exception": false,
     "start_time": "2023-05-15T16:10:55.905204",
     "status": "completed"
    },
    "tags": []
   },
   "outputs": [],
   "source": [
    "# TODO write a validation function that calculates the loss on the validation set\n",
    "# you can also combine it with the training function\n",
    "def validate(model, val_dataloader, loss_function):\n",
    "    val_losses = []\n",
    "    mean_loss = 0.0\n",
    "    \n",
    "    model.eval()  # Set the model in evaluation mode\n",
    "    \n",
    "    with torch.no_grad():\n",
    "        for x, y in val_dataloader:\n",
    "            x = x.to(device)\n",
    "            y = y.to(device)\n",
    "\n",
    "            y_pred = model(x)\n",
    "\n",
    "            loss = loss_function(y_pred.squeeze(), y)\n",
    "            val_losses.append(loss.item())\n",
    "            mean_loss += loss.item()\n",
    "            \n",
    "    n = len(val_dataloader)\n",
    "\n",
    "    mean_loss /= n\n",
    "    \n",
    "    return val_losses, mean_loss\n",
    "\n"
   ]
  },
  {
   "cell_type": "code",
   "execution_count": 42,
   "id": "cd21fbb1",
   "metadata": {
    "execution": {
     "iopub.execute_input": "2023-05-15T16:10:55.990862Z",
     "iopub.status.busy": "2023-05-15T16:10:55.990562Z",
     "iopub.status.idle": "2023-05-15T16:10:55.998211Z",
     "shell.execute_reply": "2023-05-15T16:10:55.997256Z"
    },
    "id": "dVh-o4vJVRLh",
    "papermill": {
     "duration": 0.035861,
     "end_time": "2023-05-15T16:10:56.000340",
     "exception": false,
     "start_time": "2023-05-15T16:10:55.964479",
     "status": "completed"
    },
    "tags": []
   },
   "outputs": [],
   "source": [
    "# TODO write a run_training function that \n",
    "# - calls the train and validate functions for each epoch\n",
    "# - saves the MEAN (??) train_losses, val_losses as arrays for each epoch\n",
    "def run_training(model, train_dataloader, val_dataloader, loss_function, optimizer, num_epochs):\n",
    "    \n",
    "    train_losses = []\n",
    "    val_losses = []\n",
    "\n",
    "    for epoch in range(num_epochs):\n",
    "        train_loss, train_mean_loss = train(model, train_dataloader, loss_function, optimizer)\n",
    "        val_loss, val_mean_loss = validate(model, val_dataloader, loss_function)\n",
    "\n",
    "        train_losses.append(train_mean_loss)\n",
    "        val_losses.append(val_mean_loss)\n",
    "\n",
    "        # Print progress\n",
    "        #print(f'Epoch {epoch+1}/{num_epochs}, Train Loss: {train_mean_loss:.4f}, Val Loss: {val_mean_loss:.4f}')\n",
    "\n",
    "    return train_losses, val_losses\n",
    "\n",
    "\n",
    "\n",
    "\n"
   ]
  },
  {
   "cell_type": "code",
   "execution_count": 43,
   "id": "6d5f910e",
   "metadata": {
    "execution": {
     "iopub.execute_input": "2023-05-15T16:10:56.053131Z",
     "iopub.status.busy": "2023-05-15T16:10:56.051420Z",
     "iopub.status.idle": "2023-05-15T16:10:58.815992Z",
     "shell.execute_reply": "2023-05-15T16:10:58.814832Z"
    },
    "id": "vmnXzMswyysS",
    "papermill": {
     "duration": 2.793918,
     "end_time": "2023-05-15T16:10:58.818933",
     "exception": false,
     "start_time": "2023-05-15T16:10:56.025015",
     "status": "completed"
    },
    "tags": []
   },
   "outputs": [
    {
     "name": "stdout",
     "output_type": "stream",
     "text": [
      "[1730.759678279673, 1361.3353614875916, 1153.5321122129171, 996.6505095206759, 873.9304224900796, 778.3739674772349, 702.3903872967743, 642.6673711739032, 594.9439246354832, 556.8912771230025]\n",
      "[1405.9655833104396, 1184.9556175985083, 1010.7877648771113, 875.9873595087956, 773.1264226394982, 693.8665494699806, 633.2589728168457, 583.9333873856499, 545.7381083337474, 520.7832642626936]\n"
     ]
    }
   ],
   "source": [
    "# TODO call the run_training function and run it for 10 epochs.\n",
    "\n",
    "num_epochs = 10\n",
    "\n",
    "train_dataloader = torch.utils.data.DataLoader(conductor_train, batch_size=batch_size, shuffle=True)\n",
    "val_dataloader = torch.utils.data.DataLoader(conductor_val, batch_size=batch_size, shuffle=True)\n",
    "test_dataloader = torch.utils.data.DataLoader(conductor_test, batch_size=batch_size, shuffle=True)\n",
    "model = LinearRegression(input_dim, output_dim)\n",
    "optimizer = torch.optim.SGD(model.parameters(), lr=lr)\n",
    "model = model.to(device)\n",
    "    \n",
    "train_losses, val_losses = run_training(model, train_dataloader, val_dataloader, loss_function, optimizer, num_epochs)\n",
    "\n",
    "print(train_losses)\n",
    "print(val_losses)"
   ]
  },
  {
   "cell_type": "code",
   "execution_count": 44,
   "id": "2b70fd99",
   "metadata": {
    "execution": {
     "iopub.execute_input": "2023-05-15T16:10:58.880653Z",
     "iopub.status.busy": "2023-05-15T16:10:58.879660Z",
     "iopub.status.idle": "2023-05-15T16:10:58.886560Z",
     "shell.execute_reply": "2023-05-15T16:10:58.885504Z"
    },
    "id": "0Y9OzZd3fFeE",
    "papermill": {
     "duration": 0.039763,
     "end_time": "2023-05-15T16:10:58.888785",
     "exception": false,
     "start_time": "2023-05-15T16:10:58.849022",
     "status": "completed"
    },
    "tags": []
   },
   "outputs": [],
   "source": [
    "# TODO write a plot function\n",
    "def plot_losses(train_losses, val_losses):\n",
    "    plt.figure(figsize=(10, 5))\n",
    "    plt.plot(train_losses, 'o--', label='Train Loss') \n",
    "    plt.plot(val_losses, 'o--', label='Validation Loss')\n",
    "    plt.xlabel('Epoch')\n",
    "    plt.ylabel('Loss')\n",
    "    plt.title('Training and Validation Loss')\n",
    "    plt.legend()\n",
    "    plt.show()"
   ]
  },
  {
   "cell_type": "code",
   "execution_count": 45,
   "id": "cecc6c70",
   "metadata": {
    "execution": {
     "iopub.execute_input": "2023-05-15T16:10:58.942379Z",
     "iopub.status.busy": "2023-05-15T16:10:58.941990Z",
     "iopub.status.idle": "2023-05-15T16:10:59.251215Z",
     "shell.execute_reply": "2023-05-15T16:10:59.250153Z"
    },
    "id": "oElpprFbdh6r",
    "papermill": {
     "duration": 0.338452,
     "end_time": "2023-05-15T16:10:59.253626",
     "exception": false,
     "start_time": "2023-05-15T16:10:58.915174",
     "status": "completed"
    },
    "tags": []
   },
   "outputs": [
    {
     "data": {
      "image/png": "[encoded data removed]",
      "text/plain": [
       "<Figure size 1000x500 with 1 Axes>"
      ]
     },
     "metadata": {},
     "output_type": "display_data"
    }
   ],
   "source": [
    "# TODO plot losses\n",
    "plot_losses(train_losses, val_losses)\n"
   ]
  },
  {
   "cell_type": "code",
   "execution_count": 46,
   "id": "f4055576",
   "metadata": {
    "execution": {
     "iopub.execute_input": "2023-05-15T16:10:59.310319Z",
     "iopub.status.busy": "2023-05-15T16:10:59.309339Z",
     "iopub.status.idle": "2023-05-15T16:10:59.314387Z",
     "shell.execute_reply": "2023-05-15T16:10:59.313387Z"
    },
    "papermill": {
     "duration": 0.035589,
     "end_time": "2023-05-15T16:10:59.316650",
     "exception": false,
     "start_time": "2023-05-15T16:10:59.281061",
     "status": "completed"
    },
    "tags": []
   },
   "outputs": [],
   "source": [
    "# TODO comment on the loss curve. Does it look as expected? Why/Why not?\n",
    "# If not, what might be the reason."
   ]
  },
  {
   "cell_type": "markdown",
   "id": "47a92196",
   "metadata": {
    "papermill": {
     "duration": 0.026723,
     "end_time": "2023-05-15T16:10:59.370556",
     "exception": false,
     "start_time": "2023-05-15T16:10:59.343833",
     "status": "completed"
    },
    "tags": []
   },
   "source": [
    "**TODO** Compare the pytorch resulting loss value and the resulting loss from practical 1? Are they the same? Why?"
   ]
  }
 ],
 "metadata": {
  "kernelspec": {
   "display_name": "Python 3",
   "language": "python",
   "name": "python3"
  },
  "language_info": {
   "codemirror_mode": {
    "name": "ipython",
    "version": 3
   },
   "file_extension": ".py",
   "mimetype": "text/x-python",
   "name": "python",
   "nbconvert_exporter": "python",
   "pygments_lexer": "ipython3",
   "version": "3.10.10"
  },
  "papermill": {
   "default_parameters": {},
   "duration": 35.696043,
   "end_time": "2023-05-15T16:11:01.222838",
   "environment_variables": {},
   "exception": null,
   "input_path": "__notebook__.ipynb",
   "output_path": "__notebook__.ipynb",
   "parameters": {},
   "start_time": "2023-05-15T16:10:25.526795",
   "version": "2.4.0"
  }
 },
 "nbformat": 4,
 "nbformat_minor": 5
}
