{
  "cells": [
    {
      "attachments": {},
      "cell_type": "markdown",
      "id": "bc713cda",
      "metadata": {
        "id": "bc713cda"
      },
      "source": [
        "# Machine Learning - Practical 4 - Deep Learning VS Trees\n",
        "\n",
        "\n",
        "Names: {YOUR NAMES}  \n",
        "Summer Term 2023   \n",
        "Due Date: Tuesday, June 13, 2pm"
      ]
    },
    {
      "attachments": {},
      "cell_type": "markdown",
      "id": "0e394c4e",
      "metadata": {
        "id": "0e394c4e"
      },
      "source": [
        "In this practical we are going to use a tabular dataset. We will test two different approaches - forests and neural networks and compare performance. We are also going to learn how to make trees interpretable."
      ]
    },
    {
      "attachments": {},
      "cell_type": "markdown",
      "id": "72933ee7",
      "metadata": {
        "id": "72933ee7"
      },
      "source": [
        "To prepare this tutorial we used [this paper](https://arxiv.org/pdf/2207.08815.pdf) with its [repository](https://github.com/LeoGrin/tabular-benchmark).\n",
        "\n",
        "For explained variance in trees, you can read more [here](https://scikit-learn.org/0.15/auto_examples/ensemble/plot_gradient_boosting_regression.html#example-ensemble-plot-gradient-boosting-regression-py).\n"
      ]
    },
    {
      "cell_type": "code",
      "execution_count": 1,
      "id": "218de310",
      "metadata": {
        "colab": {
          "base_uri": "https://localhost:8080/"
        },
        "id": "218de310",
        "outputId": "93864191-1b7e-479f-bfd3-0759b4847266",
        "scrolled": false
      },
      "outputs": [
        {
          "data": {
            "text/plain": [
              "<torch._C.Generator at 0x2a810831b70>"
            ]
          },
          "execution_count": 1,
          "metadata": {},
          "output_type": "execute_result"
        }
      ],
      "source": [
        "%matplotlib inline\n",
        "\n",
        "import pandas as pd\n",
        "import seaborn as sns\n",
        "import matplotlib.pyplot as plt\n",
        "import numpy as np\n",
        "import pickle\n",
        "import os\n",
        "\n",
        "from sklearn.model_selection import train_test_split\n",
        "from sklearn.ensemble import GradientBoostingClassifier\n",
        "from sklearn.metrics import recall_score, precision_score, accuracy_score\n",
        "\n",
        "from PIL import Image\n",
        "import torch\n",
        "import torch.nn as nn\n",
        "from torch.utils.data import DataLoader, Dataset, Subset\n",
        "import torchvision.datasets as datasets\n",
        "import torchvision.transforms as transforms\n",
        "from torchvision.utils import make_grid\n",
        "torch.manual_seed(42) # Set manual seed"
      ]
    },
    {
      "cell_type": "code",
      "execution_count": 2,
      "id": "3bb2c837",
      "metadata": {
        "id": "3bb2c837"
      },
      "outputs": [
        {
          "name": "stdout",
          "output_type": "stream",
          "text": [
            "Using device cuda:0\n"
          ]
        }
      ],
      "source": [
        "# DO NOT CHANGE\n",
        "use_cuda = True\n",
        "use_cuda = False if not use_cuda else torch.cuda.is_available()\n",
        "device = torch.device('cuda:0' if use_cuda else 'cpu')\n",
        "torch.cuda.get_device_name(device) if use_cuda else 'cpu'\n",
        "print('Using device', device)"
      ]
    },
    {
      "attachments": {},
      "cell_type": "markdown",
      "id": "8e24771e",
      "metadata": {
        "id": "8e24771e"
      },
      "source": [
        "## Load, clean and split the tabular dataset"
      ]
    },
    {
      "attachments": {},
      "cell_type": "markdown",
      "id": "61d9f9e1",
      "metadata": {
        "id": "61d9f9e1"
      },
      "source": [
        "We use the preprocessing pipeline from [Grinsztajn, 2022](https://arxiv.org/pdf/2207.08815.pdf).\n",
        "\n",
        "**No missing data**    \n",
        "\n",
        "Remove all rows containing at least one missing entry.    \n",
        "\n",
        "*In practice people often do not remove rows with missing values but try to fill missing values in a column with the mean or median values for numerical data and mode or median values for categorical data. Sometimes even simple prediction models are used to fill in the gaps but we will remove rows or columns with missing values for the sake of simplicity*\n",
        "\n",
        "**Balanced classes**   \n",
        "\n",
        "For classification, the target is binarised if there are multiple classes, by taking the two most numerous classes, and we keep half of samples in each class.\n",
        "\n",
        "**Low cardinality categorical features**   \n",
        "\n",
        "Remove categorical features with more than 20 items. \n",
        "\n",
        "**High cardinality numerical features**   \n",
        "\n",
        "Remove numerical features with less than 10 unique values. Convert numerical features with 2 unique values to categorical."
      ]
    },
    {
      "attachments": {},
      "cell_type": "markdown",
      "id": "Gyi3ep5EtiIf",
      "metadata": {
        "id": "Gyi3ep5EtiIf"
      },
      "source": [
        "**Data description:**  \n",
        "Data reported to the police about the circumstances of personal injury road accidents in Great Britain from 1979. This version includes data up to 2015. We will try to predict the sex of the driver based on the data provided."
      ]
    },
    {
      "cell_type": "code",
      "execution_count": 9,
      "id": "bbc76543",
      "metadata": {
        "id": "bbc76543"
      },
      "outputs": [],
      "source": [
        "## In case you have any issues with loading the pickle file\n",
        "## check that your pandas version is 1.4.1\n",
        "## or just simply run:\n",
        "## pip install pandas==1.4.1\n",
        "\n",
        "with open('adopted_road_safety.pkl', 'rb') as f:\n",
        "    dataset = pickle.load(f)"
      ]
    },
    {
      "cell_type": "code",
      "execution_count": 10,
      "id": "288e7151",
      "metadata": {
        "id": "288e7151"
      },
      "outputs": [
        {
          "data": {
            "text/html": [
              "<div>\n",
              "<style scoped>\n",
              "    .dataframe tbody tr th:only-of-type {\n",
              "        vertical-align: middle;\n",
              "    }\n",
              "\n",
              "    .dataframe tbody tr th {\n",
              "        vertical-align: top;\n",
              "    }\n",
              "\n",
              "    .dataframe thead th {\n",
              "        text-align: right;\n",
              "    }\n",
              "</style>\n",
              "<table border=\"1\" class=\"dataframe\">\n",
              "  <thead>\n",
              "    <tr style=\"text-align: right;\">\n",
              "      <th></th>\n",
              "      <th>Accident_Index</th>\n",
              "      <th>Vehicle_Reference_df_res</th>\n",
              "      <th>Vehicle_Type</th>\n",
              "      <th>Towing_and_Articulation</th>\n",
              "      <th>Vehicle_Manoeuvre</th>\n",
              "      <th>Vehicle_Location-Restricted_Lane</th>\n",
              "      <th>Junction_Location</th>\n",
              "      <th>Skidding_and_Overturning</th>\n",
              "      <th>Hit_Object_in_Carriageway</th>\n",
              "      <th>Vehicle_Leaving_Carriageway</th>\n",
              "      <th>...</th>\n",
              "      <th>Age_Band_of_Casualty</th>\n",
              "      <th>Casualty_Severity</th>\n",
              "      <th>Pedestrian_Location</th>\n",
              "      <th>Pedestrian_Movement</th>\n",
              "      <th>Car_Passenger</th>\n",
              "      <th>Bus_or_Coach_Passenger</th>\n",
              "      <th>Pedestrian_Road_Maintenance_Worker</th>\n",
              "      <th>Casualty_Type</th>\n",
              "      <th>Casualty_Home_Area_Type</th>\n",
              "      <th>Casualty_IMD_Decile</th>\n",
              "    </tr>\n",
              "  </thead>\n",
              "  <tbody>\n",
              "    <tr>\n",
              "      <th>0</th>\n",
              "      <td>201501BS70001</td>\n",
              "      <td>1</td>\n",
              "      <td>19.0</td>\n",
              "      <td>0.0</td>\n",
              "      <td>9.0</td>\n",
              "      <td>0.0</td>\n",
              "      <td>8.0</td>\n",
              "      <td>0.0</td>\n",
              "      <td>0.0</td>\n",
              "      <td>0.0</td>\n",
              "      <td>...</td>\n",
              "      <td>7.0</td>\n",
              "      <td>3</td>\n",
              "      <td>5.0</td>\n",
              "      <td>1.0</td>\n",
              "      <td>0.0</td>\n",
              "      <td>0.0</td>\n",
              "      <td>2.0</td>\n",
              "      <td>0</td>\n",
              "      <td>NaN</td>\n",
              "      <td>NaN</td>\n",
              "    </tr>\n",
              "    <tr>\n",
              "      <th>1</th>\n",
              "      <td>201501BS70002</td>\n",
              "      <td>1</td>\n",
              "      <td>9.0</td>\n",
              "      <td>0.0</td>\n",
              "      <td>9.0</td>\n",
              "      <td>0.0</td>\n",
              "      <td>8.0</td>\n",
              "      <td>0.0</td>\n",
              "      <td>0.0</td>\n",
              "      <td>0.0</td>\n",
              "      <td>...</td>\n",
              "      <td>5.0</td>\n",
              "      <td>3</td>\n",
              "      <td>9.0</td>\n",
              "      <td>9.0</td>\n",
              "      <td>0.0</td>\n",
              "      <td>0.0</td>\n",
              "      <td>2.0</td>\n",
              "      <td>0</td>\n",
              "      <td>1.0</td>\n",
              "      <td>3.0</td>\n",
              "    </tr>\n",
              "    <tr>\n",
              "      <th>2</th>\n",
              "      <td>201501BS70004</td>\n",
              "      <td>1</td>\n",
              "      <td>9.0</td>\n",
              "      <td>0.0</td>\n",
              "      <td>9.0</td>\n",
              "      <td>0.0</td>\n",
              "      <td>2.0</td>\n",
              "      <td>0.0</td>\n",
              "      <td>0.0</td>\n",
              "      <td>0.0</td>\n",
              "      <td>...</td>\n",
              "      <td>6.0</td>\n",
              "      <td>3</td>\n",
              "      <td>1.0</td>\n",
              "      <td>3.0</td>\n",
              "      <td>0.0</td>\n",
              "      <td>0.0</td>\n",
              "      <td>2.0</td>\n",
              "      <td>0</td>\n",
              "      <td>1.0</td>\n",
              "      <td>6.0</td>\n",
              "    </tr>\n",
              "    <tr>\n",
              "      <th>3</th>\n",
              "      <td>201501BS70005</td>\n",
              "      <td>1</td>\n",
              "      <td>9.0</td>\n",
              "      <td>0.0</td>\n",
              "      <td>9.0</td>\n",
              "      <td>0.0</td>\n",
              "      <td>2.0</td>\n",
              "      <td>0.0</td>\n",
              "      <td>0.0</td>\n",
              "      <td>0.0</td>\n",
              "      <td>...</td>\n",
              "      <td>2.0</td>\n",
              "      <td>3</td>\n",
              "      <td>5.0</td>\n",
              "      <td>1.0</td>\n",
              "      <td>0.0</td>\n",
              "      <td>0.0</td>\n",
              "      <td>2.0</td>\n",
              "      <td>0</td>\n",
              "      <td>1.0</td>\n",
              "      <td>2.0</td>\n",
              "    </tr>\n",
              "    <tr>\n",
              "      <th>4</th>\n",
              "      <td>201501BS70008</td>\n",
              "      <td>1</td>\n",
              "      <td>1.0</td>\n",
              "      <td>0.0</td>\n",
              "      <td>18.0</td>\n",
              "      <td>0.0</td>\n",
              "      <td>8.0</td>\n",
              "      <td>0.0</td>\n",
              "      <td>0.0</td>\n",
              "      <td>0.0</td>\n",
              "      <td>...</td>\n",
              "      <td>8.0</td>\n",
              "      <td>2</td>\n",
              "      <td>0.0</td>\n",
              "      <td>0.0</td>\n",
              "      <td>0.0</td>\n",
              "      <td>0.0</td>\n",
              "      <td>0.0</td>\n",
              "      <td>1</td>\n",
              "      <td>1.0</td>\n",
              "      <td>3.0</td>\n",
              "    </tr>\n",
              "    <tr>\n",
              "      <th>...</th>\n",
              "      <td>...</td>\n",
              "      <td>...</td>\n",
              "      <td>...</td>\n",
              "      <td>...</td>\n",
              "      <td>...</td>\n",
              "      <td>...</td>\n",
              "      <td>...</td>\n",
              "      <td>...</td>\n",
              "      <td>...</td>\n",
              "      <td>...</td>\n",
              "      <td>...</td>\n",
              "      <td>...</td>\n",
              "      <td>...</td>\n",
              "      <td>...</td>\n",
              "      <td>...</td>\n",
              "      <td>...</td>\n",
              "      <td>...</td>\n",
              "      <td>...</td>\n",
              "      <td>...</td>\n",
              "      <td>...</td>\n",
              "      <td>...</td>\n",
              "    </tr>\n",
              "    <tr>\n",
              "      <th>363238</th>\n",
              "      <td>2015984141415</td>\n",
              "      <td>13</td>\n",
              "      <td>9.0</td>\n",
              "      <td>0.0</td>\n",
              "      <td>18.0</td>\n",
              "      <td>0.0</td>\n",
              "      <td>0.0</td>\n",
              "      <td>0.0</td>\n",
              "      <td>0.0</td>\n",
              "      <td>5.0</td>\n",
              "      <td>...</td>\n",
              "      <td>1.0</td>\n",
              "      <td>3</td>\n",
              "      <td>0.0</td>\n",
              "      <td>0.0</td>\n",
              "      <td>2.0</td>\n",
              "      <td>0.0</td>\n",
              "      <td>0.0</td>\n",
              "      <td>9</td>\n",
              "      <td>1.0</td>\n",
              "      <td>NaN</td>\n",
              "    </tr>\n",
              "    <tr>\n",
              "      <th>363239</th>\n",
              "      <td>2015984141415</td>\n",
              "      <td>13</td>\n",
              "      <td>9.0</td>\n",
              "      <td>0.0</td>\n",
              "      <td>18.0</td>\n",
              "      <td>0.0</td>\n",
              "      <td>0.0</td>\n",
              "      <td>0.0</td>\n",
              "      <td>0.0</td>\n",
              "      <td>5.0</td>\n",
              "      <td>...</td>\n",
              "      <td>5.0</td>\n",
              "      <td>3</td>\n",
              "      <td>0.0</td>\n",
              "      <td>0.0</td>\n",
              "      <td>0.0</td>\n",
              "      <td>0.0</td>\n",
              "      <td>0.0</td>\n",
              "      <td>9</td>\n",
              "      <td>1.0</td>\n",
              "      <td>2.0</td>\n",
              "    </tr>\n",
              "    <tr>\n",
              "      <th>363240</th>\n",
              "      <td>2015984141415</td>\n",
              "      <td>13</td>\n",
              "      <td>9.0</td>\n",
              "      <td>0.0</td>\n",
              "      <td>18.0</td>\n",
              "      <td>0.0</td>\n",
              "      <td>0.0</td>\n",
              "      <td>0.0</td>\n",
              "      <td>0.0</td>\n",
              "      <td>5.0</td>\n",
              "      <td>...</td>\n",
              "      <td>4.0</td>\n",
              "      <td>3</td>\n",
              "      <td>0.0</td>\n",
              "      <td>0.0</td>\n",
              "      <td>0.0</td>\n",
              "      <td>0.0</td>\n",
              "      <td>0.0</td>\n",
              "      <td>9</td>\n",
              "      <td>2.0</td>\n",
              "      <td>5.0</td>\n",
              "    </tr>\n",
              "    <tr>\n",
              "      <th>363241</th>\n",
              "      <td>2015984141415</td>\n",
              "      <td>13</td>\n",
              "      <td>9.0</td>\n",
              "      <td>0.0</td>\n",
              "      <td>18.0</td>\n",
              "      <td>0.0</td>\n",
              "      <td>0.0</td>\n",
              "      <td>0.0</td>\n",
              "      <td>0.0</td>\n",
              "      <td>5.0</td>\n",
              "      <td>...</td>\n",
              "      <td>6.0</td>\n",
              "      <td>3</td>\n",
              "      <td>0.0</td>\n",
              "      <td>0.0</td>\n",
              "      <td>0.0</td>\n",
              "      <td>0.0</td>\n",
              "      <td>0.0</td>\n",
              "      <td>9</td>\n",
              "      <td>3.0</td>\n",
              "      <td>NaN</td>\n",
              "    </tr>\n",
              "    <tr>\n",
              "      <th>363242</th>\n",
              "      <td>2015984141415</td>\n",
              "      <td>13</td>\n",
              "      <td>9.0</td>\n",
              "      <td>0.0</td>\n",
              "      <td>18.0</td>\n",
              "      <td>0.0</td>\n",
              "      <td>0.0</td>\n",
              "      <td>0.0</td>\n",
              "      <td>0.0</td>\n",
              "      <td>5.0</td>\n",
              "      <td>...</td>\n",
              "      <td>4.0</td>\n",
              "      <td>3</td>\n",
              "      <td>0.0</td>\n",
              "      <td>0.0</td>\n",
              "      <td>0.0</td>\n",
              "      <td>0.0</td>\n",
              "      <td>0.0</td>\n",
              "      <td>9</td>\n",
              "      <td>1.0</td>\n",
              "      <td>4.0</td>\n",
              "    </tr>\n",
              "  </tbody>\n",
              "</table>\n",
              "<p>363243 rows × 67 columns</p>\n",
              "</div>"
            ],
            "text/plain": [
              "       Accident_Index  Vehicle_Reference_df_res  Vehicle_Type   \n",
              "0       201501BS70001                         1          19.0  \\\n",
              "1       201501BS70002                         1           9.0   \n",
              "2       201501BS70004                         1           9.0   \n",
              "3       201501BS70005                         1           9.0   \n",
              "4       201501BS70008                         1           1.0   \n",
              "...               ...                       ...           ...   \n",
              "363238  2015984141415                        13           9.0   \n",
              "363239  2015984141415                        13           9.0   \n",
              "363240  2015984141415                        13           9.0   \n",
              "363241  2015984141415                        13           9.0   \n",
              "363242  2015984141415                        13           9.0   \n",
              "\n",
              "        Towing_and_Articulation  Vehicle_Manoeuvre   \n",
              "0                           0.0                9.0  \\\n",
              "1                           0.0                9.0   \n",
              "2                           0.0                9.0   \n",
              "3                           0.0                9.0   \n",
              "4                           0.0               18.0   \n",
              "...                         ...                ...   \n",
              "363238                      0.0               18.0   \n",
              "363239                      0.0               18.0   \n",
              "363240                      0.0               18.0   \n",
              "363241                      0.0               18.0   \n",
              "363242                      0.0               18.0   \n",
              "\n",
              "        Vehicle_Location-Restricted_Lane  Junction_Location   \n",
              "0                                    0.0                8.0  \\\n",
              "1                                    0.0                8.0   \n",
              "2                                    0.0                2.0   \n",
              "3                                    0.0                2.0   \n",
              "4                                    0.0                8.0   \n",
              "...                                  ...                ...   \n",
              "363238                               0.0                0.0   \n",
              "363239                               0.0                0.0   \n",
              "363240                               0.0                0.0   \n",
              "363241                               0.0                0.0   \n",
              "363242                               0.0                0.0   \n",
              "\n",
              "        Skidding_and_Overturning  Hit_Object_in_Carriageway   \n",
              "0                            0.0                        0.0  \\\n",
              "1                            0.0                        0.0   \n",
              "2                            0.0                        0.0   \n",
              "3                            0.0                        0.0   \n",
              "4                            0.0                        0.0   \n",
              "...                          ...                        ...   \n",
              "363238                       0.0                        0.0   \n",
              "363239                       0.0                        0.0   \n",
              "363240                       0.0                        0.0   \n",
              "363241                       0.0                        0.0   \n",
              "363242                       0.0                        0.0   \n",
              "\n",
              "        Vehicle_Leaving_Carriageway  ...  Age_Band_of_Casualty   \n",
              "0                               0.0  ...                   7.0  \\\n",
              "1                               0.0  ...                   5.0   \n",
              "2                               0.0  ...                   6.0   \n",
              "3                               0.0  ...                   2.0   \n",
              "4                               0.0  ...                   8.0   \n",
              "...                             ...  ...                   ...   \n",
              "363238                          5.0  ...                   1.0   \n",
              "363239                          5.0  ...                   5.0   \n",
              "363240                          5.0  ...                   4.0   \n",
              "363241                          5.0  ...                   6.0   \n",
              "363242                          5.0  ...                   4.0   \n",
              "\n",
              "        Casualty_Severity  Pedestrian_Location  Pedestrian_Movement   \n",
              "0                       3                  5.0                  1.0  \\\n",
              "1                       3                  9.0                  9.0   \n",
              "2                       3                  1.0                  3.0   \n",
              "3                       3                  5.0                  1.0   \n",
              "4                       2                  0.0                  0.0   \n",
              "...                   ...                  ...                  ...   \n",
              "363238                  3                  0.0                  0.0   \n",
              "363239                  3                  0.0                  0.0   \n",
              "363240                  3                  0.0                  0.0   \n",
              "363241                  3                  0.0                  0.0   \n",
              "363242                  3                  0.0                  0.0   \n",
              "\n",
              "       Car_Passenger  Bus_or_Coach_Passenger   \n",
              "0                0.0                     0.0  \\\n",
              "1                0.0                     0.0   \n",
              "2                0.0                     0.0   \n",
              "3                0.0                     0.0   \n",
              "4                0.0                     0.0   \n",
              "...              ...                     ...   \n",
              "363238           2.0                     0.0   \n",
              "363239           0.0                     0.0   \n",
              "363240           0.0                     0.0   \n",
              "363241           0.0                     0.0   \n",
              "363242           0.0                     0.0   \n",
              "\n",
              "        Pedestrian_Road_Maintenance_Worker  Casualty_Type   \n",
              "0                                      2.0              0  \\\n",
              "1                                      2.0              0   \n",
              "2                                      2.0              0   \n",
              "3                                      2.0              0   \n",
              "4                                      0.0              1   \n",
              "...                                    ...            ...   \n",
              "363238                                 0.0              9   \n",
              "363239                                 0.0              9   \n",
              "363240                                 0.0              9   \n",
              "363241                                 0.0              9   \n",
              "363242                                 0.0              9   \n",
              "\n",
              "        Casualty_Home_Area_Type  Casualty_IMD_Decile  \n",
              "0                           NaN                  NaN  \n",
              "1                           1.0                  3.0  \n",
              "2                           1.0                  6.0  \n",
              "3                           1.0                  2.0  \n",
              "4                           1.0                  3.0  \n",
              "...                         ...                  ...  \n",
              "363238                      1.0                  NaN  \n",
              "363239                      1.0                  2.0  \n",
              "363240                      2.0                  5.0  \n",
              "363241                      3.0                  NaN  \n",
              "363242                      1.0                  4.0  \n",
              "\n",
              "[363243 rows x 67 columns]"
            ]
          },
          "execution_count": 10,
          "metadata": {},
          "output_type": "execute_result"
        }
      ],
      "source": [
        "dataset"
      ]
    },
    {
      "cell_type": "code",
      "execution_count": 11,
      "id": "fAWW5kChD6MU",
      "metadata": {
        "id": "fAWW5kChD6MU"
      },
      "outputs": [],
      "source": [
        "target_column = 'Sex_of_Driver'\n",
        "test_size = 0.2\n",
        "random_state = 42"
      ]
    },
    {
      "cell_type": "code",
      "execution_count": 15,
      "id": "3d77435f",
      "metadata": {
        "id": "3d77435f"
      },
      "outputs": [],
      "source": [
        "def remove_nans(df):\n",
        "    '''\n",
        "    This function removes rows with NaN values.\n",
        "    '''\n",
        "\n",
        "    # Drop rows with NaN values\n",
        "    cleaned_df = df.dropna()  \n",
        "\n",
        "    return cleaned_df\n",
        "\n",
        "\n",
        "def numerical_to_categorical(df, n=2, ignore=[target_column]):\n",
        "    '''\n",
        "    Change the type of the column to categorical \n",
        "    if it has <= n unique values.\n",
        "    '''\n",
        "\n",
        "    for column in df.columns:\n",
        "\n",
        "        if column not in ignore:\n",
        "            # Calculate the number of unique values in the column\n",
        "            unique_values = df[column].nunique()  \n",
        "\n",
        "            # Change column type to categorical if condition is met\n",
        "            if unique_values <= n:\n",
        "                df[column] = df[column].astype('category')  \n",
        "        else:\n",
        "            # If the column is in the ignore list, do nothing\n",
        "            pass\n",
        "\n",
        "    return df\n",
        "\n",
        "\n",
        "def remove_columns_by_n(df, n=10, condition=np.number, direction='less', ignore=[target_column]):\n",
        "    '''\n",
        "    Remove columns with more or less than n unique values.\n",
        "    Usually it makes sense to apply this function to columns with categorical values.\n",
        "    With the default values, we remove all numerical columns which have less than 10 unique values (except for the target_column).\n",
        "    '''\n",
        "\n",
        "    # Iterate over each column in the DataFrame\n",
        "    for column in df.columns:\n",
        "        \n",
        "        # Calculate number of unique values in current column\n",
        "        n_unique = df[column].nunique()\n",
        "\n",
        "        # Check if column should be ignored or is equal to target_column\n",
        "        if column not in ignore:\n",
        "\n",
        "            # Check direction parameter and compare unique value count with n\n",
        "            if direction == 'less' and n_unique < n:\n",
        "                df.drop(column, axis=1, inplace=True)\n",
        "            \n",
        "            elif direction == 'more' and n_unique > n:\n",
        "                df.drop(column, axis=1, inplace=True)\n",
        "        else:\n",
        "            # If the column is in the ignore list, do nothing\n",
        "            pass\n",
        "        \n",
        "    return df"
      ]
    },
    {
      "cell_type": "code",
      "execution_count": 16,
      "id": "9033619f",
      "metadata": {
        "id": "9033619f"
      },
      "outputs": [
        {
          "name": "stderr",
          "output_type": "stream",
          "text": [
            "C:\\Users\\Paul\\AppData\\Local\\Temp\\ipykernel_13952\\3719716334.py:26: SettingWithCopyWarning: \n",
            "A value is trying to be set on a copy of a slice from a DataFrame.\n",
            "Try using .loc[row_indexer,col_indexer] = value instead\n",
            "\n",
            "See the caveats in the documentation: https://pandas.pydata.org/pandas-docs/stable/user_guide/indexing.html#returning-a-view-versus-a-copy\n",
            "  df[column] = df[column].astype('category')\n",
            "C:\\Users\\Paul\\AppData\\Local\\Temp\\ipykernel_13952\\3719716334.py:52: SettingWithCopyWarning: \n",
            "A value is trying to be set on a copy of a slice from a DataFrame\n",
            "\n",
            "See the caveats in the documentation: https://pandas.pydata.org/pandas-docs/stable/user_guide/indexing.html#returning-a-view-versus-a-copy\n",
            "  df.drop(column, axis=1, inplace=True)\n",
            "C:\\Users\\Paul\\AppData\\Local\\Temp\\ipykernel_13952\\3719716334.py:52: SettingWithCopyWarning: \n",
            "A value is trying to be set on a copy of a slice from a DataFrame\n",
            "\n",
            "See the caveats in the documentation: https://pandas.pydata.org/pandas-docs/stable/user_guide/indexing.html#returning-a-view-versus-a-copy\n",
            "  df.drop(column, axis=1, inplace=True)\n",
            "C:\\Users\\Paul\\AppData\\Local\\Temp\\ipykernel_13952\\3719716334.py:52: SettingWithCopyWarning: \n",
            "A value is trying to be set on a copy of a slice from a DataFrame\n",
            "\n",
            "See the caveats in the documentation: https://pandas.pydata.org/pandas-docs/stable/user_guide/indexing.html#returning-a-view-versus-a-copy\n",
            "  df.drop(column, axis=1, inplace=True)\n",
            "C:\\Users\\Paul\\AppData\\Local\\Temp\\ipykernel_13952\\3719716334.py:52: SettingWithCopyWarning: \n",
            "A value is trying to be set on a copy of a slice from a DataFrame\n",
            "\n",
            "See the caveats in the documentation: https://pandas.pydata.org/pandas-docs/stable/user_guide/indexing.html#returning-a-view-versus-a-copy\n",
            "  df.drop(column, axis=1, inplace=True)\n",
            "C:\\Users\\Paul\\AppData\\Local\\Temp\\ipykernel_13952\\3719716334.py:52: SettingWithCopyWarning: \n",
            "A value is trying to be set on a copy of a slice from a DataFrame\n",
            "\n",
            "See the caveats in the documentation: https://pandas.pydata.org/pandas-docs/stable/user_guide/indexing.html#returning-a-view-versus-a-copy\n",
            "  df.drop(column, axis=1, inplace=True)\n",
            "C:\\Users\\Paul\\AppData\\Local\\Temp\\ipykernel_13952\\3719716334.py:52: SettingWithCopyWarning: \n",
            "A value is trying to be set on a copy of a slice from a DataFrame\n",
            "\n",
            "See the caveats in the documentation: https://pandas.pydata.org/pandas-docs/stable/user_guide/indexing.html#returning-a-view-versus-a-copy\n",
            "  df.drop(column, axis=1, inplace=True)\n",
            "C:\\Users\\Paul\\AppData\\Local\\Temp\\ipykernel_13952\\3719716334.py:52: SettingWithCopyWarning: \n",
            "A value is trying to be set on a copy of a slice from a DataFrame\n",
            "\n",
            "See the caveats in the documentation: https://pandas.pydata.org/pandas-docs/stable/user_guide/indexing.html#returning-a-view-versus-a-copy\n",
            "  df.drop(column, axis=1, inplace=True)\n",
            "C:\\Users\\Paul\\AppData\\Local\\Temp\\ipykernel_13952\\3719716334.py:52: SettingWithCopyWarning: \n",
            "A value is trying to be set on a copy of a slice from a DataFrame\n",
            "\n",
            "See the caveats in the documentation: https://pandas.pydata.org/pandas-docs/stable/user_guide/indexing.html#returning-a-view-versus-a-copy\n",
            "  df.drop(column, axis=1, inplace=True)\n",
            "C:\\Users\\Paul\\AppData\\Local\\Temp\\ipykernel_13952\\3719716334.py:52: SettingWithCopyWarning: \n",
            "A value is trying to be set on a copy of a slice from a DataFrame\n",
            "\n",
            "See the caveats in the documentation: https://pandas.pydata.org/pandas-docs/stable/user_guide/indexing.html#returning-a-view-versus-a-copy\n",
            "  df.drop(column, axis=1, inplace=True)\n",
            "C:\\Users\\Paul\\AppData\\Local\\Temp\\ipykernel_13952\\3719716334.py:52: SettingWithCopyWarning: \n",
            "A value is trying to be set on a copy of a slice from a DataFrame\n",
            "\n",
            "See the caveats in the documentation: https://pandas.pydata.org/pandas-docs/stable/user_guide/indexing.html#returning-a-view-versus-a-copy\n",
            "  df.drop(column, axis=1, inplace=True)\n",
            "C:\\Users\\Paul\\AppData\\Local\\Temp\\ipykernel_13952\\3719716334.py:52: SettingWithCopyWarning: \n",
            "A value is trying to be set on a copy of a slice from a DataFrame\n",
            "\n",
            "See the caveats in the documentation: https://pandas.pydata.org/pandas-docs/stable/user_guide/indexing.html#returning-a-view-versus-a-copy\n",
            "  df.drop(column, axis=1, inplace=True)\n",
            "C:\\Users\\Paul\\AppData\\Local\\Temp\\ipykernel_13952\\3719716334.py:52: SettingWithCopyWarning: \n",
            "A value is trying to be set on a copy of a slice from a DataFrame\n",
            "\n",
            "See the caveats in the documentation: https://pandas.pydata.org/pandas-docs/stable/user_guide/indexing.html#returning-a-view-versus-a-copy\n",
            "  df.drop(column, axis=1, inplace=True)\n",
            "C:\\Users\\Paul\\AppData\\Local\\Temp\\ipykernel_13952\\3719716334.py:52: SettingWithCopyWarning: \n",
            "A value is trying to be set on a copy of a slice from a DataFrame\n",
            "\n",
            "See the caveats in the documentation: https://pandas.pydata.org/pandas-docs/stable/user_guide/indexing.html#returning-a-view-versus-a-copy\n",
            "  df.drop(column, axis=1, inplace=True)\n",
            "C:\\Users\\Paul\\AppData\\Local\\Temp\\ipykernel_13952\\3719716334.py:52: SettingWithCopyWarning: \n",
            "A value is trying to be set on a copy of a slice from a DataFrame\n",
            "\n",
            "See the caveats in the documentation: https://pandas.pydata.org/pandas-docs/stable/user_guide/indexing.html#returning-a-view-versus-a-copy\n",
            "  df.drop(column, axis=1, inplace=True)\n",
            "C:\\Users\\Paul\\AppData\\Local\\Temp\\ipykernel_13952\\3719716334.py:52: SettingWithCopyWarning: \n",
            "A value is trying to be set on a copy of a slice from a DataFrame\n",
            "\n",
            "See the caveats in the documentation: https://pandas.pydata.org/pandas-docs/stable/user_guide/indexing.html#returning-a-view-versus-a-copy\n",
            "  df.drop(column, axis=1, inplace=True)\n",
            "C:\\Users\\Paul\\AppData\\Local\\Temp\\ipykernel_13952\\3719716334.py:52: SettingWithCopyWarning: \n",
            "A value is trying to be set on a copy of a slice from a DataFrame\n",
            "\n",
            "See the caveats in the documentation: https://pandas.pydata.org/pandas-docs/stable/user_guide/indexing.html#returning-a-view-versus-a-copy\n",
            "  df.drop(column, axis=1, inplace=True)\n",
            "C:\\Users\\Paul\\AppData\\Local\\Temp\\ipykernel_13952\\3719716334.py:52: SettingWithCopyWarning: \n",
            "A value is trying to be set on a copy of a slice from a DataFrame\n",
            "\n",
            "See the caveats in the documentation: https://pandas.pydata.org/pandas-docs/stable/user_guide/indexing.html#returning-a-view-versus-a-copy\n",
            "  df.drop(column, axis=1, inplace=True)\n",
            "C:\\Users\\Paul\\AppData\\Local\\Temp\\ipykernel_13952\\3719716334.py:52: SettingWithCopyWarning: \n",
            "A value is trying to be set on a copy of a slice from a DataFrame\n",
            "\n",
            "See the caveats in the documentation: https://pandas.pydata.org/pandas-docs/stable/user_guide/indexing.html#returning-a-view-versus-a-copy\n",
            "  df.drop(column, axis=1, inplace=True)\n",
            "C:\\Users\\Paul\\AppData\\Local\\Temp\\ipykernel_13952\\3719716334.py:52: SettingWithCopyWarning: \n",
            "A value is trying to be set on a copy of a slice from a DataFrame\n",
            "\n",
            "See the caveats in the documentation: https://pandas.pydata.org/pandas-docs/stable/user_guide/indexing.html#returning-a-view-versus-a-copy\n",
            "  df.drop(column, axis=1, inplace=True)\n",
            "C:\\Users\\Paul\\AppData\\Local\\Temp\\ipykernel_13952\\3719716334.py:52: SettingWithCopyWarning: \n",
            "A value is trying to be set on a copy of a slice from a DataFrame\n",
            "\n",
            "See the caveats in the documentation: https://pandas.pydata.org/pandas-docs/stable/user_guide/indexing.html#returning-a-view-versus-a-copy\n",
            "  df.drop(column, axis=1, inplace=True)\n",
            "C:\\Users\\Paul\\AppData\\Local\\Temp\\ipykernel_13952\\3719716334.py:52: SettingWithCopyWarning: \n",
            "A value is trying to be set on a copy of a slice from a DataFrame\n",
            "\n",
            "See the caveats in the documentation: https://pandas.pydata.org/pandas-docs/stable/user_guide/indexing.html#returning-a-view-versus-a-copy\n",
            "  df.drop(column, axis=1, inplace=True)\n",
            "C:\\Users\\Paul\\AppData\\Local\\Temp\\ipykernel_13952\\3719716334.py:52: SettingWithCopyWarning: \n",
            "A value is trying to be set on a copy of a slice from a DataFrame\n",
            "\n",
            "See the caveats in the documentation: https://pandas.pydata.org/pandas-docs/stable/user_guide/indexing.html#returning-a-view-versus-a-copy\n",
            "  df.drop(column, axis=1, inplace=True)\n",
            "C:\\Users\\Paul\\AppData\\Local\\Temp\\ipykernel_13952\\3719716334.py:52: SettingWithCopyWarning: \n",
            "A value is trying to be set on a copy of a slice from a DataFrame\n",
            "\n",
            "See the caveats in the documentation: https://pandas.pydata.org/pandas-docs/stable/user_guide/indexing.html#returning-a-view-versus-a-copy\n",
            "  df.drop(column, axis=1, inplace=True)\n",
            "C:\\Users\\Paul\\AppData\\Local\\Temp\\ipykernel_13952\\3719716334.py:52: SettingWithCopyWarning: \n",
            "A value is trying to be set on a copy of a slice from a DataFrame\n",
            "\n",
            "See the caveats in the documentation: https://pandas.pydata.org/pandas-docs/stable/user_guide/indexing.html#returning-a-view-versus-a-copy\n",
            "  df.drop(column, axis=1, inplace=True)\n",
            "C:\\Users\\Paul\\AppData\\Local\\Temp\\ipykernel_13952\\3719716334.py:52: SettingWithCopyWarning: \n",
            "A value is trying to be set on a copy of a slice from a DataFrame\n",
            "\n",
            "See the caveats in the documentation: https://pandas.pydata.org/pandas-docs/stable/user_guide/indexing.html#returning-a-view-versus-a-copy\n",
            "  df.drop(column, axis=1, inplace=True)\n",
            "C:\\Users\\Paul\\AppData\\Local\\Temp\\ipykernel_13952\\3719716334.py:52: SettingWithCopyWarning: \n",
            "A value is trying to be set on a copy of a slice from a DataFrame\n",
            "\n",
            "See the caveats in the documentation: https://pandas.pydata.org/pandas-docs/stable/user_guide/indexing.html#returning-a-view-versus-a-copy\n",
            "  df.drop(column, axis=1, inplace=True)\n",
            "C:\\Users\\Paul\\AppData\\Local\\Temp\\ipykernel_13952\\3719716334.py:52: SettingWithCopyWarning: \n",
            "A value is trying to be set on a copy of a slice from a DataFrame\n",
            "\n",
            "See the caveats in the documentation: https://pandas.pydata.org/pandas-docs/stable/user_guide/indexing.html#returning-a-view-versus-a-copy\n",
            "  df.drop(column, axis=1, inplace=True)\n",
            "C:\\Users\\Paul\\AppData\\Local\\Temp\\ipykernel_13952\\3719716334.py:52: SettingWithCopyWarning: \n",
            "A value is trying to be set on a copy of a slice from a DataFrame\n",
            "\n",
            "See the caveats in the documentation: https://pandas.pydata.org/pandas-docs/stable/user_guide/indexing.html#returning-a-view-versus-a-copy\n",
            "  df.drop(column, axis=1, inplace=True)\n",
            "C:\\Users\\Paul\\AppData\\Local\\Temp\\ipykernel_13952\\3719716334.py:52: SettingWithCopyWarning: \n",
            "A value is trying to be set on a copy of a slice from a DataFrame\n",
            "\n",
            "See the caveats in the documentation: https://pandas.pydata.org/pandas-docs/stable/user_guide/indexing.html#returning-a-view-versus-a-copy\n",
            "  df.drop(column, axis=1, inplace=True)\n",
            "C:\\Users\\Paul\\AppData\\Local\\Temp\\ipykernel_13952\\3719716334.py:52: SettingWithCopyWarning: \n",
            "A value is trying to be set on a copy of a slice from a DataFrame\n",
            "\n",
            "See the caveats in the documentation: https://pandas.pydata.org/pandas-docs/stable/user_guide/indexing.html#returning-a-view-versus-a-copy\n",
            "  df.drop(column, axis=1, inplace=True)\n",
            "C:\\Users\\Paul\\AppData\\Local\\Temp\\ipykernel_13952\\3719716334.py:52: SettingWithCopyWarning: \n",
            "A value is trying to be set on a copy of a slice from a DataFrame\n",
            "\n",
            "See the caveats in the documentation: https://pandas.pydata.org/pandas-docs/stable/user_guide/indexing.html#returning-a-view-versus-a-copy\n",
            "  df.drop(column, axis=1, inplace=True)\n",
            "C:\\Users\\Paul\\AppData\\Local\\Temp\\ipykernel_13952\\3719716334.py:52: SettingWithCopyWarning: \n",
            "A value is trying to be set on a copy of a slice from a DataFrame\n",
            "\n",
            "See the caveats in the documentation: https://pandas.pydata.org/pandas-docs/stable/user_guide/indexing.html#returning-a-view-versus-a-copy\n",
            "  df.drop(column, axis=1, inplace=True)\n",
            "C:\\Users\\Paul\\AppData\\Local\\Temp\\ipykernel_13952\\3719716334.py:52: SettingWithCopyWarning: \n",
            "A value is trying to be set on a copy of a slice from a DataFrame\n",
            "\n",
            "See the caveats in the documentation: https://pandas.pydata.org/pandas-docs/stable/user_guide/indexing.html#returning-a-view-versus-a-copy\n",
            "  df.drop(column, axis=1, inplace=True)\n",
            "C:\\Users\\Paul\\AppData\\Local\\Temp\\ipykernel_13952\\3719716334.py:52: SettingWithCopyWarning: \n",
            "A value is trying to be set on a copy of a slice from a DataFrame\n",
            "\n",
            "See the caveats in the documentation: https://pandas.pydata.org/pandas-docs/stable/user_guide/indexing.html#returning-a-view-versus-a-copy\n",
            "  df.drop(column, axis=1, inplace=True)\n",
            "C:\\Users\\Paul\\AppData\\Local\\Temp\\ipykernel_13952\\3719716334.py:52: SettingWithCopyWarning: \n",
            "A value is trying to be set on a copy of a slice from a DataFrame\n",
            "\n",
            "See the caveats in the documentation: https://pandas.pydata.org/pandas-docs/stable/user_guide/indexing.html#returning-a-view-versus-a-copy\n",
            "  df.drop(column, axis=1, inplace=True)\n",
            "C:\\Users\\Paul\\AppData\\Local\\Temp\\ipykernel_13952\\3719716334.py:52: SettingWithCopyWarning: \n",
            "A value is trying to be set on a copy of a slice from a DataFrame\n",
            "\n",
            "See the caveats in the documentation: https://pandas.pydata.org/pandas-docs/stable/user_guide/indexing.html#returning-a-view-versus-a-copy\n",
            "  df.drop(column, axis=1, inplace=True)\n",
            "C:\\Users\\Paul\\AppData\\Local\\Temp\\ipykernel_13952\\3719716334.py:55: SettingWithCopyWarning: \n",
            "A value is trying to be set on a copy of a slice from a DataFrame\n",
            "\n",
            "See the caveats in the documentation: https://pandas.pydata.org/pandas-docs/stable/user_guide/indexing.html#returning-a-view-versus-a-copy\n",
            "  df.drop(column, axis=1, inplace=True)\n",
            "C:\\Users\\Paul\\AppData\\Local\\Temp\\ipykernel_13952\\3719716334.py:55: SettingWithCopyWarning: \n",
            "A value is trying to be set on a copy of a slice from a DataFrame\n",
            "\n",
            "See the caveats in the documentation: https://pandas.pydata.org/pandas-docs/stable/user_guide/indexing.html#returning-a-view-versus-a-copy\n",
            "  df.drop(column, axis=1, inplace=True)\n",
            "C:\\Users\\Paul\\AppData\\Local\\Temp\\ipykernel_13952\\3719716334.py:55: SettingWithCopyWarning: \n",
            "A value is trying to be set on a copy of a slice from a DataFrame\n",
            "\n",
            "See the caveats in the documentation: https://pandas.pydata.org/pandas-docs/stable/user_guide/indexing.html#returning-a-view-versus-a-copy\n",
            "  df.drop(column, axis=1, inplace=True)\n",
            "C:\\Users\\Paul\\AppData\\Local\\Temp\\ipykernel_13952\\3719716334.py:55: SettingWithCopyWarning: \n",
            "A value is trying to be set on a copy of a slice from a DataFrame\n",
            "\n",
            "See the caveats in the documentation: https://pandas.pydata.org/pandas-docs/stable/user_guide/indexing.html#returning-a-view-versus-a-copy\n",
            "  df.drop(column, axis=1, inplace=True)\n",
            "C:\\Users\\Paul\\AppData\\Local\\Temp\\ipykernel_13952\\3719716334.py:55: SettingWithCopyWarning: \n",
            "A value is trying to be set on a copy of a slice from a DataFrame\n",
            "\n",
            "See the caveats in the documentation: https://pandas.pydata.org/pandas-docs/stable/user_guide/indexing.html#returning-a-view-versus-a-copy\n",
            "  df.drop(column, axis=1, inplace=True)\n",
            "C:\\Users\\Paul\\AppData\\Local\\Temp\\ipykernel_13952\\3719716334.py:55: SettingWithCopyWarning: \n",
            "A value is trying to be set on a copy of a slice from a DataFrame\n",
            "\n",
            "See the caveats in the documentation: https://pandas.pydata.org/pandas-docs/stable/user_guide/indexing.html#returning-a-view-versus-a-copy\n",
            "  df.drop(column, axis=1, inplace=True)\n",
            "C:\\Users\\Paul\\AppData\\Local\\Temp\\ipykernel_13952\\3719716334.py:55: SettingWithCopyWarning: \n",
            "A value is trying to be set on a copy of a slice from a DataFrame\n",
            "\n",
            "See the caveats in the documentation: https://pandas.pydata.org/pandas-docs/stable/user_guide/indexing.html#returning-a-view-versus-a-copy\n",
            "  df.drop(column, axis=1, inplace=True)\n",
            "C:\\Users\\Paul\\AppData\\Local\\Temp\\ipykernel_13952\\3719716334.py:55: SettingWithCopyWarning: \n",
            "A value is trying to be set on a copy of a slice from a DataFrame\n",
            "\n",
            "See the caveats in the documentation: https://pandas.pydata.org/pandas-docs/stable/user_guide/indexing.html#returning-a-view-versus-a-copy\n",
            "  df.drop(column, axis=1, inplace=True)\n",
            "C:\\Users\\Paul\\AppData\\Local\\Temp\\ipykernel_13952\\3719716334.py:55: SettingWithCopyWarning: \n",
            "A value is trying to be set on a copy of a slice from a DataFrame\n",
            "\n",
            "See the caveats in the documentation: https://pandas.pydata.org/pandas-docs/stable/user_guide/indexing.html#returning-a-view-versus-a-copy\n",
            "  df.drop(column, axis=1, inplace=True)\n",
            "C:\\Users\\Paul\\AppData\\Local\\Temp\\ipykernel_13952\\3719716334.py:55: SettingWithCopyWarning: \n",
            "A value is trying to be set on a copy of a slice from a DataFrame\n",
            "\n",
            "See the caveats in the documentation: https://pandas.pydata.org/pandas-docs/stable/user_guide/indexing.html#returning-a-view-versus-a-copy\n",
            "  df.drop(column, axis=1, inplace=True)\n",
            "C:\\Users\\Paul\\AppData\\Local\\Temp\\ipykernel_13952\\3719716334.py:55: SettingWithCopyWarning: \n",
            "A value is trying to be set on a copy of a slice from a DataFrame\n",
            "\n",
            "See the caveats in the documentation: https://pandas.pydata.org/pandas-docs/stable/user_guide/indexing.html#returning-a-view-versus-a-copy\n",
            "  df.drop(column, axis=1, inplace=True)\n",
            "C:\\Users\\Paul\\AppData\\Local\\Temp\\ipykernel_13952\\3719716334.py:55: SettingWithCopyWarning: \n",
            "A value is trying to be set on a copy of a slice from a DataFrame\n",
            "\n",
            "See the caveats in the documentation: https://pandas.pydata.org/pandas-docs/stable/user_guide/indexing.html#returning-a-view-versus-a-copy\n",
            "  df.drop(column, axis=1, inplace=True)\n",
            "C:\\Users\\Paul\\AppData\\Local\\Temp\\ipykernel_13952\\3719716334.py:55: SettingWithCopyWarning: \n",
            "A value is trying to be set on a copy of a slice from a DataFrame\n",
            "\n",
            "See the caveats in the documentation: https://pandas.pydata.org/pandas-docs/stable/user_guide/indexing.html#returning-a-view-versus-a-copy\n",
            "  df.drop(column, axis=1, inplace=True)\n",
            "C:\\Users\\Paul\\AppData\\Local\\Temp\\ipykernel_13952\\3719716334.py:55: SettingWithCopyWarning: \n",
            "A value is trying to be set on a copy of a slice from a DataFrame\n",
            "\n",
            "See the caveats in the documentation: https://pandas.pydata.org/pandas-docs/stable/user_guide/indexing.html#returning-a-view-versus-a-copy\n",
            "  df.drop(column, axis=1, inplace=True)\n",
            "C:\\Users\\Paul\\AppData\\Local\\Temp\\ipykernel_13952\\3719716334.py:55: SettingWithCopyWarning: \n",
            "A value is trying to be set on a copy of a slice from a DataFrame\n",
            "\n",
            "See the caveats in the documentation: https://pandas.pydata.org/pandas-docs/stable/user_guide/indexing.html#returning-a-view-versus-a-copy\n",
            "  df.drop(column, axis=1, inplace=True)\n",
            "C:\\Users\\Paul\\AppData\\Local\\Temp\\ipykernel_13952\\3719716334.py:55: SettingWithCopyWarning: \n",
            "A value is trying to be set on a copy of a slice from a DataFrame\n",
            "\n",
            "See the caveats in the documentation: https://pandas.pydata.org/pandas-docs/stable/user_guide/indexing.html#returning-a-view-versus-a-copy\n",
            "  df.drop(column, axis=1, inplace=True)\n"
          ]
        }
      ],
      "source": [
        "df = dataset\n",
        "df = remove_nans(df)\n",
        "df = numerical_to_categorical(df, n=2, ignore=[target_column])\n",
        "df = remove_columns_by_n(df, n=10, condition=np.number, direction='less', \n",
        "                         ignore=[target_column])\n",
        "df = remove_columns_by_n(df, n=40, condition='category', direction='more', \n",
        "                         ignore=[target_column])\n",
        "assert not df.isna().any().any(), 'There are still nans in the dataframe'"
      ]
    },
    {
      "cell_type": "code",
      "execution_count": 18,
      "id": "22348559",
      "metadata": {
        "id": "22348559"
      },
      "outputs": [],
      "source": [
        "# TODO : make train-test split from the dataframe using the parameters above\n",
        "# expected results variable names - train_X, test_X, train_y, test_y\n",
        "\n",
        "# Split DataFrame into features (X) and target variable (Y)\n",
        "X = df.drop(columns=[target_column])\n",
        "Y = df[target_column]\n",
        "\n",
        "# Perform train-test split\n",
        "train_X, test_X, train_y, test_y = train_test_split(X, Y, test_size=0.2, random_state=42)"
      ]
    },
    {
      "attachments": {},
      "cell_type": "markdown",
      "id": "77f002d6",
      "metadata": {
        "id": "77f002d6"
      },
      "source": [
        "**TODO :**  \n",
        "\n",
        "* Did you split the dataset in a stratified manner or not? Why?\n",
        "* How did the dataset dimensions change after preprocessing?\n",
        "* How many unique values are in the response variable? "
      ]
    },
    {
      "attachments": {},
      "cell_type": "markdown",
      "id": "f309f4d6",
      "metadata": {
        "id": "f309f4d6"
      },
      "source": [
        "## Task 1: Create a GradientBoostingClassifier"
      ]
    },
    {
      "cell_type": "code",
      "execution_count": 19,
      "id": "cxbPa0evFrRF",
      "metadata": {
        "id": "cxbPa0evFrRF"
      },
      "outputs": [],
      "source": [
        "## TODO : define the GradientBoostingClassifier, \n",
        "## train it on the train set and predict on the test set\n",
        "\n",
        "# Define GradientBoostingClassifier\n",
        "model = GradientBoostingClassifier()\n",
        "\n",
        "# Train the model on train set\n",
        "model.fit(train_X, train_y)\n",
        "\n",
        "# Make predictions on test set\n",
        "predictions = model.predict(test_X)\n"
      ]
    },
    {
      "cell_type": "code",
      "execution_count": 30,
      "id": "YZ5j6BMKFrcJ",
      "metadata": {
        "id": "YZ5j6BMKFrcJ"
      },
      "outputs": [
        {
          "name": "stdout",
          "output_type": "stream",
          "text": [
            "Accuracy: 0.665161424270736\n",
            "Precision: 0.6373300040935023\n",
            "Recall: 0.665161424270736\n"
          ]
        }
      ],
      "source": [
        "## TODO : print  accuracy, precision, recall\n",
        "## Hint : use functions from sklearn metrics\n",
        "\n",
        "# Calculate accuracy\n",
        "accuracy = accuracy_score(test_y, predictions)\n",
        "\n",
        "# Calculate precision (change average parameter to 'micro', 'macro', or 'weighted')\n",
        "precision = precision_score(test_y, predictions, average='weighted')\n",
        "\n",
        "# Calculate recall (change average parameter to 'micro', 'macro', or 'weighted')\n",
        "recall = recall_score(test_y, predictions, average='weighted')\n",
        "\n",
        "# Print the scores\n",
        "print(\"Accuracy:\", accuracy)\n",
        "print(\"Precision:\", precision)\n",
        "print(\"Recall:\", recall)"
      ]
    },
    {
      "cell_type": "code",
      "execution_count": null,
      "id": "598f0ffa",
      "metadata": {
        "id": "598f0ffa"
      },
      "outputs": [],
      "source": [
        "## TODO : Write a function which iterates over trees_amount, \n",
        "## train a classifier with a specified amount of trees and print accuracy, precision, and recall.\n",
        "## Note: the calculations may take several minutes (depending on the computer efficiency).\n",
        "\n",
        "def trees_amount_exploration(train_X, train_y, test_X, test_y, trees_amount=[1, 20, 50, 100]):\n",
        "    #TODO\n"
      ]
    },
    {
      "cell_type": "code",
      "execution_count": null,
      "id": "qcnxg4InEkRl",
      "metadata": {
        "id": "qcnxg4InEkRl"
      },
      "outputs": [],
      "source": [
        "trees_amount_exploration(train_X, train_y, test_X, test_y)"
      ]
    },
    {
      "cell_type": "code",
      "execution_count": null,
      "id": "518fc198",
      "metadata": {},
      "outputs": [],
      "source": [
        "## TODO : Write a function which iterates over the learning rate, \n",
        "## train a classifier with a specified amount of trees and print accuracy, precision, and recall.\n",
        "## Note: the calculations may take several minutes (depending on the computer efficiency).\n",
        "\n",
        "def learning_rate_exploration(train_X, train_y, test_X, test_y, learning_rates = [0.1, 0.2, 0.3, 0.4, 0.5], trees_amount=100):\n",
        "    \n",
        "    for lr in learning_rates:\n",
        "\n",
        "        # Define the GradientBoostingClassifier with the specified number of trees\n",
        "        model = GradientBoostingClassifier(learning_rate = lr, n_estimators = trees_amount)\n",
        "\n",
        "        # Train the model on the training set\n",
        "        model.fit(train_X, train_y)\n",
        "\n",
        "        # Make predictions on the test set\n",
        "        predictions = model.predict(test_X)\n",
        "\n",
        "        # Calculate accuracy\n",
        "        accuracy = accuracy_score(test_y, predictions)\n",
        "\n",
        "        # Calculate precision\n",
        "        precision = precision_score(test_y, predictions, average='weighted', zero_division=0)\n",
        "\n",
        "        # Calculate recall\n",
        "        recall = recall_score(test_y, predictions, average='weighted')\n",
        "\n",
        "        # Print the scores\n",
        "        print(f'Learning Rate: {lr}   ;   Number of Trees: {trees_amount}\\n')\n",
        "        print(f'Accuracy: {accuracy}')\n",
        "        print(f'Precision: {precision}')\n",
        "        print(f'Recall: {recall}\\n\\n')"
      ]
    },
    {
      "cell_type": "code",
      "execution_count": 38,
      "id": "afb2ae07",
      "metadata": {},
      "outputs": [
        {
          "name": "stdout",
          "output_type": "stream",
          "text": [
            "Learning Rate: 0.1        ;        Number of Trees: 100\n",
            "\n",
            "Number of Trees: 100\n",
            "Accuracy: 0.665161424270736\n",
            "Precision: 0.6373300040935023\n",
            "Recall: 0.665161424270736\n",
            "\n",
            "\n",
            "Learning Rate: 0.2        ;        Number of Trees: 100\n",
            "\n",
            "Number of Trees: 100\n",
            "Accuracy: 0.66578428319319\n",
            "Precision: 0.6373593758333945\n",
            "Recall: 0.66578428319319\n",
            "\n",
            "\n",
            "Learning Rate: 0.3        ;        Number of Trees: 100\n",
            "\n",
            "Number of Trees: 100\n",
            "Accuracy: 0.6666666666666666\n",
            "Precision: 0.6386029240478612\n",
            "Recall: 0.6666666666666666\n",
            "\n",
            "\n",
            "Learning Rate: 0.4        ;        Number of Trees: 100\n",
            "\n",
            "Number of Trees: 100\n",
            "Accuracy: 0.6669261912176891\n",
            "Precision: 0.6398011175074222\n",
            "Recall: 0.6669261912176891\n",
            "\n",
            "\n",
            "Learning Rate: 0.5        ;        Number of Trees: 100\n",
            "\n",
            "Number of Trees: 100\n",
            "Accuracy: 0.6693657219973009\n",
            "Precision: 0.6430827524968562\n",
            "Recall: 0.6693657219973009\n",
            "\n",
            "\n"
          ]
        }
      ],
      "source": [
        "learning_rate_exploration(train_X, train_y, test_X, test_y)"
      ]
    },
    {
      "cell_type": "code",
      "execution_count": 42,
      "id": "T-akqJfbEkVF",
      "metadata": {
        "id": "T-akqJfbEkVF"
      },
      "outputs": [],
      "source": [
        "## TODO : Write a function which iterates over different depths, \n",
        "## train a classifier with a specified depth and print accuracy, precision, and recall\n",
        "## Set trees_amount= 50 to make the calculations faster\n",
        "## Note: the calculations may take several minutes (depending on the computer efficiency).\n",
        "\n",
        "def max_depth_exploration(train_X, train_y, test_X, test_y, depths=[1,2,3,4,5] , trees_amount = 50):\n",
        "        \n",
        "    for depth in depths:\n",
        "        # Define the GradientBoostingClassifier with the specified depth and number of trees\n",
        "        model = GradientBoostingClassifier(max_depth = depth, n_estimators = trees_amount)\n",
        "\n",
        "        # Train the model on the training set\n",
        "        model.fit(train_X, train_y)\n",
        "\n",
        "        # Make predictions on the test set\n",
        "        predictions = model.predict(test_X)\n",
        "\n",
        "        # Calculate accuracy\n",
        "        accuracy = accuracy_score(test_y, predictions)\n",
        "\n",
        "        # Calculate precision\n",
        "        precision = precision_score(test_y, predictions, average = 'weighted', zero_division = 0)\n",
        "\n",
        "        # Calculate recall\n",
        "        recall = recall_score(test_y, predictions, average='weighted')\n",
        "\n",
        "        # Print the scores\n",
        "        print(f\"Depth: {depth}\")\n",
        "        print(f\"Accuracy: {accuracy}\")\n",
        "        print(f\"Precision: {precision}\")\n",
        "        print(f\"Recall: {recall}\")\n",
        "        print()"
      ]
    },
    {
      "cell_type": "code",
      "execution_count": 43,
      "id": "3oFAnFOnEkdX",
      "metadata": {
        "id": "3oFAnFOnEkdX"
      },
      "outputs": [
        {
          "name": "stdout",
          "output_type": "stream",
          "text": [
            "Depth: 1\n",
            "Accuracy: 0.6515623377971557\n",
            "Precision: 0.42453348003569474\n",
            "Recall: 0.6515623377971557\n",
            "\n",
            "Depth: 2\n",
            "Accuracy: 0.6532232949236998\n",
            "Precision: 0.6523570979929778\n",
            "Recall: 0.6532232949236998\n",
            "\n",
            "Depth: 3\n",
            "Accuracy: 0.6591923595972179\n",
            "Precision: 0.6312328904513802\n",
            "Recall: 0.6591923595972179\n",
            "\n",
            "Depth: 4\n",
            "Accuracy: 0.6633447524135784\n",
            "Precision: 0.6367317352928115\n",
            "Recall: 0.6633447524135784\n",
            "\n",
            "Depth: 5\n",
            "Accuracy: 0.6671338108585072\n",
            "Precision: 0.6421582962850476\n",
            "Recall: 0.6671338108585072\n",
            "\n"
          ]
        }
      ],
      "source": [
        "max_depth_exploration(train_X, train_y, test_X, test_y)"
      ]
    },
    {
      "attachments": {},
      "cell_type": "markdown",
      "id": "75fc86d1",
      "metadata": {
        "id": "75fc86d1"
      },
      "source": [
        "**TODO :**   \n",
        "\n",
        "* How does the max_depth parameter influence the results? \n",
        "* How does the learning rate influence the results?\n",
        "* How does the number of trees in the ensemble influence the results?\n",
        "* Try to improve the accuracy by combining different max_depth, learning rate and number of trees. How well does your best model perform?"
      ]
    },
    {
      "cell_type": "code",
      "execution_count": 53,
      "id": "aa0c330e",
      "metadata": {
        "id": "aa0c330e"
      },
      "outputs": [],
      "source": [
        "## TODO -  sklearn trees have the attribute feature_importances_\n",
        "## make a plot, to show relative importance (maximum is 1) of your classifier and\n",
        "## order features from most relevant feature to the least relevant in the plot\n",
        "\n",
        "def plot_explained_variance(clf, X):\n",
        "    # Get feature importances from the classifier\n",
        "    importances = clf.feature_importances_\n",
        "\n",
        "    # Get feature names from the feature matrix\n",
        "    feature_names = X.columns\n",
        "\n",
        "    # Sort feature importances in descending order\n",
        "    sorted_indices = importances.argsort()[::-1]\n",
        "    sorted_importances = importances[sorted_indices][::-1]\n",
        "    sorted_feature_names = feature_names[sorted_indices][::-1]\n",
        "\n",
        "    # Create a horizontal bar plot to show relative feature importances\n",
        "    plt.figure(figsize=(10, 6))\n",
        "    plt.barh(range(len(sorted_importances)), sorted_importances, align='center')\n",
        "    plt.yticks(range(len(sorted_importances)), sorted_feature_names)\n",
        "    plt.xlabel('Relative Importance')\n",
        "    plt.ylabel('Features')\n",
        "    plt.title('Feature Importance')\n",
        "    plt.tight_layout()\n",
        "    plt.show()"
      ]
    },
    {
      "cell_type": "code",
      "execution_count": 54,
      "id": "6cf90239",
      "metadata": {
        "id": "6cf90239"
      },
      "outputs": [
        {
          "data": {
            "image/png": "[encoded data removed]",
            "text/plain": [
              "<Figure size 1000x600 with 1 Axes>"
            ]
          },
          "metadata": {},
          "output_type": "display_data"
        }
      ],
      "source": [
        "## TODO : display the plot\n",
        "plot_explained_variance(model, train_X)"
      ]
    },
    {
      "attachments": {},
      "cell_type": "markdown",
      "id": "2e0872d8",
      "metadata": {
        "id": "2e0872d8"
      },
      "source": [
        "**TODO :** Interpret the plot.\n",
        "\n",
        "**TODO (optional):** Try to remove the least-important features and see what happens. Does to quality improve or degrade? Why? "
      ]
    },
    {
      "attachments": {},
      "cell_type": "markdown",
      "id": "jhE75y_UN7Qx",
      "metadata": {
        "id": "jhE75y_UN7Qx"
      },
      "source": [
        "## Prepare for deep learning\n",
        "### Add all the necessary training functions \n",
        "*You can reuse them from previous practical exercises*"
      ]
    },
    {
      "cell_type": "code",
      "execution_count": null,
      "id": "LfDLPO2QODES",
      "metadata": {
        "id": "LfDLPO2QODES"
      },
      "outputs": [],
      "source": [
        "## TODO write a function that calculates the accuracy\n",
        "## Hint - you can use yours from practical 3 \n",
        "\n",
        "def accuracy(correct, total): \n",
        "    \"\"\"\n",
        "    function to calculate the accuracy given the\n",
        "        correct: number of correctly classified samples\n",
        "        total: total number of samples\n",
        "    returns the ratio\n",
        "    \"\"\"\n",
        "    "
      ]
    },
    {
      "cell_type": "code",
      "execution_count": null,
      "id": "EVe7SFnrODHP",
      "metadata": {
        "id": "EVe7SFnrODHP"
      },
      "outputs": [],
      "source": [
        "## TODO : Define a train and validation functions here\n",
        "## Hint - you can use yours from practical 3 \n",
        "\n",
        "def train(dataloader, optimizer, model, loss_fn, device, master_bar):\n",
        "    \"\"\" method to train the model \"\"\"\n",
        "    # Todo\n",
        "\n",
        "\n",
        "def validate(dataloader, model, loss_fn, device, master_bar):\n",
        "    \"\"\" method to compute the metrics on the validation set \"\"\"\n",
        "    # Todo"
      ]
    },
    {
      "cell_type": "code",
      "execution_count": null,
      "id": "pzGM0bPqxw3V",
      "metadata": {
        "id": "pzGM0bPqxw3V"
      },
      "outputs": [],
      "source": [
        "#TODO write a run_training function that \n",
        "# - calls the train and validate functions for each epoch\n",
        "# - saves the train_losses, val_losses, train_accs, val_accs as arrays for each epoch\n",
        "## Hint - you can use yours from practical 3 \n",
        "from tqdm import trange\n",
        "\n",
        "\n",
        "def run_training(model, optimizer, loss_function, device, num_epochs, train_dataloader, val_dataloader):\n",
        "    \"\"\" method to run the training procedure \"\"\"\n",
        "    # TODO"
      ]
    },
    {
      "cell_type": "code",
      "execution_count": null,
      "id": "ngflrAEJxw5t",
      "metadata": {
        "id": "ngflrAEJxw5t"
      },
      "outputs": [],
      "source": [
        "# TODO write a plot function \n",
        "## Hint - you can use yours from practical 2 or 3 \n"
      ]
    },
    {
      "attachments": {},
      "cell_type": "markdown",
      "id": "9iqaRi2xRADg",
      "metadata": {
        "id": "9iqaRi2xRADg"
      },
      "source": [
        "### Convert a pandas dataframe to a PyTorch dataset"
      ]
    },
    {
      "cell_type": "code",
      "execution_count": null,
      "id": "e3dcbc2c",
      "metadata": {
        "id": "e3dcbc2c"
      },
      "outputs": [],
      "source": [
        "## TODO : Define the dataset, apply normalization in the getitem method\n",
        "## Hint : you can use/adapt your code from practical 2\n",
        "class TabularDataset(torch.utils.data.Dataset):\n",
        "    def __init__(self, df_x, df_y, mean=None, std=None, normalise=True):\n",
        "        '''\n",
        "        TODO: save params to self attributes, \n",
        "        x is data without target column\n",
        "        y is target column\n",
        "        transform df to_numpy\n",
        "        ''' \n",
        "        self.x = \n",
        "        self.y = \n",
        "        self.mean = \n",
        "        self.std = \n",
        "        self.normalise = \n",
        "    \n",
        "    def __len__(self):\n",
        "        # TODO: return the length of the whole dataset\n",
        "\n",
        "    \n",
        "    def __getitem__(self, index):\n",
        "        ## TODO: return X, y by index, normalized if needed\n",
        "        "
      ]
    },
    {
      "cell_type": "code",
      "execution_count": null,
      "id": "3jJXxpF-KIpz",
      "metadata": {
        "id": "3jJXxpF-KIpz"
      },
      "outputs": [],
      "source": [
        "## TODO : calculate mean and std for the train set\n",
        "## Hint : be careful with categorical values. Convert them them to numerical \n",
        "## Hint : the response variable should be of datatype integer\n"
      ]
    },
    {
      "cell_type": "code",
      "execution_count": null,
      "id": "Ef6dNkihxzYd",
      "metadata": {
        "id": "Ef6dNkihxzYd"
      },
      "outputs": [],
      "source": [
        "# TODO : define new datasets with mean, std and normalise=True\n",
        "# be careful with the labels, they should start from 0!\n",
        "\n",
        "\n",
        "## TODO : define dataloaders, with specified batch size and shuffled\n",
        "batch_size = 256\n"
      ]
    },
    {
      "attachments": {},
      "cell_type": "markdown",
      "id": "N28MlXQ7ON1j",
      "metadata": {
        "id": "N28MlXQ7ON1j"
      },
      "source": [
        "## Logistic regression"
      ]
    },
    {
      "cell_type": "code",
      "execution_count": null,
      "id": "NT-EtgZKOLb0",
      "metadata": {
        "id": "NT-EtgZKOLb0"
      },
      "outputs": [],
      "source": [
        "class LR(torch.nn.Module):\n",
        "    \"\"\"\n",
        "    The logistic regression model inherits from torch.nn.Module \n",
        "    which is the base class for all neural network modules.\n",
        "    \"\"\"\n",
        "    def __init__(self, input_dim, output_dim):\n",
        "        \"\"\" Initializes internal Module state. \"\"\"\n",
        "        super(LR, self).__init__()\n",
        "        # TODO define linear layer for the model\n",
        "        \n",
        "\n",
        "    def forward(self, x):\n",
        "        \"\"\" Defines the computation performed at every call. \"\"\"\n",
        "        # What are the dimensions of your input layer?\n",
        "        x = x.to(torch.float32)\n",
        "        # TODO run the data through the layer\n",
        "        \n",
        "        return outputs"
      ]
    },
    {
      "cell_type": "code",
      "execution_count": null,
      "id": "eWDd_hYGOZSj",
      "metadata": {
        "id": "eWDd_hYGOZSj"
      },
      "outputs": [],
      "source": [
        "## TODO define model, loss and optimisers\n",
        "## don't forget to move everything for the correct devices\n",
        "## \n",
        "lr=0.001\n"
      ]
    },
    {
      "cell_type": "code",
      "execution_count": null,
      "id": "6EFwKn-iOgNv",
      "metadata": {
        "id": "6EFwKn-iOgNv"
      },
      "outputs": [],
      "source": [
        "## TODO train the network\n",
        "num_epochs = 30\n"
      ]
    },
    {
      "cell_type": "code",
      "execution_count": null,
      "id": "H-IJWOsATYul",
      "metadata": {
        "id": "H-IJWOsATYul"
      },
      "outputs": [],
      "source": [
        "## todo - plot losses and accuracies\n",
        "plot('Epoch vs. Loss', 'Loss', train_losses_lr, val_losses_lr)"
      ]
    },
    {
      "cell_type": "code",
      "execution_count": null,
      "id": "HjAaYdd8TZed",
      "metadata": {
        "id": "HjAaYdd8TZed"
      },
      "outputs": [],
      "source": [
        "plot('Epoch vs. Accuracy', 'Accuracy', train_accs_lr, val_accs_lr)"
      ]
    },
    {
      "attachments": {},
      "cell_type": "markdown",
      "id": "cb1bca9a",
      "metadata": {
        "id": "cb1bca9a"
      },
      "source": [
        "\n",
        "## Create a simple MLP\n",
        "\n",
        "As the default tree has 3 layers, let's make a MLP with 3 linear layers and ReLU.\n",
        "Please notice that making convolutions on tabular data does not make much sense even though it is technically possible.   \n",
        "\n",
        "**TODO :** Explain why making convolutions on tabular data does not make much sense. Why do we use an MLP, not a CNN from the previous homework?"
      ]
    },
    {
      "cell_type": "code",
      "execution_count": null,
      "id": "4eecbb52",
      "metadata": {
        "id": "4eecbb52"
      },
      "outputs": [],
      "source": [
        "class TabularNetwork(torch.nn.Module):\n",
        "    def __init__(self, input_dim, output_dim):\n",
        "        \"\"\" Initializes internal Module state. \"\"\"\n",
        "        super(TabularNetwork, self).__init__()\n",
        "        self.network = nn.Sequential(\n",
        "            # TODO : define 3 linear layer with sizes \n",
        "            # input_dim -> input_dim // 2 -> output_dim\n",
        "            # using ReLU as nonlinearity\n",
        "            \n",
        "        )\n",
        "      \n",
        "\n",
        "    def forward(self, x):\n",
        "        \"\"\" Defines the computation performed at every call. \"\"\"\n",
        "        # TODO"
      ]
    },
    {
      "cell_type": "code",
      "execution_count": null,
      "id": "5OGid8SpMvZz",
      "metadata": {
        "id": "5OGid8SpMvZz"
      },
      "outputs": [],
      "source": [
        "## TODO : define model, optimiser, cross entropy loss,\n",
        "## put model to the device, and train mode\n",
        "## you can optionally apply regularisation between 0.0005 and 0.005 \n",
        "lr=0.001\n"
      ]
    },
    {
      "cell_type": "code",
      "execution_count": null,
      "id": "Z-WNxtczM5Iv",
      "metadata": {
        "id": "Z-WNxtczM5Iv"
      },
      "outputs": [],
      "source": [
        "## TODO : Train model\n",
        "num_epochs = 50\n"
      ]
    },
    {
      "cell_type": "code",
      "execution_count": null,
      "id": "I_xVns4qM5eO",
      "metadata": {
        "id": "I_xVns4qM5eO"
      },
      "outputs": [],
      "source": [
        "# TODO plot losses\n",
        "plot('Epoch vs. Loss', 'Loss', train_losses, val_losses)"
      ]
    },
    {
      "cell_type": "code",
      "execution_count": null,
      "id": "JRAEaYnYUpd_",
      "metadata": {
        "id": "JRAEaYnYUpd_"
      },
      "outputs": [],
      "source": [
        "# TODO plot accuracies\n",
        "plot('Epoch vs. Accuracy', 'Accuracy', train_accs, val_accs)"
      ]
    },
    {
      "attachments": {},
      "cell_type": "markdown",
      "id": "J8HbVqiUznBu",
      "metadata": {
        "id": "J8HbVqiUznBu"
      },
      "source": [
        "**TODO:** Did your network perform better or worse than the GradientBoostingClassifier on this dataset? Why? \n"
      ]
    },
    {
      "attachments": {},
      "cell_type": "markdown",
      "id": "cc0f5f87",
      "metadata": {
        "id": "cc0f5f87"
      },
      "source": [
        "## Bonus tasks (optional)\n",
        "* Try to use SGD instead of Adam as optimiser. What do you notice?\n",
        "Here are different opinions on this topic:\n",
        "  * https://codeahoy.com/questions/ds-interview/33/#:~:text=Adam%20tends%20to%20converge%20faster,converges%20to%20more%20optimal%20solutions.\n",
        "  * https://shaoanlu.wordpress.com/2017/05/29/sgd-all-which-one-is-the-best-optimizer-dogs-vs-cats-toy-experiment/ \n",
        "  * https://datascience.stackexchange.com/questions/30344/why-not-always-use-the-adam-optimization-technique\n",
        "\n",
        "* Try to make your MLP twice deeper. What do you notice? Why?\n",
        "\n",
        "## Advanced topic to read about:\n",
        "**Tools which may be helpful for data exploration:**\n",
        "* df.describe() - returns some basic statistics for your dataset - https://pandas.pydata.org/docs/reference/api/pandas.DataFrame.describe.html\n",
        "* ydata-profiling (previous pandas-profiling) - generates interactive data exploration report: basic statistics, nans, correlations between different features - https://github.com/ydataai/ydata-profiling\n",
        "\n",
        "**Tree libraries**\n",
        "* XGBoost - XGBoost stands for “Extreme Gradient Boosting”, where the term “Gradient Boosting” originates from the paper Greedy Function Approximation: A Gradient Boosting Machine, by Friedman. https://xgboost.readthedocs.io/en/stable/tutorials/model.html\n",
        "* LightGBM - industrial library for XGBoost from Miscrosoft. LightGBM is a gradient boosting framework that uses tree based learning algorithms. It is designed to be distributed and efficient. https://lightgbm.readthedocs.io/en/v3.3.2/"
      ]
    },
    {
      "attachments": {},
      "cell_type": "markdown",
      "id": "fc6bdb0a",
      "metadata": {},
      "source": []
    }
  ],
  "metadata": {
    "accelerator": "GPU",
    "colab": {
      "gpuType": "T4",
      "provenance": []
    },
    "kernelspec": {
      "display_name": "Python 3",
      "language": "python",
      "name": "python3"
    },
    "language_info": {
      "codemirror_mode": {
        "name": "ipython",
        "version": 3
      },
      "file_extension": ".py",
      "mimetype": "text/x-python",
      "name": "python",
      "nbconvert_exporter": "python",
      "pygments_lexer": "ipython3",
      "version": "3.11.3"
    },
    "vscode": {
      "interpreter": {
        "hash": "31f2aee4e71d21fbe5cf8b01ff0e069b9275f58929596ceb00d14d90e3e16cd6"
      }
    }
  },
  "nbformat": 4,
  "nbformat_minor": 5
}
