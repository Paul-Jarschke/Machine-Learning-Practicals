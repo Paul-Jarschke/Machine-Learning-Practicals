{
  "cells": [
    {
      "attachments": {},
      "cell_type": "markdown",
      "id": "bc713cda",
      "metadata": {
        "id": "bc713cda"
      },
      "source": [
        "# Machine Learning - Practical 4 - Deep Learning VS Trees\n",
        "\n",
        "\n",
        "Names: {YOUR NAMES}  \n",
        "Summer Term 2023   \n",
        "Due Date: Tuesday, June 13, 2pm"
      ]
    },
    {
      "attachments": {},
      "cell_type": "markdown",
      "id": "0e394c4e",
      "metadata": {
        "id": "0e394c4e"
      },
      "source": [
        "In this practical we are going to use a tabular dataset. We will test two different approaches - forests and neural networks and compare performance. We are also going to learn how to make trees interpretable."
      ]
    },
    {
      "attachments": {},
      "cell_type": "markdown",
      "id": "72933ee7",
      "metadata": {
        "id": "72933ee7"
      },
      "source": [
        "To prepare this tutorial we used [this paper](https://arxiv.org/pdf/2207.08815.pdf) with its [repository](https://github.com/LeoGrin/tabular-benchmark).\n",
        "\n",
        "For explained variance in trees, you can read more [here](https://scikit-learn.org/0.15/auto_examples/ensemble/plot_gradient_boosting_regression.html#example-ensemble-plot-gradient-boosting-regression-py).\n"
      ]
    },
    {
      "cell_type": "code",
      "execution_count": 156,
      "id": "218de310",
      "metadata": {
        "colab": {
          "base_uri": "https://localhost:8080/"
        },
        "id": "218de310",
        "outputId": "93864191-1b7e-479f-bfd3-0759b4847266",
        "scrolled": false
      },
      "outputs": [
        {
          "data": {
            "text/plain": [
              "<torch._C.Generator at 0x226a7d21b70>"
            ]
          },
          "execution_count": 156,
          "metadata": {},
          "output_type": "execute_result"
        }
      ],
      "source": [
        "%matplotlib inline\n",
        "\n",
        "import pandas as pd\n",
        "import seaborn as sns\n",
        "import matplotlib.pyplot as plt\n",
        "import numpy as np\n",
        "import pickle\n",
        "import os\n",
        "\n",
        "from sklearn.model_selection import train_test_split\n",
        "from sklearn.ensemble import GradientBoostingClassifier\n",
        "from sklearn.metrics import recall_score, precision_score, accuracy_score\n",
        "\n",
        "from PIL import Image\n",
        "import torch\n",
        "import torch.nn as nn\n",
        "from torch.utils.data import DataLoader, Dataset, Subset\n",
        "import torchvision.datasets as datasets\n",
        "import torchvision.transforms as transforms\n",
        "from torchvision.utils import make_grid\n",
        "\n",
        "torch.manual_seed(42) # Set manual seed"
      ]
    },
    {
      "cell_type": "code",
      "execution_count": 157,
      "id": "3bb2c837",
      "metadata": {
        "id": "3bb2c837"
      },
      "outputs": [
        {
          "name": "stdout",
          "output_type": "stream",
          "text": [
            "Using device cuda:0\n"
          ]
        }
      ],
      "source": [
        "# DO NOT CHANGE\n",
        "use_cuda = True\n",
        "use_cuda = False if not use_cuda else torch.cuda.is_available()\n",
        "device = torch.device('cuda:0' if use_cuda else 'cpu')\n",
        "torch.cuda.get_device_name(device) if use_cuda else 'cpu'\n",
        "print('Using device', device)"
      ]
    },
    {
      "attachments": {},
      "cell_type": "markdown",
      "id": "8e24771e",
      "metadata": {
        "id": "8e24771e"
      },
      "source": [
        "## Load, clean and split the tabular dataset"
      ]
    },
    {
      "attachments": {},
      "cell_type": "markdown",
      "id": "61d9f9e1",
      "metadata": {
        "id": "61d9f9e1"
      },
      "source": [
        "We use the preprocessing pipeline from [Grinsztajn, 2022](https://arxiv.org/pdf/2207.08815.pdf).\n",
        "\n",
        "**No missing data**    \n",
        "\n",
        "Remove all rows containing at least one missing entry.    \n",
        "\n",
        "*In practice people often do not remove rows with missing values but try to fill missing values in a column with the mean or median values for numerical data and mode or median values for categorical data. Sometimes even simple prediction models are used to fill in the gaps but we will remove rows or columns with missing values for the sake of simplicity*\n",
        "\n",
        "**Balanced classes**   \n",
        "\n",
        "For classification, the target is binarised if there are multiple classes, by taking the two most numerous classes, and we keep half of samples in each class.\n",
        "\n",
        "**Low cardinality categorical features**   \n",
        "\n",
        "Remove categorical features with more than 20 items. \n",
        "\n",
        "**High cardinality numerical features**   \n",
        "\n",
        "Remove numerical features with less than 10 unique values. Convert numerical features with 2 unique values to categorical."
      ]
    },
    {
      "attachments": {},
      "cell_type": "markdown",
      "id": "Gyi3ep5EtiIf",
      "metadata": {
        "id": "Gyi3ep5EtiIf"
      },
      "source": [
        "**Data description:**  \n",
        "Data reported to the police about the circumstances of personal injury road accidents in Great Britain from 1979. This version includes data up to 2015. We will try to predict the sex of the driver based on the data provided."
      ]
    },
    {
      "cell_type": "code",
      "execution_count": 158,
      "id": "bbc76543",
      "metadata": {
        "id": "bbc76543"
      },
      "outputs": [],
      "source": [
        "## In case you have any issues with loading the pickle file\n",
        "## check that your pandas version is 1.4.1\n",
        "## or just simply run:\n",
        "## pip install pandas==1.4.1\n",
        "\n",
        "with open('adopted_road_safety.pkl', 'rb') as f:\n",
        "    dataset = pickle.load(f)"
      ]
    },
    {
      "cell_type": "code",
      "execution_count": 159,
      "id": "288e7151",
      "metadata": {
        "id": "288e7151"
      },
      "outputs": [
        {
          "data": {
            "text/html": [
              "<div>\n",
              "<style scoped>\n",
              "    .dataframe tbody tr th:only-of-type {\n",
              "        vertical-align: middle;\n",
              "    }\n",
              "\n",
              "    .dataframe tbody tr th {\n",
              "        vertical-align: top;\n",
              "    }\n",
              "\n",
              "    .dataframe thead th {\n",
              "        text-align: right;\n",
              "    }\n",
              "</style>\n",
              "<table border=\"1\" class=\"dataframe\">\n",
              "  <thead>\n",
              "    <tr style=\"text-align: right;\">\n",
              "      <th></th>\n",
              "      <th>Accident_Index</th>\n",
              "      <th>Vehicle_Reference_df_res</th>\n",
              "      <th>Vehicle_Type</th>\n",
              "      <th>Towing_and_Articulation</th>\n",
              "      <th>Vehicle_Manoeuvre</th>\n",
              "      <th>Vehicle_Location-Restricted_Lane</th>\n",
              "      <th>Junction_Location</th>\n",
              "      <th>Skidding_and_Overturning</th>\n",
              "      <th>Hit_Object_in_Carriageway</th>\n",
              "      <th>Vehicle_Leaving_Carriageway</th>\n",
              "      <th>...</th>\n",
              "      <th>Age_Band_of_Casualty</th>\n",
              "      <th>Casualty_Severity</th>\n",
              "      <th>Pedestrian_Location</th>\n",
              "      <th>Pedestrian_Movement</th>\n",
              "      <th>Car_Passenger</th>\n",
              "      <th>Bus_or_Coach_Passenger</th>\n",
              "      <th>Pedestrian_Road_Maintenance_Worker</th>\n",
              "      <th>Casualty_Type</th>\n",
              "      <th>Casualty_Home_Area_Type</th>\n",
              "      <th>Casualty_IMD_Decile</th>\n",
              "    </tr>\n",
              "  </thead>\n",
              "  <tbody>\n",
              "    <tr>\n",
              "      <th>0</th>\n",
              "      <td>201501BS70001</td>\n",
              "      <td>1</td>\n",
              "      <td>19.0</td>\n",
              "      <td>0.0</td>\n",
              "      <td>9.0</td>\n",
              "      <td>0.0</td>\n",
              "      <td>8.0</td>\n",
              "      <td>0.0</td>\n",
              "      <td>0.0</td>\n",
              "      <td>0.0</td>\n",
              "      <td>...</td>\n",
              "      <td>7.0</td>\n",
              "      <td>3</td>\n",
              "      <td>5.0</td>\n",
              "      <td>1.0</td>\n",
              "      <td>0.0</td>\n",
              "      <td>0.0</td>\n",
              "      <td>2.0</td>\n",
              "      <td>0</td>\n",
              "      <td>NaN</td>\n",
              "      <td>NaN</td>\n",
              "    </tr>\n",
              "    <tr>\n",
              "      <th>1</th>\n",
              "      <td>201501BS70002</td>\n",
              "      <td>1</td>\n",
              "      <td>9.0</td>\n",
              "      <td>0.0</td>\n",
              "      <td>9.0</td>\n",
              "      <td>0.0</td>\n",
              "      <td>8.0</td>\n",
              "      <td>0.0</td>\n",
              "      <td>0.0</td>\n",
              "      <td>0.0</td>\n",
              "      <td>...</td>\n",
              "      <td>5.0</td>\n",
              "      <td>3</td>\n",
              "      <td>9.0</td>\n",
              "      <td>9.0</td>\n",
              "      <td>0.0</td>\n",
              "      <td>0.0</td>\n",
              "      <td>2.0</td>\n",
              "      <td>0</td>\n",
              "      <td>1.0</td>\n",
              "      <td>3.0</td>\n",
              "    </tr>\n",
              "    <tr>\n",
              "      <th>2</th>\n",
              "      <td>201501BS70004</td>\n",
              "      <td>1</td>\n",
              "      <td>9.0</td>\n",
              "      <td>0.0</td>\n",
              "      <td>9.0</td>\n",
              "      <td>0.0</td>\n",
              "      <td>2.0</td>\n",
              "      <td>0.0</td>\n",
              "      <td>0.0</td>\n",
              "      <td>0.0</td>\n",
              "      <td>...</td>\n",
              "      <td>6.0</td>\n",
              "      <td>3</td>\n",
              "      <td>1.0</td>\n",
              "      <td>3.0</td>\n",
              "      <td>0.0</td>\n",
              "      <td>0.0</td>\n",
              "      <td>2.0</td>\n",
              "      <td>0</td>\n",
              "      <td>1.0</td>\n",
              "      <td>6.0</td>\n",
              "    </tr>\n",
              "    <tr>\n",
              "      <th>3</th>\n",
              "      <td>201501BS70005</td>\n",
              "      <td>1</td>\n",
              "      <td>9.0</td>\n",
              "      <td>0.0</td>\n",
              "      <td>9.0</td>\n",
              "      <td>0.0</td>\n",
              "      <td>2.0</td>\n",
              "      <td>0.0</td>\n",
              "      <td>0.0</td>\n",
              "      <td>0.0</td>\n",
              "      <td>...</td>\n",
              "      <td>2.0</td>\n",
              "      <td>3</td>\n",
              "      <td>5.0</td>\n",
              "      <td>1.0</td>\n",
              "      <td>0.0</td>\n",
              "      <td>0.0</td>\n",
              "      <td>2.0</td>\n",
              "      <td>0</td>\n",
              "      <td>1.0</td>\n",
              "      <td>2.0</td>\n",
              "    </tr>\n",
              "    <tr>\n",
              "      <th>4</th>\n",
              "      <td>201501BS70008</td>\n",
              "      <td>1</td>\n",
              "      <td>1.0</td>\n",
              "      <td>0.0</td>\n",
              "      <td>18.0</td>\n",
              "      <td>0.0</td>\n",
              "      <td>8.0</td>\n",
              "      <td>0.0</td>\n",
              "      <td>0.0</td>\n",
              "      <td>0.0</td>\n",
              "      <td>...</td>\n",
              "      <td>8.0</td>\n",
              "      <td>2</td>\n",
              "      <td>0.0</td>\n",
              "      <td>0.0</td>\n",
              "      <td>0.0</td>\n",
              "      <td>0.0</td>\n",
              "      <td>0.0</td>\n",
              "      <td>1</td>\n",
              "      <td>1.0</td>\n",
              "      <td>3.0</td>\n",
              "    </tr>\n",
              "    <tr>\n",
              "      <th>...</th>\n",
              "      <td>...</td>\n",
              "      <td>...</td>\n",
              "      <td>...</td>\n",
              "      <td>...</td>\n",
              "      <td>...</td>\n",
              "      <td>...</td>\n",
              "      <td>...</td>\n",
              "      <td>...</td>\n",
              "      <td>...</td>\n",
              "      <td>...</td>\n",
              "      <td>...</td>\n",
              "      <td>...</td>\n",
              "      <td>...</td>\n",
              "      <td>...</td>\n",
              "      <td>...</td>\n",
              "      <td>...</td>\n",
              "      <td>...</td>\n",
              "      <td>...</td>\n",
              "      <td>...</td>\n",
              "      <td>...</td>\n",
              "      <td>...</td>\n",
              "    </tr>\n",
              "    <tr>\n",
              "      <th>363238</th>\n",
              "      <td>2015984141415</td>\n",
              "      <td>13</td>\n",
              "      <td>9.0</td>\n",
              "      <td>0.0</td>\n",
              "      <td>18.0</td>\n",
              "      <td>0.0</td>\n",
              "      <td>0.0</td>\n",
              "      <td>0.0</td>\n",
              "      <td>0.0</td>\n",
              "      <td>5.0</td>\n",
              "      <td>...</td>\n",
              "      <td>1.0</td>\n",
              "      <td>3</td>\n",
              "      <td>0.0</td>\n",
              "      <td>0.0</td>\n",
              "      <td>2.0</td>\n",
              "      <td>0.0</td>\n",
              "      <td>0.0</td>\n",
              "      <td>9</td>\n",
              "      <td>1.0</td>\n",
              "      <td>NaN</td>\n",
              "    </tr>\n",
              "    <tr>\n",
              "      <th>363239</th>\n",
              "      <td>2015984141415</td>\n",
              "      <td>13</td>\n",
              "      <td>9.0</td>\n",
              "      <td>0.0</td>\n",
              "      <td>18.0</td>\n",
              "      <td>0.0</td>\n",
              "      <td>0.0</td>\n",
              "      <td>0.0</td>\n",
              "      <td>0.0</td>\n",
              "      <td>5.0</td>\n",
              "      <td>...</td>\n",
              "      <td>5.0</td>\n",
              "      <td>3</td>\n",
              "      <td>0.0</td>\n",
              "      <td>0.0</td>\n",
              "      <td>0.0</td>\n",
              "      <td>0.0</td>\n",
              "      <td>0.0</td>\n",
              "      <td>9</td>\n",
              "      <td>1.0</td>\n",
              "      <td>2.0</td>\n",
              "    </tr>\n",
              "    <tr>\n",
              "      <th>363240</th>\n",
              "      <td>2015984141415</td>\n",
              "      <td>13</td>\n",
              "      <td>9.0</td>\n",
              "      <td>0.0</td>\n",
              "      <td>18.0</td>\n",
              "      <td>0.0</td>\n",
              "      <td>0.0</td>\n",
              "      <td>0.0</td>\n",
              "      <td>0.0</td>\n",
              "      <td>5.0</td>\n",
              "      <td>...</td>\n",
              "      <td>4.0</td>\n",
              "      <td>3</td>\n",
              "      <td>0.0</td>\n",
              "      <td>0.0</td>\n",
              "      <td>0.0</td>\n",
              "      <td>0.0</td>\n",
              "      <td>0.0</td>\n",
              "      <td>9</td>\n",
              "      <td>2.0</td>\n",
              "      <td>5.0</td>\n",
              "    </tr>\n",
              "    <tr>\n",
              "      <th>363241</th>\n",
              "      <td>2015984141415</td>\n",
              "      <td>13</td>\n",
              "      <td>9.0</td>\n",
              "      <td>0.0</td>\n",
              "      <td>18.0</td>\n",
              "      <td>0.0</td>\n",
              "      <td>0.0</td>\n",
              "      <td>0.0</td>\n",
              "      <td>0.0</td>\n",
              "      <td>5.0</td>\n",
              "      <td>...</td>\n",
              "      <td>6.0</td>\n",
              "      <td>3</td>\n",
              "      <td>0.0</td>\n",
              "      <td>0.0</td>\n",
              "      <td>0.0</td>\n",
              "      <td>0.0</td>\n",
              "      <td>0.0</td>\n",
              "      <td>9</td>\n",
              "      <td>3.0</td>\n",
              "      <td>NaN</td>\n",
              "    </tr>\n",
              "    <tr>\n",
              "      <th>363242</th>\n",
              "      <td>2015984141415</td>\n",
              "      <td>13</td>\n",
              "      <td>9.0</td>\n",
              "      <td>0.0</td>\n",
              "      <td>18.0</td>\n",
              "      <td>0.0</td>\n",
              "      <td>0.0</td>\n",
              "      <td>0.0</td>\n",
              "      <td>0.0</td>\n",
              "      <td>5.0</td>\n",
              "      <td>...</td>\n",
              "      <td>4.0</td>\n",
              "      <td>3</td>\n",
              "      <td>0.0</td>\n",
              "      <td>0.0</td>\n",
              "      <td>0.0</td>\n",
              "      <td>0.0</td>\n",
              "      <td>0.0</td>\n",
              "      <td>9</td>\n",
              "      <td>1.0</td>\n",
              "      <td>4.0</td>\n",
              "    </tr>\n",
              "  </tbody>\n",
              "</table>\n",
              "<p>363243 rows × 67 columns</p>\n",
              "</div>"
            ],
            "text/plain": [
              "       Accident_Index  Vehicle_Reference_df_res  Vehicle_Type   \n",
              "0       201501BS70001                         1          19.0  \\\n",
              "1       201501BS70002                         1           9.0   \n",
              "2       201501BS70004                         1           9.0   \n",
              "3       201501BS70005                         1           9.0   \n",
              "4       201501BS70008                         1           1.0   \n",
              "...               ...                       ...           ...   \n",
              "363238  2015984141415                        13           9.0   \n",
              "363239  2015984141415                        13           9.0   \n",
              "363240  2015984141415                        13           9.0   \n",
              "363241  2015984141415                        13           9.0   \n",
              "363242  2015984141415                        13           9.0   \n",
              "\n",
              "        Towing_and_Articulation  Vehicle_Manoeuvre   \n",
              "0                           0.0                9.0  \\\n",
              "1                           0.0                9.0   \n",
              "2                           0.0                9.0   \n",
              "3                           0.0                9.0   \n",
              "4                           0.0               18.0   \n",
              "...                         ...                ...   \n",
              "363238                      0.0               18.0   \n",
              "363239                      0.0               18.0   \n",
              "363240                      0.0               18.0   \n",
              "363241                      0.0               18.0   \n",
              "363242                      0.0               18.0   \n",
              "\n",
              "        Vehicle_Location-Restricted_Lane  Junction_Location   \n",
              "0                                    0.0                8.0  \\\n",
              "1                                    0.0                8.0   \n",
              "2                                    0.0                2.0   \n",
              "3                                    0.0                2.0   \n",
              "4                                    0.0                8.0   \n",
              "...                                  ...                ...   \n",
              "363238                               0.0                0.0   \n",
              "363239                               0.0                0.0   \n",
              "363240                               0.0                0.0   \n",
              "363241                               0.0                0.0   \n",
              "363242                               0.0                0.0   \n",
              "\n",
              "        Skidding_and_Overturning  Hit_Object_in_Carriageway   \n",
              "0                            0.0                        0.0  \\\n",
              "1                            0.0                        0.0   \n",
              "2                            0.0                        0.0   \n",
              "3                            0.0                        0.0   \n",
              "4                            0.0                        0.0   \n",
              "...                          ...                        ...   \n",
              "363238                       0.0                        0.0   \n",
              "363239                       0.0                        0.0   \n",
              "363240                       0.0                        0.0   \n",
              "363241                       0.0                        0.0   \n",
              "363242                       0.0                        0.0   \n",
              "\n",
              "        Vehicle_Leaving_Carriageway  ...  Age_Band_of_Casualty   \n",
              "0                               0.0  ...                   7.0  \\\n",
              "1                               0.0  ...                   5.0   \n",
              "2                               0.0  ...                   6.0   \n",
              "3                               0.0  ...                   2.0   \n",
              "4                               0.0  ...                   8.0   \n",
              "...                             ...  ...                   ...   \n",
              "363238                          5.0  ...                   1.0   \n",
              "363239                          5.0  ...                   5.0   \n",
              "363240                          5.0  ...                   4.0   \n",
              "363241                          5.0  ...                   6.0   \n",
              "363242                          5.0  ...                   4.0   \n",
              "\n",
              "        Casualty_Severity  Pedestrian_Location  Pedestrian_Movement   \n",
              "0                       3                  5.0                  1.0  \\\n",
              "1                       3                  9.0                  9.0   \n",
              "2                       3                  1.0                  3.0   \n",
              "3                       3                  5.0                  1.0   \n",
              "4                       2                  0.0                  0.0   \n",
              "...                   ...                  ...                  ...   \n",
              "363238                  3                  0.0                  0.0   \n",
              "363239                  3                  0.0                  0.0   \n",
              "363240                  3                  0.0                  0.0   \n",
              "363241                  3                  0.0                  0.0   \n",
              "363242                  3                  0.0                  0.0   \n",
              "\n",
              "       Car_Passenger  Bus_or_Coach_Passenger   \n",
              "0                0.0                     0.0  \\\n",
              "1                0.0                     0.0   \n",
              "2                0.0                     0.0   \n",
              "3                0.0                     0.0   \n",
              "4                0.0                     0.0   \n",
              "...              ...                     ...   \n",
              "363238           2.0                     0.0   \n",
              "363239           0.0                     0.0   \n",
              "363240           0.0                     0.0   \n",
              "363241           0.0                     0.0   \n",
              "363242           0.0                     0.0   \n",
              "\n",
              "        Pedestrian_Road_Maintenance_Worker  Casualty_Type   \n",
              "0                                      2.0              0  \\\n",
              "1                                      2.0              0   \n",
              "2                                      2.0              0   \n",
              "3                                      2.0              0   \n",
              "4                                      0.0              1   \n",
              "...                                    ...            ...   \n",
              "363238                                 0.0              9   \n",
              "363239                                 0.0              9   \n",
              "363240                                 0.0              9   \n",
              "363241                                 0.0              9   \n",
              "363242                                 0.0              9   \n",
              "\n",
              "        Casualty_Home_Area_Type  Casualty_IMD_Decile  \n",
              "0                           NaN                  NaN  \n",
              "1                           1.0                  3.0  \n",
              "2                           1.0                  6.0  \n",
              "3                           1.0                  2.0  \n",
              "4                           1.0                  3.0  \n",
              "...                         ...                  ...  \n",
              "363238                      1.0                  NaN  \n",
              "363239                      1.0                  2.0  \n",
              "363240                      2.0                  5.0  \n",
              "363241                      3.0                  NaN  \n",
              "363242                      1.0                  4.0  \n",
              "\n",
              "[363243 rows x 67 columns]"
            ]
          },
          "execution_count": 159,
          "metadata": {},
          "output_type": "execute_result"
        }
      ],
      "source": [
        "dataset"
      ]
    },
    {
      "cell_type": "code",
      "execution_count": 160,
      "id": "fAWW5kChD6MU",
      "metadata": {
        "id": "fAWW5kChD6MU"
      },
      "outputs": [],
      "source": [
        "target_column = 'Sex_of_Driver'\n",
        "test_size = 0.2\n",
        "random_state = 42"
      ]
    },
    {
      "cell_type": "code",
      "execution_count": 161,
      "id": "3d77435f",
      "metadata": {
        "id": "3d77435f"
      },
      "outputs": [],
      "source": [
        "def remove_nans(df):\n",
        "    '''\n",
        "    This function removes rows with NaN values.\n",
        "    '''\n",
        "    # Drop rows with NaN values\n",
        "    df = df.dropna()  \n",
        "    return df\n",
        "\n",
        "\n",
        "def numerical_to_categorical(df, n=2, ignore=[target_column]):\n",
        "    '''\n",
        "    Change the type of the column to categorical \n",
        "    if it has <= n unique values.\n",
        "    '''\n",
        "    # Initoate shallow copy of df\n",
        "    df = df.copy()\n",
        "\n",
        "    for column in df.columns:\n",
        "\n",
        "        if column not in ignore:\n",
        "            # Calculate the number of unique values in the column\n",
        "            unique_values = df[column].nunique()  \n",
        "\n",
        "            # Change column type to categorical if condition is met\n",
        "            if unique_values <= n:\n",
        "                df.loc[:, column] = df[column].astype('category')  \n",
        "        else:\n",
        "            # If the column is in the ignore list, do nothing\n",
        "            pass\n",
        "\n",
        "    return df\n",
        "\n",
        "\n",
        "def remove_columns_by_n(df, n=10, condition=np.number, direction='less', ignore=[target_column]):\n",
        "    '''\n",
        "    Remove columns with more or less than n unique values.\n",
        "    The function can be applied to either categorical or numerical columns based on the provided condition parameter.\n",
        "    With the default values, it removes all numerical columns that have less than 10 unique values (except for the target_column).\n",
        "    '''\n",
        "\n",
        "    if direction not in ['less', 'more']:\n",
        "        raise ValueError(\"Invalid direction. Choose either 'less' or 'more'.\")\n",
        "\n",
        "    if condition == 'category':\n",
        "        filtered_columns = df.select_dtypes(include='category').columns\n",
        "\n",
        "    elif condition == np.number:\n",
        "        filtered_columns = df.select_dtypes(include=np.number).columns\n",
        "\n",
        "    else:\n",
        "        raise ValueError(\"Invalid condition. Choose either 'category' or np.number\")\n",
        "\n",
        "    for column in filtered_columns:\n",
        "        if column not in ignore:\n",
        "            unique_values = df[column].nunique()\n",
        "\n",
        "            if direction == 'less' and unique_values < n:\n",
        "                df.drop(column, axis=1, inplace=True)\n",
        "\n",
        "            elif direction == 'more' and unique_values > n:\n",
        "                df.drop(column, axis=1, inplace=True)\n",
        "\n",
        "    return df"
      ]
    },
    {
      "cell_type": "code",
      "execution_count": 162,
      "id": "9033619f",
      "metadata": {
        "id": "9033619f"
      },
      "outputs": [],
      "source": [
        "# Disable soft warning!!\n",
        "# SettingWithCopyWarning: A value is trying to be set on a copy of a slice from a DataFrame\n",
        "#pd.options.mode.chained_assignment = None  # default = 'warn'\n",
        "\n",
        "df = dataset\n",
        "\n",
        "df = remove_nans(df)\n",
        "\n",
        "df = numerical_to_categorical(df, n=2, ignore=[target_column])\n",
        "\n",
        "df = remove_columns_by_n(df, n=10, condition=np.number, direction='less', ignore=[target_column])\n",
        "df = remove_columns_by_n(df, n=40, condition='category', direction='more', ignore=[target_column])\n",
        "\n",
        "assert not df.isna().any().any(), 'There are still nans in the dataframe'"
      ]
    },
    {
      "cell_type": "code",
      "execution_count": 163,
      "id": "22348559",
      "metadata": {
        "id": "22348559"
      },
      "outputs": [
        {
          "name": "stdout",
          "output_type": "stream",
          "text": [
            "Original dataset dimensions:  (363243, 67)\n",
            "Preprocessed dataset dimensions:  (96326, 29)\n"
          ]
        }
      ],
      "source": [
        "# TODO : make train-test split from the dataframe using the parameters above\n",
        "# expected results variable names - train_X, test_X, train_y, test_y\n",
        "\n",
        "# Split DataFrame into features and target variable\n",
        "X = df.drop(target_column, axis = 1)\n",
        "Y = df[target_column]\n",
        "\n",
        "# Perform train-test split\n",
        "train_X, test_X, train_y, test_y = train_test_split(X, Y, test_size=test_size, random_state=random_state)\n",
        "\n",
        "print(\"Original dataset dimensions: \", dataset.shape)\n",
        "print(\"Preprocessed dataset dimensions: \", df.shape)"
      ]
    },
    {
      "attachments": {},
      "cell_type": "markdown",
      "id": "77f002d6",
      "metadata": {
        "id": "77f002d6"
      },
      "source": [
        "**TODO :**  \n",
        "\n",
        "* Did you split the dataset in a stratified manner or not? Why?\n",
        "* How did the dataset dimensions change after preprocessing?\n",
        "* How many unique values are in the response variable? "
      ]
    },
    {
      "attachments": {},
      "cell_type": "markdown",
      "id": "f309f4d6",
      "metadata": {
        "id": "f309f4d6"
      },
      "source": [
        "## Task 1: Create a GradientBoostingClassifier"
      ]
    },
    {
      "cell_type": "code",
      "execution_count": 164,
      "id": "cxbPa0evFrRF",
      "metadata": {
        "id": "cxbPa0evFrRF"
      },
      "outputs": [],
      "source": [
        "## TODO : define the GradientBoostingClassifier, \n",
        "## train it on the train set and predict on the test set\n",
        "\n",
        "# Define GradientBoostingClassifier\n",
        "model = GradientBoostingClassifier()\n",
        "\n",
        "# Train the model on train set\n",
        "model.fit(train_X, train_y)\n",
        "\n",
        "# Make predictions on test set\n",
        "predictions = model.predict(test_X)\n"
      ]
    },
    {
      "cell_type": "code",
      "execution_count": 165,
      "id": "YZ5j6BMKFrcJ",
      "metadata": {
        "id": "YZ5j6BMKFrcJ"
      },
      "outputs": [
        {
          "name": "stdout",
          "output_type": "stream",
          "text": [
            "Accuracy:   0.7741617357001972\n",
            "Preecision: 0.7687297468748734\n",
            "Recall:     0.7741617357001972\n"
          ]
        }
      ],
      "source": [
        "## TODO : print  accuracy, precision, recall\n",
        "## Hint : use functions from sklearn metrics\n",
        "\n",
        "# Calculate accuracy\n",
        "accuracy = accuracy_score(test_y, predictions)\n",
        "\n",
        "# Calculate precision (change average parameter to 'micro', 'macro', or 'weighted')\n",
        "precision = precision_score(test_y, predictions, average='weighted')\n",
        "\n",
        "# Calculate recall (change average parameter to 'micro', 'macro', or 'weighted')\n",
        "recall = recall_score(test_y, predictions, average='weighted')\n",
        "\n",
        "# Print the scores\n",
        "print(f'Accuracy:   {accuracy}')\n",
        "print(f'Preecision: {precision}')\n",
        "print(f'Recall:     {recall}')"
      ]
    },
    {
      "cell_type": "code",
      "execution_count": 166,
      "id": "598f0ffa",
      "metadata": {
        "id": "598f0ffa"
      },
      "outputs": [],
      "source": [
        "## TODO : Write a function which iterates over trees_amount, \n",
        "## train a classifier with a specified amount of trees and print accuracy, precision, and recall.\n",
        "## Note: the calculations may take several minutes (depending on the computer efficiency).\n",
        "\n",
        "def trees_amount_exploration(train_X, train_y, test_X, test_y, trees_amount=[1, 20, 50, 100]):\n",
        "    for num_trees in trees_amount:\n",
        "        # Define the GradientBoostingClassifier with the specified number of trees\n",
        "        model = GradientBoostingClassifier(n_estimators=num_trees)\n",
        "\n",
        "        # Train the model on the training set\n",
        "        model.fit(train_X, train_y)\n",
        "\n",
        "        # Make predictions on the test set\n",
        "        predictions = model.predict(test_X)\n",
        "\n",
        "        # Calculate accuracy\n",
        "        accuracy = accuracy_score(test_y, predictions)\n",
        "\n",
        "        # Calculate precision\n",
        "        precision = precision_score(test_y, predictions, average='weighted', zero_division=0)\n",
        "\n",
        "        # Calculate recall\n",
        "        recall = recall_score(test_y, predictions, average='weighted')\n",
        "\n",
        "        # Print the scores\n",
        "        print(f'Number of Trees: {num_trees}')\n",
        "        print(f'Accuracy: {accuracy}')\n",
        "        print(f'Precision: {precision}')\n",
        "        print(f'Recall: {recall}\\n')\n"
      ]
    },
    {
      "cell_type": "code",
      "execution_count": 167,
      "id": "qcnxg4InEkRl",
      "metadata": {
        "id": "qcnxg4InEkRl"
      },
      "outputs": [],
      "source": [
        "#trees_amount_exploration(train_X, train_y, test_X, test_y)"
      ]
    },
    {
      "cell_type": "code",
      "execution_count": 168,
      "id": "518fc198",
      "metadata": {},
      "outputs": [],
      "source": [
        "## TODO : Write a function which iterates over the learning rate, \n",
        "## train a classifier with a specified amount of trees and print accuracy, precision, and recall.\n",
        "## Note: the calculations may take several minutes (depending on the computer efficiency).\n",
        "\n",
        "def learning_rate_exploration(train_X, train_y, test_X, test_y, learning_rates = [0.1, 0.2, 0.3, 0.4, 0.5], trees_amount=100):\n",
        "    \n",
        "    for lr in learning_rates:\n",
        "\n",
        "        # Define the GradientBoostingClassifier with the specified number of trees\n",
        "        model = GradientBoostingClassifier(learning_rate = lr, n_estimators = trees_amount)\n",
        "\n",
        "        # Train the model on the training set\n",
        "        model.fit(train_X, train_y)\n",
        "\n",
        "        # Make predictions on the test set\n",
        "        predictions = model.predict(test_X)\n",
        "\n",
        "        # Calculate accuracy\n",
        "        accuracy = accuracy_score(test_y, predictions)\n",
        "\n",
        "        # Calculate precision\n",
        "        precision = precision_score(test_y, predictions, average='weighted', zero_division=0)\n",
        "\n",
        "        # Calculate recall\n",
        "        recall = recall_score(test_y, predictions, average='weighted')\n",
        "\n",
        "        # Print the scores\n",
        "        print(f'Learning Rate: {lr}')\n",
        "        print(f'Accuracy: {accuracy}')\n",
        "        print(f'Precision: {precision}')\n",
        "        print(f'Recall: {recall}\\n')"
      ]
    },
    {
      "cell_type": "code",
      "execution_count": 169,
      "id": "afb2ae07",
      "metadata": {},
      "outputs": [],
      "source": [
        "#learning_rate_exploration(train_X, train_y, test_X, test_y)"
      ]
    },
    {
      "cell_type": "code",
      "execution_count": 170,
      "id": "T-akqJfbEkVF",
      "metadata": {
        "id": "T-akqJfbEkVF"
      },
      "outputs": [],
      "source": [
        "## TODO : Write a function which iterates over different depths, \n",
        "## train a classifier with a specified depth and print accuracy, precision, and recall\n",
        "## Set trees_amount= 50 to make the calculations faster\n",
        "## Note: the calculations may take several minutes (depe                                                                                                                                                                                                                                                                                                                                                                                                                                                                                                                                                                                                                                                                          nding on the computer efficiency).\n",
        "\n",
        "def max_depth_exploration(train_X, train_y, test_X, test_y, depths=[1,2,3,4,5] , trees_amount = 50):\n",
        "    \n",
        "    for depth in depths:\n",
        "        # Define the GradientBoostingClassifier with the specified depth and number of trees\n",
        "        model = GradientBoostingClassifier(max_depth = depth, n_estimators = trees_amount)\n",
        "\n",
        "        # Train the model on the training set\n",
        "        model.fit(train_X, train_y)\n",
        "\n",
        "        # Make predictions on the test set\n",
        "        predictions = model.predict(test_X)\n",
        "\n",
        "        # Calculate accuracy\n",
        "        accuracy = accuracy_score(test_y, predictions)\n",
        "\n",
        "        # Calculate precision\n",
        "        precision = precision_score(test_y, predictions, average = 'weighted', zero_division = 0)\n",
        "\n",
        "        # Calculate recall\n",
        "        recall = recall_score(test_y, predictions, average='weighted')\n",
        "\n",
        "        # Print the scores\n",
        "        print(f\"Depth: {depth}\")\n",
        "        print(f\"Accuracy: {accuracy}\")\n",
        "        print(f\"Precision: {precision}\")\n",
        "        print(f\"Recall: {recall}\\n\")"
      ]
    },
    {
      "cell_type": "code",
      "execution_count": 171,
      "id": "3oFAnFOnEkdX",
      "metadata": {
        "id": "3oFAnFOnEkdX"
      },
      "outputs": [],
      "source": [
        "#max_depth_exploration(train_X, train_y, test_X, test_y)"
      ]
    },
    {
      "attachments": {},
      "cell_type": "markdown",
      "id": "75fc86d1",
      "metadata": {
        "id": "75fc86d1"
      },
      "source": [
        "**TODO :**   \n",
        "\n",
        "* How does the max_depth parameter influence the results? \n",
        "* How does the learning rate influence the results?\n",
        "* How does the number of trees in the ensemble influence the results?\n",
        "* Try to improve the accuracy by combining different max_depth, learning rate and number of trees. How well does your best model perform?"
      ]
    },
    {
      "cell_type": "code",
      "execution_count": 172,
      "id": "aa0c330e",
      "metadata": {
        "id": "aa0c330e"
      },
      "outputs": [],
      "source": [
        "## TODO -  sklearn trees have the attribute feature_importances_\n",
        "## make a plot, to show relative importance (maximum is 1) of your classifier and\n",
        "## order features from most relevant feature to the least relevant in the plot\n",
        "\n",
        "def plot_explained_variance(clf, X):\n",
        "    # Get feature importances from the classifier\n",
        "    importances = clf.feature_importances_\n",
        "\n",
        "    # Get feature names from the feature matrix\n",
        "    feature_names = X.columns\n",
        "\n",
        "    # Sort feature importances in descending order\n",
        "    sorted_indices = importances.argsort()[::-1]\n",
        "    sorted_importances = importances[sorted_indices][::-1]\n",
        "    sorted_feature_names = feature_names[sorted_indices][::-1]\n",
        "\n",
        "    # Create a horizontal bar plot to show relative feature importances\n",
        "    plt.figure(figsize=(10, 6))\n",
        "    plt.barh(range(len(sorted_importances)), sorted_importances, align='center')\n",
        "    plt.yticks(range(len(sorted_importances)), sorted_feature_names)\n",
        "    plt.xlabel('Relative Importance')\n",
        "    plt.ylabel('Features')\n",
        "    plt.title('Feature Importance')\n",
        "    plt.tight_layout()\n",
        "    plt.show()"
      ]
    },
    {
      "cell_type": "code",
      "execution_count": 173,
      "id": "6cf90239",
      "metadata": {
        "id": "6cf90239"
      },
      "outputs": [
        {
          "data": {
            "image/png": "[encoded data removed]",
            "text/plain": [
              "<Figure size 1000x600 with 1 Axes>"
            ]
          },
          "metadata": {},
          "output_type": "display_data"
        }
      ],
      "source": [
        "## TODO : display the plot\n",
        "plot_explained_variance(model, train_X)"
      ]
    },
    {
      "attachments": {},
      "cell_type": "markdown",
      "id": "2e0872d8",
      "metadata": {
        "id": "2e0872d8"
      },
      "source": [
        "**TODO :** Interpret the plot.\n",
        "\n",
        "**TODO (optional):** Try to remove the least-important features and see what happens. Does to quality improve or degrade? Why? "
      ]
    },
    {
      "attachments": {},
      "cell_type": "markdown",
      "id": "jhE75y_UN7Qx",
      "metadata": {
        "id": "jhE75y_UN7Qx"
      },
      "source": [
        "## Prepare for deep learning\n",
        "### Add all the necessary training functions \n",
        "*You can reuse them from previous practical exercises*"
      ]
    },
    {
      "cell_type": "code",
      "execution_count": 199,
      "id": "LfDLPO2QODES",
      "metadata": {
        "id": "LfDLPO2QODES"
      },
      "outputs": [],
      "source": [
        "## TODO write a function that calculates the accuracy\n",
        "## Hint - you can use yours from practical 3 \n",
        "\n",
        "def accuracy(correct, total): \n",
        "    \"\"\"\n",
        "    function to calculate the accuracy given the\n",
        "        correct: number of correctly classified samples\n",
        "        total: total number of samples\n",
        "    returns the ratio\n",
        "    \"\"\"\n",
        "    ratio = correct/total\n",
        "\n",
        "    return ratio\n",
        "    "
      ]
    },
    {
      "cell_type": "code",
      "execution_count": 200,
      "id": "EVe7SFnrODHP",
      "metadata": {
        "id": "EVe7SFnrODHP"
      },
      "outputs": [],
      "source": [
        "## TODO : Define a train and validation functions here\n",
        "## Hint - you can use yours from practical 3 \n",
        "\n",
        "def train(dataloader, optimizer, model, loss_fn, device):   \n",
        "    \"\"\"\n",
        "    Method to train the model\n",
        "    \"\"\"\n",
        "\n",
        "    # Set the model to training mode\n",
        "    model.train()\n",
        "\n",
        "    # Initialize loss and accuracy variables\n",
        "    train_loss = 0.0\n",
        "    correct = 0\n",
        "    total = 0\n",
        "\n",
        "    # Iterate over batches in dataloader\n",
        "    for x, y in dataloader:\n",
        "        # Move input data and labels to GPU\n",
        "        x = x.to(device)\n",
        "        y = y.to(device).squeeze()\n",
        "\n",
        "        # Reset gradients of the optimizer to avoid gradient accumulation\n",
        "        # allows optimizer to perform accurate/independent updates for each batch, resulting in better convergence\n",
        "        optimizer.zero_grad()\n",
        "\n",
        "        # Forward pass: compute the predicted outputs of the model\n",
        "        y_pred = model.forward(x) # could also just be model(x) \n",
        "\n",
        "        # Compute loss between the predicted outputs and true labels\n",
        "        loss = loss_fn(y_pred, y)\n",
        "\n",
        "        # Backward pass: compute the gradients of the model parameters with respect to the loss\n",
        "        loss.backward()\n",
        "\n",
        "        # Update model parameters using the gradients\n",
        "        optimizer.step()\n",
        "\n",
        "        # Accumulate training loss\n",
        "        train_loss += loss.item()\n",
        "\n",
        "\n",
        "        # Calculate accuracy of the predicted outputs comparing them to true labels\n",
        "        _, predicted = torch.max(y_pred, 1) # previously y_pred.data\n",
        "        total += y.size(0)\n",
        "        correct += (predicted == y).sum().item()\n",
        "\n",
        "    # Calculate mean training loss over all batches\n",
        "    train_loss /= total # previously train_loss /= len(dataloader)\n",
        "\n",
        "    # Calculate training accuracy\n",
        "    train_accuracy = accuracy(correct, total)\n",
        "\n",
        "    # Return mean training loss and accuracy\n",
        "    return train_loss, train_accuracy"
      ]
    },
    {
      "cell_type": "code",
      "execution_count": 201,
      "id": "37dd0806",
      "metadata": {},
      "outputs": [],
      "source": [
        "## TODO : Define a validation function here\n",
        "## Hint - you can use yours from practical 3 #\n",
        "\n",
        "def validate(val_dataloader, model, loss_fn, device):\n",
        "    \"\"\" method to compute the metrics on the validation set \"\"\"\n",
        "    # TODO: write a validation function that calculates the loss and accuracy on the validation set\n",
        "    # you can also combine it with the training function\n",
        "    \n",
        "    # Set the model to evaluation mode\n",
        "    model.eval()\n",
        "\n",
        "    # Initialize variables to track loss and accuracy\n",
        "    val_loss = 0.0\n",
        "    correct = 0\n",
        "    total = 0\n",
        "\n",
        "    # Disable gradient computation during validation\n",
        "    with torch.no_grad():\n",
        "        # Iterate over the batches in the validation dataloader\n",
        "        for x_val, y_val in val_dataloader:\n",
        "            # Move the validation data and labels to the specified device\n",
        "            x_val = x_val.to(device)\n",
        "            y_val = y_val.to(device).squeeze()\n",
        "\n",
        "            # Forward pass: compute the predicted outputs of the model\n",
        "            y_pred_val = model(x_val)\n",
        "\n",
        "            # Compute loss between the predicted outputs and true labels\n",
        "            loss_val = loss_fn(y_pred_val, y_val)\n",
        "\n",
        "            # Accumulate validation loss\n",
        "            val_loss += loss_val.item()\n",
        "\n",
        "            # Calculate the accuracy of the predicted outputs by comparing them to true labels\n",
        "            _, predicted_val = torch.max(y_pred_val, 1) #here we had y_pred_val.data\n",
        "            total += y_val.size(0) # 0 is first dimnesion in tensor\n",
        "            correct += (predicted_val == y_val).sum().item()\n",
        "\n",
        "        # Calculate mean validation loss over all batches\n",
        "        val_loss /= len(val_dataloader)\n",
        "\n",
        "        # Calculate validation accuracy\n",
        "        val_accuracy = accuracy(correct, total)\n",
        "\n",
        "    # Return mean validation loss and accuracy\n",
        "    return val_loss, val_accuracy"
      ]
    },
    {
      "cell_type": "code",
      "execution_count": 202,
      "id": "pzGM0bPqxw3V",
      "metadata": {
        "id": "pzGM0bPqxw3V"
      },
      "outputs": [],
      "source": [
        "#TODO write a run_training function that \n",
        "# - calls the train and validate functions for each epoch\n",
        "# - saves the train_losses, val_losses, train_accs, val_accs as arrays for each epoch\n",
        "## Hint - you can use yours from practical 3 \n",
        "\n",
        "from tqdm import trange\n",
        "\n",
        "\n",
        "def run_training(model, optimizer, loss_function, device, num_epochs, train_dataloader, test_dataloader):\n",
        "    \"\"\"Method to run the training procedure\"\"\"\n",
        "  # TODO: write a run_training function that \n",
        "  # - calls the train and validate functions for each epoch\n",
        "  # - saves the train_losses, val_losses, train_accs, val_accs as arrays for each epoch\n",
        "\n",
        "    train_losses = []\n",
        "    val_losses = []\n",
        "    train_accs = []\n",
        "    val_accs = []\n",
        "\n",
        "    # Iterate over number of epochs using tqdm(trange) for progress bar\n",
        "    for epoch in trange(num_epochs, desc='Epoch'):\n",
        "        # Perform training for the current epoch\n",
        "        train_loss, train_accuracy = train(train_dataloader, optimizer, model, loss_function, device)\n",
        "\n",
        "        # Perform validation for the current epoch\n",
        "        val_loss, val_accuracy = validate(test_dataloader, model, loss_function, device)\n",
        "\n",
        "        # Append the values to repective list\n",
        "        train_losses.append(train_loss)\n",
        "        val_losses.append(val_loss)\n",
        "        train_accs.append(train_accuracy)\n",
        "        val_accs.append(val_accuracy)\n",
        "\n",
        "    # Return lists\n",
        "    return train_losses, val_losses, train_accs, val_accs"
      ]
    },
    {
      "cell_type": "code",
      "execution_count": 203,
      "id": "ngflrAEJxw5t",
      "metadata": {
        "id": "ngflrAEJxw5t"
      },
      "outputs": [],
      "source": [
        "# TODO write a plot function \n",
        "## Hint - you can use yours from practical 2 or 3 \n",
        "\n",
        "def plot_losses(train_losses, val_losses):\n",
        "\n",
        "    # Create a list of epoch numbers and dataframe to store losses\n",
        "    epochs = range(1, len(train_losses) + 1)\n",
        "\n",
        "    # Create data frame with losses and epochs as index\n",
        "    losses_df = pd.DataFrame({'Epoch': epochs, 'Training Loss': train_losses, 'Validation Loss': val_losses})\n",
        "    losses_df = losses_df.set_index('Epoch')\n",
        "\n",
        "    # Set up the plot using seaborn\n",
        "    sns.set(style='darkgrid')\n",
        "    plt.figure(figsize=(10, 5))\n",
        "\n",
        "    # Plot both losses\n",
        "    plt.plot(train_losses, 'o--', label='Train Loss') \n",
        "    plt.plot(val_losses, 'o--', label='Validation Loss')\n",
        "\n",
        "    # Set the plot title and labels\n",
        "    plt.title('Epoch vs. Loss')\n",
        "    plt.xlabel('Epoch')\n",
        "    plt.ylabel('Loss')\n",
        "\n",
        "    # Show the legend\n",
        "    plt.legend()\n",
        "    plt.show()"
      ]
    },
    {
      "attachments": {},
      "cell_type": "markdown",
      "id": "9iqaRi2xRADg",
      "metadata": {
        "id": "9iqaRi2xRADg"
      },
      "source": [
        "### Convert a pandas dataframe to a PyTorch dataset"
      ]
    },
    {
      "cell_type": "code",
      "execution_count": 210,
      "id": "e3dcbc2c",
      "metadata": {
        "id": "e3dcbc2c"
      },
      "outputs": [],
      "source": [
        "## TODO : Define the dataset, apply normalization in the getitem method\n",
        "## Hint : you can use/adapt your code from practical 2\n",
        "\n",
        "from sklearn.preprocessing import LabelEncoder\n",
        "\n",
        "class TabularDataset(torch.utils.data.Dataset):\n",
        "    def __init__(self, df_x, df_y, mean=None, std=None, normalise=True):\n",
        "        \n",
        "        # Initiate Lable encode to ensure that labels start at 0\n",
        "        self.label_encoder = LabelEncoder()\n",
        "\n",
        "        self.x = df_x.to_numpy()\n",
        "        self.y = self.label_encoder.fit_transform(df_y) # transform target variable using the label encoder\n",
        "        self.mean = mean\n",
        "        self.std = std\n",
        "        self.normalise = normalise\n",
        "\n",
        "        if self.normalise:\n",
        "            self.mean = self.x.mean(axis=0)\n",
        "            self.std = self.x.std(axis=0)\n",
        "\n",
        "    def __len__(self):\n",
        "        return len(self.x)\n",
        "\n",
        "    def __getitem__(self, index):\n",
        "        x = self.x[index]\n",
        "        y = self.y[index]\n",
        "\n",
        "        if self.normalise:\n",
        "            x = (x - self.mean) / self.std\n",
        "\n",
        "        return x, torch.LongTensor([y])"
      ]
    },
    {
      "cell_type": "code",
      "execution_count": 211,
      "id": "3jJXxpF-KIpz",
      "metadata": {
        "id": "3jJXxpF-KIpz"
      },
      "outputs": [],
      "source": [
        "## TODO : calculate mean and std for the train set\n",
        "## Hint : be careful with categorical values. Convert them them to numerical \n",
        "## Hint : the response variable should be of datatype integer\n",
        "\n",
        "\n",
        "# Initiate dataset for train set\n",
        "train_dataset = TabularDataset(train_X, train_y, normalise=False)\n",
        "\n",
        "# Calculate mean and std for train set\n",
        "mean = np.mean(train_dataset.x, axis = 0)\n",
        "std = np.std(train_dataset.x, axis = 0)"
      ]
    },
    {
      "cell_type": "code",
      "execution_count": 212,
      "id": "Ef6dNkihxzYd",
      "metadata": {
        "id": "Ef6dNkihxzYd"
      },
      "outputs": [
        {
          "name": "stdout",
          "output_type": "stream",
          "text": [
            "(77060, 28)\n",
            "(77060,)\n"
          ]
        }
      ],
      "source": [
        "# TODO : define new datasets with mean, std and normalise=True\n",
        "# be careful with the labels, they should start from 0!\n",
        "\n",
        "# Calculate mean and standard deviation for the train set\n",
        "\n",
        "train_y = train_y.astype(float).astype(int)\n",
        "\n",
        "print(train_X.shape)\n",
        "print(train_y.shape)\n",
        "\n",
        "# Define the training dataset with mean, std, and normalization\n",
        "train_dataset = TabularDataset(train_X, train_y, normalise=True)\n",
        "\n",
        "# Define the test dataset with mean, std, and normalization\n",
        "val_dataset = TabularDataset(test_X, test_y, normalise=True)\n",
        "\n",
        "# Define dataloaders with the specified batch size and shuffled\n",
        "batch_size = 256\n",
        "\n",
        "train_dataloader = torch.utils.data.DataLoader(train_dataset, batch_size=batch_size, shuffle=True)\n",
        "val_dataloader = torch.utils.data.DataLoader(val_dataset, batch_size=batch_size, shuffle=True)\n"
      ]
    },
    {
      "attachments": {},
      "cell_type": "markdown",
      "id": "N28MlXQ7ON1j",
      "metadata": {
        "id": "N28MlXQ7ON1j"
      },
      "source": [
        "## Logistic regression"
      ]
    },
    {
      "cell_type": "code",
      "execution_count": 213,
      "id": "NT-EtgZKOLb0",
      "metadata": {
        "id": "NT-EtgZKOLb0"
      },
      "outputs": [],
      "source": [
        "class LR(torch.nn.Module):\n",
        "    \"\"\"\n",
        "    The logistic regression model inherits from torch.nn.Module \n",
        "    which is the base class for all neural network modules.\n",
        "    \"\"\"\n",
        "    def __init__(self, input_dim, output_dim):\n",
        "        \"\"\" Initializes internal Module state. \"\"\"\n",
        "        super(LR, self).__init__()\n",
        "        # Define linear layer for the model\n",
        "        self.linear = torch.nn.Linear(input_dim, output_dim)\n",
        "\n",
        "    def forward(self, x):\n",
        "        \"\"\" Defines the computation performed at every call. \"\"\"\n",
        "        # Convert input to float32\n",
        "        x = x.to(torch.float32)\n",
        "        # Pass data through the linear layer\n",
        "        outputs = self.linear(x)\n",
        "\n",
        "        return outputs"
      ]
    },
    {
      "cell_type": "code",
      "execution_count": 214,
      "id": "eWDd_hYGOZSj",
      "metadata": {
        "id": "eWDd_hYGOZSj"
      },
      "outputs": [],
      "source": [
        "## TODO define model, loss and optimisers\n",
        "## don't forget to move everything to the correct devices\n",
        "\n",
        "# Learning rate\n",
        "lr = 0.001\n",
        "\n",
        "# Definde input and ouput dimensions\n",
        "input_dim = train_X.shape[1]\n",
        "output_dim = 3  # 3 Genders\n",
        "\n",
        "# Define model\n",
        "model = LR(input_dim, output_dim)\n",
        "\n",
        "# Move model to GPU\n",
        "model.to(device)\n",
        "\n",
        "# Define loss function\n",
        "loss_function = torch.nn.CrossEntropyLoss()\n",
        "\n",
        "# Define the optimizer\n",
        "optimizer = torch.optim.Adam(model.parameters(), lr=lr)"
      ]
    },
    {
      "cell_type": "code",
      "execution_count": 215,
      "id": "6EFwKn-iOgNv",
      "metadata": {
        "id": "6EFwKn-iOgNv"
      },
      "outputs": [
        {
          "name": "stderr",
          "output_type": "stream",
          "text": [
            "Epoch: 100%|██████████| 30/30 [01:02<00:00,  2.07s/it]\n"
          ]
        },
        {
          "data": {
            "text/plain": [
              "([1.0073635676666386,\n",
              "  0.8160458098749913,\n",
              "  0.7344327259335987,\n",
              "  0.6854751976069122,\n",
              "  0.6538134850466867,\n",
              "  0.6321870987241435,\n",
              "  0.6170384131992696,\n",
              "  0.6060695484276719,\n",
              "  0.5979006075964264,\n",
              "  0.5917719222742521,\n",
              "  0.586916673471177,\n",
              "  0.583052350891246,\n",
              "  0.5800103355066639,\n",
              "  0.5776245396384133,\n",
              "  0.5755864582957771,\n",
              "  0.5739682023134783,\n",
              "  0.5726897771408612,\n",
              "  0.5715835006522291,\n",
              "  0.5706053984681879,\n",
              "  0.5698390809802182,\n",
              "  0.5691822278230431,\n",
              "  0.5686459901949785,\n",
              "  0.5680658650373502,\n",
              "  0.5677655750363021,\n",
              "  0.5674234004630815,\n",
              "  0.5670519340016642,\n",
              "  0.5669455784158586,\n",
              "  0.5668395046433813,\n",
              "  0.5664393072031765,\n",
              "  0.5664607563174733],\n",
              " [0.8703393904786361,\n",
              "  0.7591820947433773,\n",
              "  0.6977967549311487,\n",
              "  0.6607286247767901,\n",
              "  0.634858782354154,\n",
              "  0.6172941609432823,\n",
              "  0.6048633652298074,\n",
              "  0.594355898468118,\n",
              "  0.5889927799764433,\n",
              "  0.5821627080440521,\n",
              "  0.5786511615702981,\n",
              "  0.5755443886706704,\n",
              "  0.5726891191382157,\n",
              "  0.5702127202561027,\n",
              "  0.5683212593982094,\n",
              "  0.5674563356136021,\n",
              "  0.5661278680751198,\n",
              "  0.5641639816917872,\n",
              "  0.5636846772149989,\n",
              "  0.563472584282097,\n",
              "  0.563354008291897,\n",
              "  0.5621194568903822,\n",
              "  0.5615649540957651,\n",
              "  0.560745721977008,\n",
              "  0.5602023209396162,\n",
              "  0.560706368010295,\n",
              "  0.5602065677705564,\n",
              "  0.5598292166465207,\n",
              "  0.5597512753386247,\n",
              "  0.5605666178621744],\n",
              " [0.5684012457825072,\n",
              "  0.7099143524526343,\n",
              "  0.714391383337659,\n",
              "  0.7193485595639761,\n",
              "  0.7216324941603945,\n",
              "  0.7229561380742279,\n",
              "  0.7256423566052427,\n",
              "  0.7264209706722035,\n",
              "  0.7267194393978718,\n",
              "  0.7273553075525564,\n",
              "  0.7266934855956397,\n",
              "  0.7268881391123799,\n",
              "  0.7274720996626006,\n",
              "  0.7265896703867116,\n",
              "  0.7272514923436283,\n",
              "  0.7277575914871529,\n",
              "  0.7280041526083572,\n",
              "  0.7268751622112639,\n",
              "  0.727809499091617,\n",
              "  0.726978977420192,\n",
              "  0.7266545548922917,\n",
              "  0.7273942382559044,\n",
              "  0.7271217233324682,\n",
              "  0.7276278224759928,\n",
              "  0.7277316376849209,\n",
              "  0.7273293537503244,\n",
              "  0.7277575914871529,\n",
              "  0.7277835452893849,\n",
              "  0.7277186607838049,\n",
              "  0.7271995847391642],\n",
              " [0.7146268036956296,\n",
              "  0.7219453960344648,\n",
              "  0.7253192151977577,\n",
              "  0.7282777950794145,\n",
              "  0.7295235129243226,\n",
              "  0.7331049517284335,\n",
              "  0.7319630437039344,\n",
              "  0.7307173258590263,\n",
              "  0.732533997716184,\n",
              "  0.7321706633447524,\n",
              "  0.7319630437039344,\n",
              "  0.7353368628672272,\n",
              "  0.7336759057406831,\n",
              "  0.7321706633447524,\n",
              "  0.7330011419080245,\n",
              "  0.7321706633447524,\n",
              "  0.7311325651406623,\n",
              "  0.7324820928059794,\n",
              "  0.7326897124467975,\n",
              "  0.7321706633447524,\n",
              "  0.7324820928059794,\n",
              "  0.7322744731651615,\n",
              "  0.7341949548427281,\n",
              "  0.7356482923284543,\n",
              "  0.7368421052631579,\n",
              "  0.7328973320876155,\n",
              "  0.7351292432264093,\n",
              "  0.7330011419080245,\n",
              "  0.733364476279456,\n",
              "  0.7350773383162047])"
            ]
          },
          "execution_count": 215,
          "metadata": {},
          "output_type": "execute_result"
        }
      ],
      "source": [
        "## TODO train the network\n",
        "num_epochs = 30\n",
        "run_training(model, optimizer, loss_function, device, num_epochs, train_dataloader, val_dataloader)"
      ]
    },
    {
      "cell_type": "code",
      "execution_count": 216,
      "id": "H-IJWOsATYul",
      "metadata": {
        "id": "H-IJWOsATYul"
      },
      "outputs": [
        {
          "ename": "NameError",
          "evalue": "name 'plot' is not defined",
          "output_type": "error",
          "traceback": [
            "\u001b[1;31m---------------------------------------------------------------------------\u001b[0m",
            "\u001b[1;31mNameError\u001b[0m                                 Traceback (most recent call last)",
            "Cell \u001b[1;32mIn[216], line 2\u001b[0m\n\u001b[0;32m      1\u001b[0m \u001b[39m## todo - plot losses and accuracies\u001b[39;00m\n\u001b[1;32m----> 2\u001b[0m plot(\u001b[39m'\u001b[39m\u001b[39mEpoch vs. Loss\u001b[39m\u001b[39m'\u001b[39m, \u001b[39m'\u001b[39m\u001b[39mLoss\u001b[39m\u001b[39m'\u001b[39m, train_losses_lr, val_losses_lr)\n",
            "\u001b[1;31mNameError\u001b[0m: name 'plot' is not defined"
          ]
        }
      ],
      "source": [
        "## todo - plot losses and accuracies\n",
        "plot('Epoch vs. Loss', 'Loss', train_losses_lr, val_losses_lr)"
      ]
    },
    {
      "cell_type": "code",
      "execution_count": null,
      "id": "HjAaYdd8TZed",
      "metadata": {
        "id": "HjAaYdd8TZed"
      },
      "outputs": [],
      "source": [
        "plot('Epoch vs. Accuracy', 'Accuracy', train_accs_lr, val_accs_lr)"
      ]
    },
    {
      "attachments": {},
      "cell_type": "markdown",
      "id": "cb1bca9a",
      "metadata": {
        "id": "cb1bca9a"
      },
      "source": [
        "\n",
        "## Create a simple MLP\n",
        "\n",
        "As the default tree has 3 layers, let's make a MLP with 3 linear layers and ReLU.\n",
        "Please notice that making convolutions on tabular data does not make much sense even though it is technically possible.   \n",
        "\n",
        "**TODO :** Explain why making convolutions on tabular data does not make much sense. Why do we use an MLP, not a CNN from the previous homework?"
      ]
    },
    {
      "cell_type": "code",
      "execution_count": null,
      "id": "4eecbb52",
      "metadata": {
        "id": "4eecbb52"
      },
      "outputs": [],
      "source": [
        "class TabularNetwork(torch.nn.Module):\n",
        "    def __init__(self, input_dim, output_dim):\n",
        "        \"\"\" Initializes internal Module state. \"\"\"\n",
        "        super(TabularNetwork, self).__init__()\n",
        "        self.network = nn.Sequential(\n",
        "            # TODO : define 3 linear layer with sizes \n",
        "            # input_dim -> input_dim // 2 -> output_dim\n",
        "            # using ReLU as nonlinearity\n",
        "            \n",
        "        )\n",
        "      \n",
        "\n",
        "    def forward(self, x):\n",
        "        \"\"\" Defines the computation performed at every call. \"\"\"\n",
        "        # TODO"
      ]
    },
    {
      "cell_type": "code",
      "execution_count": null,
      "id": "5OGid8SpMvZz",
      "metadata": {
        "id": "5OGid8SpMvZz"
      },
      "outputs": [],
      "source": [
        "## TODO : define model, optimiser, cross entropy loss,\n",
        "## put model to the device, and train mode\n",
        "## you can optionally apply regularisation between 0.0005 and 0.005 \n",
        "lr=0.001\n"
      ]
    },
    {
      "cell_type": "code",
      "execution_count": null,
      "id": "Z-WNxtczM5Iv",
      "metadata": {
        "id": "Z-WNxtczM5Iv"
      },
      "outputs": [],
      "source": [
        "## TODO : Train model\n",
        "num_epochs = 50\n"
      ]
    },
    {
      "cell_type": "code",
      "execution_count": null,
      "id": "I_xVns4qM5eO",
      "metadata": {
        "id": "I_xVns4qM5eO"
      },
      "outputs": [],
      "source": [
        "# TODO plot losses\n",
        "plot('Epoch vs. Loss', 'Loss', train_losses, val_losses)"
      ]
    },
    {
      "cell_type": "code",
      "execution_count": null,
      "id": "JRAEaYnYUpd_",
      "metadata": {
        "id": "JRAEaYnYUpd_"
      },
      "outputs": [],
      "source": [
        "# TODO plot accuracies\n",
        "plot('Epoch vs. Accuracy', 'Accuracy', train_accs, val_accs)"
      ]
    },
    {
      "attachments": {},
      "cell_type": "markdown",
      "id": "J8HbVqiUznBu",
      "metadata": {
        "id": "J8HbVqiUznBu"
      },
      "source": [
        "**TODO:** Did your network perform better or worse than the GradientBoostingClassifier on this dataset? Why? \n"
      ]
    },
    {
      "attachments": {},
      "cell_type": "markdown",
      "id": "cc0f5f87",
      "metadata": {
        "id": "cc0f5f87"
      },
      "source": [
        "## Bonus tasks (optional)\n",
        "* Try to use SGD instead of Adam as optimiser. What do you notice?\n",
        "Here are different opinions on this topic:\n",
        "  * https://codeahoy.com/questions/ds-interview/33/#:~:text=Adam%20tends%20to%20converge%20faster,converges%20to%20more%20optimal%20solutions.\n",
        "  * https://shaoanlu.wordpress.com/2017/05/29/sgd-all-which-one-is-the-best-optimizer-dogs-vs-cats-toy-experiment/ \n",
        "  * https://datascience.stackexchange.com/questions/30344/why-not-always-use-the-adam-optimization-technique\n",
        "\n",
        "* Try to make your MLP twice deeper. What do you notice? Why?\n",
        "\n",
        "## Advanced topic to read about:\n",
        "**Tools which may be helpful for data exploration:**\n",
        "* df.describe() - returns some basic statistics for your dataset - https://pandas.pydata.org/docs/reference/api/pandas.DataFrame.describe.html\n",
        "* ydata-profiling (previous pandas-profiling) - generates interactive data exploration report: basic statistics, nans, correlations between different features - https://github.com/ydataai/ydata-profiling\n",
        "\n",
        "**Tree libraries**\n",
        "* XGBoost - XGBoost stands for “Extreme Gradient Boosting”, where the term “Gradient Boosting” originates from the paper Greedy Function Approximation: A Gradient Boosting Machine, by Friedman. https://xgboost.readthedocs.io/en/stable/tutorials/model.html\n",
        "* LightGBM - industrial library for XGBoost from Miscrosoft. LightGBM is a gradient boosting framework that uses tree based learning algorithms. It is designed to be distributed and efficient. https://lightgbm.readthedocs.io/en/v3.3.2/"
      ]
    },
    {
      "attachments": {},
      "cell_type": "markdown",
      "id": "fc6bdb0a",
      "metadata": {},
      "source": []
    }
  ],
  "metadata": {
    "accelerator": "GPU",
    "colab": {
      "gpuType": "T4",
      "provenance": []
    },
    "kernelspec": {
      "display_name": "Python 3",
      "language": "python",
      "name": "python3"
    },
    "language_info": {
      "codemirror_mode": {
        "name": "ipython",
        "version": 3
      },
      "file_extension": ".py",
      "mimetype": "text/x-python",
      "name": "python",
      "nbconvert_exporter": "python",
      "pygments_lexer": "ipython3",
      "version": "3.11.3"
    },
    "vscode": {
      "interpreter": {
        "hash": "31f2aee4e71d21fbe5cf8b01ff0e069b9275f58929596ceb00d14d90e3e16cd6"
      }
    }
  },
  "nbformat": 4,
  "nbformat_minor": 5
}
